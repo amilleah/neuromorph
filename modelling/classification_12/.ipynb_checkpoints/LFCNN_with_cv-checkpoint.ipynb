{
 "cells": [
  {
   "cell_type": "code",
   "execution_count": null,
   "id": "ac210655-3d5f-4e89-8a69-936812ba7a69",
   "metadata": {},
   "outputs": [],
   "source": [
    "import numpy as np\n",
    "\n",
    "import mne\n",
    "mne.set_log_level(verbose='CRITICAL')\n",
    "from mne.datasets import multimodal\n",
    "\n",
    "import os\n",
    "import glob\n",
    "os.environ['TF_CPP_MIN_LOG_LEVEL'] = '3'\n",
    "\n",
    "import tensorflow as tf\n",
    "tf.get_logger().setLevel('ERROR')\n",
    "tf.autograph.set_verbosity(0)\n",
    "\n",
    "import mneflow\n",
    "print(mneflow.__version__)"
   ]
  },
  {
   "cell_type": "code",
   "execution_count": null,
   "id": "1f097b5f-9739-4247-806b-d5c7cebdde1d",
   "metadata": {},
   "outputs": [],
   "source": [
    "root = '/scratch/alr664/multiple_affix'\n",
    "meg = root + '/meg'\n",
    "logs = root + '/logs'\n",
    "\n",
    "full_dataset = [\"A0394\", \"A0421\", \"A0446\", \"A0451\", \"A0468\", \"A0484\", \"A0495\", \"A0502\", \"A0503\", \"A0508\", \n",
    "                \"A0509\", \"A0512\", \"A0513\", \"A0514\", \"A0516\", \"A0517\", \"A0518\", \"A0519\", \"A0520\", \"A0521\", \n",
    "                \"A0522\", \"A0523\", \"A0524\", \"A0525\"]"
   ]
  },
  {
   "cell_type": "code",
   "execution_count": null,
   "id": "916c4e7f-a014-4624-b643-280ff54f1fbf",
   "metadata": {},
   "outputs": [],
   "source": [
    "subjects = [subj for subj in os.listdir(meg) if not subj.startswith('.')]\n",
    "subjects\n",
    "len(subjects)"
   ]
  },
  {
   "cell_type": "code",
   "execution_count": null,
   "id": "fb7a998c-696f-4ade-a670-c165a7e332d3",
   "metadata": {},
   "outputs": [],
   "source": [
    "epochs_list = []\n",
    "\n",
    "for subject in full_dataset:\n",
    "    subj_epoch_path = meg + '/' + subject + '/' + subject + '_rejection-epo.fif'\n",
    "    print(subj_epoch_path)\n",
    "    subj_epoch = mne.read_epochs(subj_epoch_path)\n",
    "    subj_epoch = subj_epoch.resample(125)\n",
    "    subj_epoch_mag = subj_epoch.pick_types(meg='mag')\n",
    "    epochs_list.append(subj_epoch_mag)\n",
    "\n",
    "epochs = mne.concatenate_epochs(epochs_list, on_mismatch='ignore')"
   ]
  },
  {
   "cell_type": "code",
   "execution_count": null,
   "id": "04049933-ee12-49e6-b4dc-04e353d8230d",
   "metadata": {},
   "outputs": [],
   "source": [
    "epochs.get_data().shape"
   ]
  },
  {
   "cell_type": "code",
   "execution_count": null,
   "id": "b17069fc-5be6-4982-b4ef-9d6f884fea21",
   "metadata": {},
   "outputs": [],
   "source": [
    "epochs.event_id"
   ]
  },
  {
   "cell_type": "code",
   "execution_count": null,
   "id": "1a66e4df-264f-4a75-a56c-354dfaa4eddb",
   "metadata": {},
   "outputs": [],
   "source": [
    "from collections import Counter\n",
    "Counter([event[2] for event in epochs.events])"
   ]
  },
  {
   "cell_type": "code",
   "execution_count": null,
   "id": "bd40ef68-adc8-41b8-9ecf-fe6c39ab27e4",
   "metadata": {},
   "outputs": [],
   "source": [
    "epochs.times"
   ]
  },
  {
   "cell_type": "code",
   "execution_count": null,
   "id": "f98c7849-ce4b-4bd4-8e8f-ae3e67ead696",
   "metadata": {},
   "outputs": [],
   "source": [
    "epochs = epochs.crop(tmin=0. , tmax= 0.6)"
   ]
  },
  {
   "cell_type": "code",
   "execution_count": null,
   "id": "4b86e437-8083-4c82-82bb-5fdadbc16f06",
   "metadata": {},
   "outputs": [],
   "source": [
    "epochs.times"
   ]
  },
  {
   "cell_type": "code",
   "execution_count": null,
   "id": "1f7b2012-2497-4c69-b0bd-c81827ed7238",
   "metadata": {},
   "outputs": [],
   "source": [
    "epochs.get_data().shape"
   ]
  },
  {
   "cell_type": "code",
   "execution_count": null,
   "id": "f3ba65ae-8fa8-457a-8ea4-3e177e39f1a6",
   "metadata": {},
   "outputs": [],
   "source": [
    "path = './data/'\n",
    "data_id = 'meg_epochs_12'\n",
    "\n",
    "import_opt = dict(path=path,\n",
    "                  data_id=data_id,\n",
    "                  input_type='trials',\n",
    "                  target_type='int',\n",
    "                  n_folds= 5,\n",
    "                  test_set = 'holdout',\n",
    "                  overwrite=True,\n",
    "                  picks={'meg':'grad'},\n",
    "                  scale=False,\n",
    "                  crop_baseline=False,\n",
    "                  decimate=None,\n",
    "                  )"
   ]
  },
  {
   "cell_type": "code",
   "execution_count": null,
   "id": "41f37ce1-17d6-4829-9a9c-ff8f75b905ba",
   "metadata": {},
   "outputs": [],
   "source": [
    "meta = mneflow.produce_tfrecords(epochs, **import_opt)"
   ]
  },
  {
   "cell_type": "code",
   "execution_count": null,
   "id": "3cf57c5b-554d-449e-bc18-80f2235dabec",
   "metadata": {},
   "outputs": [],
   "source": [
    "dataset = mneflow.Dataset(meta, train_batch=64)"
   ]
  },
  {
   "cell_type": "code",
   "execution_count": null,
   "id": "0a01d504-2b7f-4ea9-a09a-dd9043680ae2",
   "metadata": {},
   "outputs": [],
   "source": [
    "lfcnn_params = dict(n_latent=32,\n",
    "                  filter_length=7,\n",
    "                  nonlin = tf.nn.relu,\n",
    "                  padding = 'SAME',\n",
    "                  pooling = 2,\n",
    "                  pool_type='max',\n",
    "                  dropout = .5,\n",
    "                  l1_scope = [\"weights\"],\n",
    "                  l1=3e-4)\n",
    "\n",
    "meta.update(model_specs=lfcnn_params)\n",
    "\n",
    "model = mneflow.models.LFCNN(meta)\n",
    "model.build()"
   ]
  },
  {
   "cell_type": "code",
   "execution_count": null,
   "id": "4c997a4f-908b-445a-a5b2-d18d3e949fef",
   "metadata": {},
   "outputs": [],
   "source": [
    "model.train(n_epochs=20, eval_step=50, mode='cv')"
   ]
  },
  {
   "cell_type": "code",
   "execution_count": null,
   "id": "920215b3-5e75-45ff-80f2-b2004c47f0a3",
   "metadata": {},
   "outputs": [],
   "source": [
    "test_loss, test_acc = model.evaluate(meta.data['test_paths'])\n",
    "print(\"Test set: Loss = {:.4f} Accuracy = {:.4f}\".format(test_loss, test_acc))"
   ]
  }
 ],
 "metadata": {
  "kernelspec": {
   "display_name": "aifsr_env",
   "language": "python",
   "name": "aifsr_env"
  },
  "language_info": {
   "codemirror_mode": {
    "name": "ipython",
    "version": 3
   },
   "file_extension": ".py",
   "mimetype": "text/x-python",
   "name": "python",
   "nbconvert_exporter": "python",
   "pygments_lexer": "ipython3",
   "version": "3.12.1"
  }
 },
 "nbformat": 4,
 "nbformat_minor": 5
}
