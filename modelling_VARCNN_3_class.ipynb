{
 "cells": [
  {
   "cell_type": "code",
   "execution_count": 1,
   "id": "ac210655-3d5f-4e89-8a69-936812ba7a69",
   "metadata": {},
   "outputs": [
    {
     "name": "stdout",
     "output_type": "stream",
     "text": [
      "0.5.6\n"
     ]
    }
   ],
   "source": [
    "import numpy as np\n",
    "\n",
    "import mne\n",
    "mne.set_log_level(verbose='CRITICAL')\n",
    "from mne.datasets import multimodal\n",
    "\n",
    "import os\n",
    "import glob\n",
    "os.environ['TF_CPP_MIN_LOG_LEVEL'] = '3'\n",
    "\n",
    "import tensorflow as tf\n",
    "tf.get_logger().setLevel('ERROR')\n",
    "tf.autograph.set_verbosity(0)\n",
    "\n",
    "import mneflow\n",
    "print(mneflow.__version__)"
   ]
  },
  {
   "cell_type": "code",
   "execution_count": 2,
   "id": "1f097b5f-9739-4247-806b-d5c7cebdde1d",
   "metadata": {},
   "outputs": [],
   "source": [
    "root = '/scratch/alr664/multiple_affix'\n",
    "meg = root + '/meg'\n",
    "logs = root + '/logs'\n",
    "\n",
    "full_dataset = [\"A0394\", \"A0421\", \"A0446\", \"A0451\", \"A0468\", \"A0484\", \"A0495\", \"A0502\", \"A0503\", \"A0508\", \n",
    "                \"A0509\", \"A0512\", \"A0513\", \"A0514\", \"A0516\", \"A0517\", \"A0518\", \"A0519\", \"A0520\", \"A0521\", \n",
    "                \"A0522\", \"A0523\", \"A0524\", \"A0525\"]"
   ]
  },
  {
   "cell_type": "code",
   "execution_count": 4,
   "id": "916c4e7f-a014-4624-b643-280ff54f1fbf",
   "metadata": {},
   "outputs": [
    {
     "data": {
      "text/plain": [
       "['A0522',\n",
       " 'A0508',\n",
       " 'A0518',\n",
       " 'A0514',\n",
       " 'A0503',\n",
       " 'A0484',\n",
       " 'A0524',\n",
       " 'A0516',\n",
       " 'A0512',\n",
       " 'A0520',\n",
       " 'A0468',\n",
       " 'A0495',\n",
       " 'A0451',\n",
       " 'A0517',\n",
       " 'A0513',\n",
       " 'A0525',\n",
       " 'A0421',\n",
       " 'A0502',\n",
       " 'A0519',\n",
       " 'A0521',\n",
       " 'A0446',\n",
       " 'A0523',\n",
       " 'A0394',\n",
       " 'A0509']"
      ]
     },
     "execution_count": 4,
     "metadata": {},
     "output_type": "execute_result"
    }
   ],
   "source": [
    "subjects = [subj for subj in os.listdir(meg) if not subj.startswith('.')]\n",
    "subjects\n",
    "#len(subjects)"
   ]
  },
  {
   "cell_type": "code",
   "execution_count": 4,
   "id": "fb7a998c-696f-4ade-a670-c165a7e332d3",
   "metadata": {},
   "outputs": [
    {
     "name": "stdout",
     "output_type": "stream",
     "text": [
      "/scratch/alr664/multiple_affix/meg/A0394/A0394_rejection-epo.fif\n",
      "/scratch/alr664/multiple_affix/meg/A0421/A0421_rejection-epo.fif\n",
      "/scratch/alr664/multiple_affix/meg/A0446/A0446_rejection-epo.fif\n",
      "/scratch/alr664/multiple_affix/meg/A0451/A0451_rejection-epo.fif\n",
      "/scratch/alr664/multiple_affix/meg/A0468/A0468_rejection-epo.fif\n",
      "/scratch/alr664/multiple_affix/meg/A0484/A0484_rejection-epo.fif\n",
      "/scratch/alr664/multiple_affix/meg/A0495/A0495_rejection-epo.fif\n",
      "/scratch/alr664/multiple_affix/meg/A0502/A0502_rejection-epo.fif\n",
      "/scratch/alr664/multiple_affix/meg/A0503/A0503_rejection-epo.fif\n",
      "/scratch/alr664/multiple_affix/meg/A0508/A0508_rejection-epo.fif\n",
      "/scratch/alr664/multiple_affix/meg/A0509/A0509_rejection-epo.fif\n",
      "/scratch/alr664/multiple_affix/meg/A0512/A0512_rejection-epo.fif\n",
      "/scratch/alr664/multiple_affix/meg/A0513/A0513_rejection-epo.fif\n",
      "/scratch/alr664/multiple_affix/meg/A0514/A0514_rejection-epo.fif\n",
      "/scratch/alr664/multiple_affix/meg/A0516/A0516_rejection-epo.fif\n",
      "/scratch/alr664/multiple_affix/meg/A0517/A0517_rejection-epo.fif\n",
      "/scratch/alr664/multiple_affix/meg/A0518/A0518_rejection-epo.fif\n",
      "/scratch/alr664/multiple_affix/meg/A0519/A0519_rejection-epo.fif\n",
      "/scratch/alr664/multiple_affix/meg/A0520/A0520_rejection-epo.fif\n",
      "/scratch/alr664/multiple_affix/meg/A0521/A0521_rejection-epo.fif\n",
      "/scratch/alr664/multiple_affix/meg/A0522/A0522_rejection-epo.fif\n",
      "/scratch/alr664/multiple_affix/meg/A0523/A0523_rejection-epo.fif\n",
      "/scratch/alr664/multiple_affix/meg/A0524/A0524_rejection-epo.fif\n",
      "/scratch/alr664/multiple_affix/meg/A0525/A0525_rejection-epo.fif\n",
      "Done!\n",
      "Done!.\n"
     ]
    }
   ],
   "source": [
    "epochs_list = []\n",
    "\n",
    "for subject in full_dataset:\n",
    "    subj_epoch_path = meg + '/' + subject + '/' + subject + '_rejection-epo.fif'\n",
    "    print(subj_epoch_path)\n",
    "    subj_epoch = mne.read_epochs(subj_epoch_path)\n",
    "    subj_epoch_mag = subj_epoch.pick_types(meg='mag')\n",
    "    epochs_list.append(subj_epoch)\n",
    "\n",
    "print(\"Done!\")\n",
    "\n",
    "epochs = mne.concatenate_epochs(epochs_list, on_mismatch='ignore')\n",
    "\n",
    "print(\"Done!.\")"
   ]
  },
  {
   "cell_type": "code",
   "execution_count": null,
   "id": "b17069fc-5be6-4982-b4ef-9d6f884fea21",
   "metadata": {},
   "outputs": [],
   "source": [
    "epochs.event_id\n",
    "epochs = mne.epochs.combine_event_ids(epochs, ['0Suff NW', '1Suff PseudoStemNW', '1Suff RealStemNW', '2Suff RealStemNW', '2Suff PseudoStemNW'],  {'NW': 100},  True)\n",
    "epochs = mne.epochs.combine_event_ids(epochs, ['1Suff w/ Lat.', '0Suff w/ Lat','0Suff w/o Lat.', '1Suff w/o Lat.', '2Suff w/ Lat.', '2Suff w/o Lat.', '2Suff Composite'],  {'W': 101},  True)\n",
    "epochs.event_id"
   ]
  },
  {
   "cell_type": "code",
   "execution_count": 5,
   "id": "e1db2d17-a545-4434-9fcf-b6a0bb209984",
   "metadata": {},
   "outputs": [],
   "source": [
    "epochs.event_id\n",
    "epochs = mne.epochs.combine_event_ids(epochs, ['0Suff NW', '0Suff w/o Lat.', '0Suff w/ Lat'],  {'0Suff': 100},  True)\n",
    "epochs = mne.epochs.combine_event_ids(epochs, ['1Suff PseudoStemNW', '1Suff RealStemNW', '1Suff w/ Lat.', '1Suff w/o Lat.'],  {'1Suff': 101},  True)\n",
    "epochs = mne.epochs.combine_event_ids(epochs, ['2Suff RealStemNW', '2Suff PseudoStemNW', '2Suff w/ Lat.', '2Suff w/o Lat.', '2Suff Composite'],  {'2Suff': 102},  True)"
   ]
  },
  {
   "cell_type": "code",
   "execution_count": 6,
   "id": "8eb7e501-84ae-4782-9757-b80e59ff0157",
   "metadata": {},
   "outputs": [
    {
     "data": {
      "text/plain": [
       "{'0Suff': 100, '1Suff': 101, '2Suff': 102}"
      ]
     },
     "execution_count": 6,
     "metadata": {},
     "output_type": "execute_result"
    }
   ],
   "source": [
    "epochs.event_id"
   ]
  },
  {
   "cell_type": "code",
   "execution_count": 7,
   "id": "1a66e4df-264f-4a75-a56c-354dfaa4eddb",
   "metadata": {},
   "outputs": [
    {
     "data": {
      "text/plain": [
       "Counter({102: 19296, 101: 13632, 100: 12336})"
      ]
     },
     "execution_count": 7,
     "metadata": {},
     "output_type": "execute_result"
    }
   ],
   "source": [
    "from collections import Counter\n",
    "Counter([event[2] for event in epochs.events])"
   ]
  },
  {
   "cell_type": "code",
   "execution_count": 8,
   "id": "bd40ef68-adc8-41b8-9ecf-fe6c39ab27e4",
   "metadata": {},
   "outputs": [
    {
     "data": {
      "text/plain": [
       "array([-0.096, -0.088, -0.08 , -0.072, -0.064, -0.056, -0.048, -0.04 ,\n",
       "       -0.032, -0.024, -0.016, -0.008,  0.   ,  0.008,  0.016,  0.024,\n",
       "        0.032,  0.04 ,  0.048,  0.056,  0.064,  0.072,  0.08 ,  0.088,\n",
       "        0.096,  0.104,  0.112,  0.12 ,  0.128,  0.136,  0.144,  0.152,\n",
       "        0.16 ,  0.168,  0.176,  0.184,  0.192,  0.2  ,  0.208,  0.216,\n",
       "        0.224,  0.232,  0.24 ,  0.248,  0.256,  0.264,  0.272,  0.28 ,\n",
       "        0.288,  0.296,  0.304,  0.312,  0.32 ,  0.328,  0.336,  0.344,\n",
       "        0.352,  0.36 ,  0.368,  0.376,  0.384,  0.392,  0.4  ,  0.408,\n",
       "        0.416,  0.424,  0.432,  0.44 ,  0.448,  0.456,  0.464,  0.472,\n",
       "        0.48 ,  0.488,  0.496,  0.504,  0.512,  0.52 ,  0.528,  0.536,\n",
       "        0.544,  0.552,  0.56 ,  0.568,  0.576,  0.584,  0.592,  0.6  ,\n",
       "        0.608,  0.616,  0.624,  0.632,  0.64 ,  0.648,  0.656,  0.664,\n",
       "        0.672,  0.68 ,  0.688,  0.696,  0.704,  0.712,  0.72 ,  0.728,\n",
       "        0.736,  0.744,  0.752,  0.76 ,  0.768,  0.776,  0.784,  0.792,\n",
       "        0.8  ])"
      ]
     },
     "execution_count": 8,
     "metadata": {},
     "output_type": "execute_result"
    }
   ],
   "source": [
    "epochs.times"
   ]
  },
  {
   "cell_type": "code",
   "execution_count": 9,
   "id": "f3ba65ae-8fa8-457a-8ea4-3e177e39f1a6",
   "metadata": {},
   "outputs": [],
   "source": [
    "path = './data/'\n",
    "data_id = 'meg_epochs'\n",
    "\n",
    "import_opt = dict(path=path,\n",
    "                  data_id=data_id,\n",
    "                  input_type='trials',\n",
    "                  target_type='int',\n",
    "                  n_folds= 5,\n",
    "                  test_set = 'holdout',\n",
    "                  overwrite=True,\n",
    "                  picks={'meg':'grad'},\n",
    "                  scale=False,\n",
    "                  crop_baseline=True,\n",
    "                  decimate=None,\n",
    "                  scale_interval=(0, 13),\n",
    "                  )"
   ]
  },
  {
   "cell_type": "code",
   "execution_count": 10,
   "id": "41f37ce1-17d6-4829-9a9c-ff8f75b905ba",
   "metadata": {},
   "outputs": [
    {
     "name": "stdout",
     "output_type": "stream",
     "text": [
      "processing epochs\n",
      "Input shapes: X (n, ch, t) :  (45264, 207, 113) y (n, [signal_channels], y_shape) :  (45264, 1) \n",
      " input_type :  trials target_type :  int segment_y :  False\n",
      "Preprocessing:\n",
      "n: 45264\n",
      "Splitting into: 6 folds x 7544\n",
      "Preprocessed: (45264, 1, 113, 207) (45264, 1) folds: 6 x 7544\n",
      "Preprocessed targets:  (45264, 1)\n",
      "Prepocessed sample shape: (1, 113, 207)\n",
      "Target shape actual/metadata:  (3,) (3,)\n",
      "Saving TFRecord# 0\n",
      "Updating: meta.data\n",
      "Updating: meta.preprocessing\n"
     ]
    }
   ],
   "source": [
    "meta = mneflow.produce_tfrecords(epochs, **import_opt)"
   ]
  },
  {
   "cell_type": "code",
   "execution_count": 11,
   "id": "3cf57c5b-554d-449e-bc18-80f2235dabec",
   "metadata": {},
   "outputs": [
    {
     "name": "stdout",
     "output_type": "stream",
     "text": [
      "Updating: meta.data\n"
     ]
    }
   ],
   "source": [
    "dataset = mneflow.Dataset(meta)"
   ]
  },
  {
   "cell_type": "code",
   "execution_count": 12,
   "id": "0a01d504-2b7f-4ea9-a09a-dd9043680ae2",
   "metadata": {},
   "outputs": [
    {
     "name": "stdout",
     "output_type": "stream",
     "text": [
      "Updating: meta.model_specs\n",
      "Updating: meta.data\n",
      "Setting reg for dmx, to l1\n",
      "Built: dmx input: (None, 1, 113, 207)\n",
      "Setting reg for tconv, to l1\n",
      "Built: tconv input: (None, 1, 113, 32)\n",
      "Setting reg for fc, to l1\n",
      "Built: fc input: (None, 1, 57, 32)\n",
      "Input shape: (1, 113, 207)\n",
      "y_pred: (None, 3)\n",
      "Initialization complete!\n"
     ]
    }
   ],
   "source": [
    "lfcnn_params = dict(n_latent=32,\n",
    "                  filter_length=7,\n",
    "                  nonlin = tf.nn.relu,\n",
    "                  padding = 'SAME',\n",
    "                  pooling = 2,\n",
    "                  pool_type='max',\n",
    "                  dropout = .5,\n",
    "                  l1_scope = [\"weights\"],\n",
    "                  l1=3e-4)\n",
    "\n",
    "meta.update(model_specs=lfcnn_params)\n",
    "\n",
    "model = mneflow.models.LFCNN(meta)\n",
    "model.build()"
   ]
  },
  {
   "cell_type": "code",
   "execution_count": 13,
   "id": "4c997a4f-908b-445a-a5b2-d18d3e949fef",
   "metadata": {},
   "outputs": [
    {
     "name": "stdout",
     "output_type": "stream",
     "text": [
      "Updating: meta.train_params\n",
      "Class weights:  None\n",
      "Running cross-validation with 5 folds\n",
      "fold: 0\n",
      "Epoch 1/20\n",
      "50/50 - 9s - 189ms/step - cat_ACC: 0.4060 - loss: 1.2981 - val_cat_ACC: 0.4199 - val_loss: 1.2737\n",
      "Epoch 2/20\n",
      "50/50 - 4s - 80ms/step - cat_ACC: 0.4100 - loss: 1.2699 - val_cat_ACC: 0.4199 - val_loss: 1.2476\n",
      "Epoch 3/20\n",
      "50/50 - 3s - 60ms/step - cat_ACC: 0.4360 - loss: 1.2307 - val_cat_ACC: 0.4199 - val_loss: 1.2259\n",
      "Epoch 4/20\n",
      "50/50 - 2s - 47ms/step - cat_ACC: 0.4080 - loss: 1.2190 - val_cat_ACC: 0.4199 - val_loss: 1.2004\n",
      "Epoch 5/20\n",
      "50/50 - 2s - 47ms/step - cat_ACC: 0.4212 - loss: 1.1912 - val_cat_ACC: 0.4199 - val_loss: 1.1823\n",
      "Epoch 6/20\n",
      "50/50 - 3s - 51ms/step - cat_ACC: 0.4372 - loss: 1.1746 - val_cat_ACC: 0.4199 - val_loss: 1.1658\n",
      "Epoch 7/20\n",
      "50/50 - 3s - 56ms/step - cat_ACC: 0.4128 - loss: 1.1636 - val_cat_ACC: 0.4199 - val_loss: 1.1531\n",
      "Epoch 8/20\n",
      "50/50 - 3s - 65ms/step - cat_ACC: 0.4188 - loss: 1.1525 - val_cat_ACC: 0.4199 - val_loss: 1.1422\n",
      "Epoch 9/20\n",
      "50/50 - 3s - 57ms/step - cat_ACC: 0.4152 - loss: 1.1402 - val_cat_ACC: 0.4199 - val_loss: 1.1327\n",
      "Epoch 10/20\n",
      "50/50 - 2s - 46ms/step - cat_ACC: 0.4324 - loss: 1.1289 - val_cat_ACC: 0.4199 - val_loss: 1.1277\n",
      "Epoch 11/20\n",
      "50/50 - 2s - 44ms/step - cat_ACC: 0.4281 - loss: 1.1284 - val_cat_ACC: 0.4199 - val_loss: 1.1236\n",
      "Epoch 12/20\n",
      "50/50 - 3s - 53ms/step - cat_ACC: 0.4176 - loss: 1.1299 - val_cat_ACC: 0.4199 - val_loss: 1.1231\n",
      "Epoch 13/20\n",
      "50/50 - 3s - 59ms/step - cat_ACC: 0.4420 - loss: 1.1129 - val_cat_ACC: 0.4199 - val_loss: 1.1249\n",
      "Epoch 14/20\n",
      "50/50 - 2s - 48ms/step - cat_ACC: 0.4140 - loss: 1.1267 - val_cat_ACC: 0.4199 - val_loss: 1.1215\n",
      "Epoch 15/20\n",
      "50/50 - 2s - 48ms/step - cat_ACC: 0.4236 - loss: 1.1203 - val_cat_ACC: 0.4199 - val_loss: 1.1196\n",
      "Epoch 16/20\n",
      "50/50 - 3s - 50ms/step - cat_ACC: 0.4436 - loss: 1.1120 - val_cat_ACC: 0.4199 - val_loss: 1.1186\n",
      "Epoch 17/20\n",
      "50/50 - 2s - 42ms/step - cat_ACC: 0.4208 - loss: 1.1186 - val_cat_ACC: 0.4199 - val_loss: 1.1183\n",
      "Epoch 18/20\n",
      "50/50 - 2s - 42ms/step - cat_ACC: 0.4256 - loss: 1.1199 - val_cat_ACC: 0.4199 - val_loss: 1.1169\n",
      "Epoch 19/20\n",
      "50/50 - 2s - 42ms/step - cat_ACC: 0.4168 - loss: 1.1209 - val_cat_ACC: 0.4199 - val_loss: 1.1157\n",
      "Epoch 20/20\n",
      "50/50 - 2s - 42ms/step - cat_ACC: 0.4356 - loss: 1.1092 - val_cat_ACC: 0.4199 - val_loss: 1.1167\n",
      "Test performance:\n",
      "                          Loss: 1.1146 \n",
      "                          Metric: 0.4274\n",
      "\u001b[1m196/196\u001b[0m \u001b[32m━━━━━━━━━━━━━━━━━━━━\u001b[0m\u001b[37m\u001b[0m \u001b[1m0s\u001b[0m 1ms/step\n",
      "Re-shuffling weights between folds\n",
      "Fold: 0 Validation performance:\n",
      "\n",
      "                      Loss: 1.1157, \n",
      "                      Metric: 0.4199\n",
      "fold: 1\n",
      "Epoch 1/20\n",
      "50/50 - 2s - 49ms/step - cat_ACC: 0.4076 - loss: 1.1233 - val_cat_ACC: 0.4369 - val_loss: 1.1095\n",
      "Epoch 2/20\n",
      "50/50 - 2s - 43ms/step - cat_ACC: 0.4200 - loss: 1.1162 - val_cat_ACC: 0.4369 - val_loss: 1.1087\n",
      "Epoch 3/20\n",
      "50/50 - 2s - 43ms/step - cat_ACC: 0.4244 - loss: 1.1138 - val_cat_ACC: 0.4369 - val_loss: 1.1067\n",
      "Epoch 4/20\n",
      "50/50 - 2s - 42ms/step - cat_ACC: 0.4280 - loss: 1.1107 - val_cat_ACC: 0.4369 - val_loss: 1.1062\n",
      "Epoch 5/20\n",
      "50/50 - 2s - 42ms/step - cat_ACC: 0.4220 - loss: 1.1097 - val_cat_ACC: 0.4369 - val_loss: 1.1064\n",
      "Epoch 6/20\n",
      "50/50 - 2s - 42ms/step - cat_ACC: 0.4324 - loss: 1.1090 - val_cat_ACC: 0.4369 - val_loss: 1.1036\n",
      "Epoch 7/20\n",
      "50/50 - 2s - 42ms/step - cat_ACC: 0.4176 - loss: 1.1119 - val_cat_ACC: 0.4369 - val_loss: 1.1025\n",
      "Epoch 8/20\n",
      "50/50 - 2s - 42ms/step - cat_ACC: 0.4292 - loss: 1.1077 - val_cat_ACC: 0.4369 - val_loss: 1.1029\n",
      "Epoch 9/20\n",
      "50/50 - 2s - 42ms/step - cat_ACC: 0.4120 - loss: 1.1123 - val_cat_ACC: 0.4369 - val_loss: 1.1023\n",
      "Epoch 10/20\n",
      "50/50 - 2s - 42ms/step - cat_ACC: 0.4252 - loss: 1.1065 - val_cat_ACC: 0.4369 - val_loss: 1.1001\n",
      "Epoch 11/20\n",
      "50/50 - 2s - 42ms/step - cat_ACC: 0.4166 - loss: 1.1082 - val_cat_ACC: 0.4369 - val_loss: 1.1006\n",
      "Epoch 12/20\n",
      "50/50 - 2s - 42ms/step - cat_ACC: 0.4180 - loss: 1.1083 - val_cat_ACC: 0.4369 - val_loss: 1.0993\n",
      "Epoch 13/20\n",
      "50/50 - 2s - 42ms/step - cat_ACC: 0.4260 - loss: 1.1030 - val_cat_ACC: 0.4369 - val_loss: 1.0971\n",
      "Epoch 14/20\n",
      "50/50 - 2s - 42ms/step - cat_ACC: 0.4240 - loss: 1.1039 - val_cat_ACC: 0.4369 - val_loss: 1.0974\n",
      "Epoch 15/20\n",
      "50/50 - 2s - 42ms/step - cat_ACC: 0.4256 - loss: 1.0996 - val_cat_ACC: 0.4369 - val_loss: 1.0973\n",
      "Epoch 16/20\n",
      "50/50 - 2s - 42ms/step - cat_ACC: 0.4324 - loss: 1.0963 - val_cat_ACC: 0.4369 - val_loss: 1.0948\n",
      "Epoch 17/20\n",
      "50/50 - 2s - 42ms/step - cat_ACC: 0.4200 - loss: 1.1024 - val_cat_ACC: 0.4369 - val_loss: 1.0938\n",
      "Epoch 18/20\n",
      "50/50 - 2s - 42ms/step - cat_ACC: 0.4292 - loss: 1.0982 - val_cat_ACC: 0.4369 - val_loss: 1.0939\n",
      "Epoch 19/20\n",
      "50/50 - 2s - 42ms/step - cat_ACC: 0.4100 - loss: 1.1048 - val_cat_ACC: 0.4369 - val_loss: 1.0934\n",
      "Epoch 20/20\n",
      "50/50 - 2s - 42ms/step - cat_ACC: 0.4268 - loss: 1.0982 - val_cat_ACC: 0.4369 - val_loss: 1.0918\n",
      "Test performance:\n",
      "                          Loss: 1.0970 \n",
      "                          Metric: 0.4274\n",
      "\u001b[1m196/196\u001b[0m \u001b[32m━━━━━━━━━━━━━━━━━━━━\u001b[0m\u001b[37m\u001b[0m \u001b[1m0s\u001b[0m 1ms/step\n",
      "Re-shuffling weights between folds\n",
      "Fold: 1 Validation performance:\n",
      "\n",
      "                      Loss: 1.0918, \n",
      "                      Metric: 0.4369\n",
      "fold: 2\n",
      "Epoch 1/20\n",
      "50/50 - 2s - 49ms/step - cat_ACC: 0.4168 - loss: 1.1003 - val_cat_ACC: 0.4121 - val_loss: 1.1015\n",
      "Epoch 2/20\n",
      "50/50 - 2s - 42ms/step - cat_ACC: 0.4268 - loss: 1.0957 - val_cat_ACC: 0.4121 - val_loss: 1.0999\n",
      "Epoch 3/20\n",
      "50/50 - 2s - 42ms/step - cat_ACC: 0.4376 - loss: 1.0924 - val_cat_ACC: 0.4121 - val_loss: 1.1046\n",
      "Test performance:\n",
      "                          Loss: 1.0965 \n",
      "                          Metric: 0.4274\n",
      "\u001b[1m197/197\u001b[0m \u001b[32m━━━━━━━━━━━━━━━━━━━━\u001b[0m\u001b[37m\u001b[0m \u001b[1m0s\u001b[0m 1ms/step\n",
      "Re-shuffling weights between folds\n",
      "Fold: 2 Validation performance:\n",
      "\n",
      "                      Loss: 1.1015, \n",
      "                      Metric: 0.4121\n",
      "fold: 3\n",
      "Epoch 1/20\n",
      "50/50 - 5s - 92ms/step - cat_ACC: 0.4236 - loss: 1.1007 - val_cat_ACC: 0.4219 - val_loss: 1.0978\n",
      "Epoch 2/20\n",
      "50/50 - 4s - 72ms/step - cat_ACC: 0.4200 - loss: 1.0992 - val_cat_ACC: 0.4219 - val_loss: 1.0970\n",
      "Epoch 3/20\n",
      "50/50 - 4s - 88ms/step - cat_ACC: 0.4392 - loss: 1.0896 - val_cat_ACC: 0.4219 - val_loss: 1.1013\n",
      "Test performance:\n",
      "                          Loss: 1.0962 \n",
      "                          Metric: 0.4274\n",
      "\u001b[1m196/196\u001b[0m \u001b[32m━━━━━━━━━━━━━━━━━━━━\u001b[0m\u001b[37m\u001b[0m \u001b[1m0s\u001b[0m 1ms/step\n",
      "Re-shuffling weights between folds\n",
      "Fold: 3 Validation performance:\n",
      "\n",
      "                      Loss: 1.0978, \n",
      "                      Metric: 0.4219\n",
      "fold: 4\n",
      "Epoch 1/20\n",
      "50/50 - 2s - 49ms/step - cat_ACC: 0.4124 - loss: 1.1036 - val_cat_ACC: 0.4368 - val_loss: 1.0941\n",
      "Epoch 2/20\n",
      "50/50 - 2s - 43ms/step - cat_ACC: 0.4232 - loss: 1.0985 - val_cat_ACC: 0.4368 - val_loss: 1.0908\n",
      "Epoch 3/20\n",
      "50/50 - 2s - 42ms/step - cat_ACC: 0.4300 - loss: 1.0947 - val_cat_ACC: 0.4368 - val_loss: 1.0901\n",
      "Epoch 4/20\n",
      "50/50 - 2s - 42ms/step - cat_ACC: 0.4272 - loss: 1.0952 - val_cat_ACC: 0.4368 - val_loss: 1.0892\n",
      "Epoch 5/20\n",
      "50/50 - 2s - 43ms/step - cat_ACC: 0.4244 - loss: 1.0921 - val_cat_ACC: 0.4368 - val_loss: 1.0899\n",
      "Epoch 6/20\n",
      "50/50 - 2s - 42ms/step - cat_ACC: 0.4204 - loss: 1.0959 - val_cat_ACC: 0.4368 - val_loss: 1.0883\n",
      "Epoch 7/20\n",
      "50/50 - 2s - 42ms/step - cat_ACC: 0.4172 - loss: 1.0954 - val_cat_ACC: 0.4368 - val_loss: 1.0868\n",
      "Epoch 8/20\n",
      "50/50 - 2s - 42ms/step - cat_ACC: 0.4240 - loss: 1.0927 - val_cat_ACC: 0.4368 - val_loss: 1.0875\n",
      "Epoch 9/20\n",
      "50/50 - 2s - 43ms/step - cat_ACC: 0.4188 - loss: 1.0950 - val_cat_ACC: 0.4368 - val_loss: 1.0872\n",
      "Epoch 10/20\n",
      "50/50 - 2s - 42ms/step - cat_ACC: 0.4236 - loss: 1.0913 - val_cat_ACC: 0.4368 - val_loss: 1.0853\n",
      "Epoch 11/20\n",
      "50/50 - 2s - 42ms/step - cat_ACC: 0.4158 - loss: 1.0919 - val_cat_ACC: 0.4368 - val_loss: 1.0873\n",
      "Epoch 12/20\n",
      "50/50 - 2s - 42ms/step - cat_ACC: 0.4288 - loss: 1.0883 - val_cat_ACC: 0.4368 - val_loss: 1.0842\n",
      "Epoch 13/20\n",
      "50/50 - 2s - 42ms/step - cat_ACC: 0.4272 - loss: 1.0887 - val_cat_ACC: 0.4368 - val_loss: 1.0843\n",
      "Epoch 14/20\n",
      "50/50 - 2s - 42ms/step - cat_ACC: 0.4252 - loss: 1.0895 - val_cat_ACC: 0.4368 - val_loss: 1.0837\n",
      "Epoch 15/20\n",
      "50/50 - 2s - 42ms/step - cat_ACC: 0.4260 - loss: 1.0863 - val_cat_ACC: 0.4368 - val_loss: 1.0843\n",
      "Epoch 16/20\n",
      "50/50 - 2s - 42ms/step - cat_ACC: 0.4212 - loss: 1.0894 - val_cat_ACC: 0.4368 - val_loss: 1.0835\n",
      "Epoch 17/20\n",
      "50/50 - 2s - 42ms/step - cat_ACC: 0.4196 - loss: 1.0889 - val_cat_ACC: 0.4368 - val_loss: 1.0824\n",
      "Epoch 18/20\n",
      "50/50 - 2s - 42ms/step - cat_ACC: 0.4216 - loss: 1.0897 - val_cat_ACC: 0.4368 - val_loss: 1.0829\n",
      "Epoch 19/20\n",
      "50/50 - 2s - 42ms/step - cat_ACC: 0.4156 - loss: 1.0916 - val_cat_ACC: 0.4368 - val_loss: 1.0836\n",
      "Epoch 20/20\n",
      "50/50 - 2s - 42ms/step - cat_ACC: 0.4260 - loss: 1.0868 - val_cat_ACC: 0.4368 - val_loss: 1.0815\n",
      "Test performance:\n",
      "                          Loss: 1.0859 \n",
      "                          Metric: 0.4274\n",
      "\u001b[1m199/199\u001b[0m \u001b[32m━━━━━━━━━━━━━━━━━━━━\u001b[0m\u001b[37m\u001b[0m \u001b[1m0s\u001b[0m 1ms/step\n",
      "Fold: 4 Validation performance:\n",
      "\n",
      "                      Loss: 1.0815, \n",
      "                      Metric: 0.4368\n",
      "cv with 5 folds completed. Loss: 1.0976 +/- 0.0113. Metric: 0.4255 +/- 0.0098\n",
      "cv with 5 fold(s) completed. \n",
      "\n",
      "              Validation Performance: \n",
      "              Loss: 1.0976 +/- 0.0113.\n",
      "              Metric: 0.4255 +/- 0.0098\n",
      "\n",
      "\n",
      "              Test Performance: \n",
      "              Loss: 1.0980 +/- 0.0092.\n",
      "              Metric: 0.4274 +/- 0.0000\n",
      "Saving updated log to:  ./data/models\\/lfcnn_log.csv\n"
     ]
    }
   ],
   "source": [
    "model.train(n_epochs=20, eval_step=50, mode='cv')"
   ]
  },
  {
   "cell_type": "code",
   "execution_count": 14,
   "id": "920215b3-5e75-45ff-80f2-b2004c47f0a3",
   "metadata": {},
   "outputs": [
    {
     "name": "stdout",
     "output_type": "stream",
     "text": [
      "Test set: Loss = 1.0859 Accuracy = 0.4274\n"
     ]
    }
   ],
   "source": [
    "test_loss, test_acc = model.evaluate(meta.data['test_paths'])\n",
    "print(\"Test set: Loss = {:.4f} Accuracy = {:.4f}\".format(test_loss, test_acc))"
   ]
  },
  {
   "cell_type": "code",
   "execution_count": 15,
   "id": "7046a2b4-4947-48eb-bb93-db0f76fbe0f5",
   "metadata": {},
   "outputs": [
    {
     "name": "stdout",
     "output_type": "stream",
     "text": [
      "Updating: meta.data\n",
      "Setting reg for dmx, to l1\n",
      "Built: dmx input: (None, 1, 113, 207)\n",
      "input_shape: (None, 1, 113, 32)\n",
      "Setting reg for tconv, to l1\n",
      "Built: tconv input: (None, 1, 113, 32)\n",
      "Setting reg for fc, to l1\n",
      "Built: fc input: (None, 1, 57, 32)\n",
      "Input shape: (1, 113, 207)\n",
      "y_pred: (None, 3)\n",
      "Initialization complete!\n"
     ]
    }
   ],
   "source": [
    "model = mneflow.models.VARCNN(meta)\n",
    "model.build()"
   ]
  },
  {
   "cell_type": "code",
   "execution_count": 18,
   "id": "29227b31-c275-4a8c-9367-32c591836ab2",
   "metadata": {},
   "outputs": [
    {
     "name": "stdout",
     "output_type": "stream",
     "text": [
      "Updating: meta.train_params\n",
      "Class weights:  None\n",
      "Running cross-validation with 5 folds\n",
      "fold: 0\n",
      "Epoch 1/20\n",
      "50/50 - 5s - 93ms/step - cat_ACC: 0.4308 - loss: 1.1778 - val_cat_ACC: 0.4199 - val_loss: 1.1782\n",
      "Epoch 2/20\n",
      "50/50 - 3s - 67ms/step - cat_ACC: 0.4184 - loss: 1.1783 - val_cat_ACC: 0.4199 - val_loss: 1.1744\n",
      "Epoch 3/20\n",
      "50/50 - 2s - 42ms/step - cat_ACC: 0.4408 - loss: 1.1657 - val_cat_ACC: 0.4199 - val_loss: 1.1730\n",
      "Epoch 4/20\n",
      "50/50 - 2s - 42ms/step - cat_ACC: 0.4184 - loss: 1.1711 - val_cat_ACC: 0.4199 - val_loss: 1.1655\n",
      "Epoch 5/20\n",
      "50/50 - 2s - 42ms/step - cat_ACC: 0.4240 - loss: 1.1621 - val_cat_ACC: 0.4199 - val_loss: 1.1617\n",
      "Epoch 6/20\n",
      "50/50 - 2s - 43ms/step - cat_ACC: 0.4404 - loss: 1.1529 - val_cat_ACC: 0.4199 - val_loss: 1.1576\n",
      "Epoch 7/20\n",
      "50/50 - 2s - 42ms/step - cat_ACC: 0.4196 - loss: 1.1568 - val_cat_ACC: 0.4199 - val_loss: 1.1540\n",
      "Epoch 8/20\n",
      "50/50 - 2s - 43ms/step - cat_ACC: 0.4248 - loss: 1.1538 - val_cat_ACC: 0.4199 - val_loss: 1.1517\n",
      "Epoch 9/20\n",
      "50/50 - 2s - 42ms/step - cat_ACC: 0.4180 - loss: 1.1500 - val_cat_ACC: 0.4199 - val_loss: 1.1459\n",
      "Epoch 10/20\n",
      "50/50 - 2s - 42ms/step - cat_ACC: 0.4344 - loss: 1.1383 - val_cat_ACC: 0.4199 - val_loss: 1.1428\n",
      "Epoch 11/20\n",
      "50/50 - 2s - 42ms/step - cat_ACC: 0.4301 - loss: 1.1380 - val_cat_ACC: 0.4199 - val_loss: 1.1394\n",
      "Epoch 12/20\n",
      "50/50 - 2s - 43ms/step - cat_ACC: 0.4196 - loss: 1.1392 - val_cat_ACC: 0.4199 - val_loss: 1.1363\n",
      "Epoch 13/20\n",
      "50/50 - 2s - 42ms/step - cat_ACC: 0.4424 - loss: 1.1259 - val_cat_ACC: 0.4199 - val_loss: 1.1374\n",
      "Epoch 14/20\n",
      "50/50 - 2s - 42ms/step - cat_ACC: 0.4136 - loss: 1.1381 - val_cat_ACC: 0.4199 - val_loss: 1.1304\n",
      "Epoch 15/20\n",
      "50/50 - 2s - 42ms/step - cat_ACC: 0.4236 - loss: 1.1263 - val_cat_ACC: 0.4199 - val_loss: 1.1271\n",
      "Epoch 16/20\n",
      "50/50 - 2s - 42ms/step - cat_ACC: 0.4440 - loss: 1.1180 - val_cat_ACC: 0.4199 - val_loss: 1.1248\n",
      "Epoch 17/20\n",
      "50/50 - 2s - 43ms/step - cat_ACC: 0.4224 - loss: 1.1245 - val_cat_ACC: 0.4199 - val_loss: 1.1240\n",
      "Epoch 18/20\n",
      "50/50 - 2s - 42ms/step - cat_ACC: 0.4244 - loss: 1.1242 - val_cat_ACC: 0.4199 - val_loss: 1.1230\n",
      "Epoch 19/20\n",
      "50/50 - 2s - 42ms/step - cat_ACC: 0.4160 - loss: 1.1219 - val_cat_ACC: 0.4199 - val_loss: 1.1182\n",
      "Epoch 20/20\n",
      "50/50 - 2s - 42ms/step - cat_ACC: 0.4352 - loss: 1.1117 - val_cat_ACC: 0.4199 - val_loss: 1.1173\n",
      "Test performance:\n",
      "                          Loss: 1.1160 \n",
      "                          Metric: 0.4274\n",
      "\u001b[1m196/196\u001b[0m \u001b[32m━━━━━━━━━━━━━━━━━━━━\u001b[0m\u001b[37m\u001b[0m \u001b[1m0s\u001b[0m 1ms/step\n",
      "Re-shuffling weights between folds\n",
      "Fold: 0 Validation performance:\n",
      "\n",
      "                      Loss: 1.1173, \n",
      "                      Metric: 0.4199\n",
      "fold: 1\n",
      "Epoch 1/20\n",
      "50/50 - 2s - 50ms/step - cat_ACC: 0.4136 - loss: 1.1224 - val_cat_ACC: 0.4369 - val_loss: 1.1115\n",
      "Epoch 2/20\n",
      "50/50 - 2s - 42ms/step - cat_ACC: 0.4196 - loss: 1.1164 - val_cat_ACC: 0.4369 - val_loss: 1.1084\n",
      "Epoch 3/20\n",
      "50/50 - 2s - 42ms/step - cat_ACC: 0.4260 - loss: 1.1108 - val_cat_ACC: 0.4369 - val_loss: 1.1031\n",
      "Epoch 4/20\n",
      "50/50 - 2s - 43ms/step - cat_ACC: 0.4284 - loss: 1.1068 - val_cat_ACC: 0.4369 - val_loss: 1.1011\n",
      "Epoch 5/20\n",
      "50/50 - 2s - 42ms/step - cat_ACC: 0.4212 - loss: 1.1048 - val_cat_ACC: 0.4369 - val_loss: 1.1002\n",
      "Epoch 6/20\n",
      "50/50 - 2s - 43ms/step - cat_ACC: 0.4328 - loss: 1.0998 - val_cat_ACC: 0.4369 - val_loss: 1.0967\n",
      "Epoch 7/20\n",
      "50/50 - 2s - 43ms/step - cat_ACC: 0.4180 - loss: 1.1045 - val_cat_ACC: 0.4369 - val_loss: 1.0951\n",
      "Epoch 8/20\n",
      "50/50 - 2s - 43ms/step - cat_ACC: 0.4288 - loss: 1.0997 - val_cat_ACC: 0.4369 - val_loss: 1.0958\n",
      "Epoch 9/20\n",
      "50/50 - 2s - 43ms/step - cat_ACC: 0.4120 - loss: 1.1041 - val_cat_ACC: 0.4369 - val_loss: 1.0962\n",
      "Epoch 10/20\n",
      "50/50 - 2s - 43ms/step - cat_ACC: 0.4252 - loss: 1.0971 - val_cat_ACC: 0.4369 - val_loss: 1.0908\n",
      "Epoch 11/20\n",
      "50/50 - 2s - 43ms/step - cat_ACC: 0.4162 - loss: 1.0993 - val_cat_ACC: 0.4369 - val_loss: 1.0913\n",
      "Epoch 12/20\n",
      "50/50 - 2s - 43ms/step - cat_ACC: 0.4184 - loss: 1.0977 - val_cat_ACC: 0.4369 - val_loss: 1.0903\n",
      "Epoch 13/20\n",
      "50/50 - 2s - 42ms/step - cat_ACC: 0.4256 - loss: 1.0935 - val_cat_ACC: 0.4369 - val_loss: 1.0875\n",
      "Epoch 14/20\n",
      "50/50 - 2s - 43ms/step - cat_ACC: 0.4240 - loss: 1.0944 - val_cat_ACC: 0.4369 - val_loss: 1.0876\n",
      "Epoch 15/20\n",
      "50/50 - 2s - 42ms/step - cat_ACC: 0.4260 - loss: 1.0897 - val_cat_ACC: 0.4369 - val_loss: 1.0875\n",
      "Epoch 16/20\n",
      "50/50 - 2s - 42ms/step - cat_ACC: 0.4316 - loss: 1.0878 - val_cat_ACC: 0.4369 - val_loss: 1.0851\n",
      "Epoch 17/20\n",
      "50/50 - 2s - 43ms/step - cat_ACC: 0.4196 - loss: 1.0928 - val_cat_ACC: 0.4369 - val_loss: 1.0852\n",
      "Epoch 18/20\n",
      "50/50 - 2s - 43ms/step - cat_ACC: 0.4300 - loss: 1.0895 - val_cat_ACC: 0.4369 - val_loss: 1.0871\n",
      "Epoch 19/20\n",
      "50/50 - 2s - 43ms/step - cat_ACC: 0.4096 - loss: 1.0959 - val_cat_ACC: 0.4369 - val_loss: 1.0863\n",
      "Test performance:\n",
      "                          Loss: 1.0901 \n",
      "                          Metric: 0.4274\n",
      "\u001b[1m196/196\u001b[0m \u001b[32m━━━━━━━━━━━━━━━━━━━━\u001b[0m\u001b[37m\u001b[0m \u001b[1m0s\u001b[0m 1ms/step\n",
      "Re-shuffling weights between folds\n",
      "Fold: 1 Validation performance:\n",
      "\n",
      "                      Loss: 1.0851, \n",
      "                      Metric: 0.4369\n",
      "fold: 2\n",
      "Epoch 1/20\n",
      "50/50 - 2s - 49ms/step - cat_ACC: 0.4304 - loss: 1.0935 - val_cat_ACC: 0.4121 - val_loss: 1.0962\n",
      "Epoch 2/20\n",
      "50/50 - 2s - 42ms/step - cat_ACC: 0.4260 - loss: 1.0903 - val_cat_ACC: 0.4121 - val_loss: 1.0938\n",
      "Epoch 3/20\n",
      "50/50 - 2s - 42ms/step - cat_ACC: 0.4384 - loss: 1.0858 - val_cat_ACC: 0.4121 - val_loss: 1.1032\n",
      "Test performance:\n",
      "                          Loss: 1.0907 \n",
      "                          Metric: 0.4274\n",
      "\u001b[1m197/197\u001b[0m \u001b[32m━━━━━━━━━━━━━━━━━━━━\u001b[0m\u001b[37m\u001b[0m \u001b[1m0s\u001b[0m 1ms/step\n",
      "Re-shuffling weights between folds\n",
      "Fold: 2 Validation performance:\n",
      "\n",
      "                      Loss: 1.0962, \n",
      "                      Metric: 0.4121\n",
      "fold: 3\n",
      "Epoch 1/20\n",
      "50/50 - 2s - 50ms/step - cat_ACC: 0.4020 - loss: 1.0971 - val_cat_ACC: 0.4219 - val_loss: 1.0928\n",
      "Epoch 2/20\n",
      "50/50 - 2s - 42ms/step - cat_ACC: 0.4196 - loss: 1.0950 - val_cat_ACC: 0.4219 - val_loss: 1.0916\n",
      "Epoch 3/20\n",
      "50/50 - 2s - 42ms/step - cat_ACC: 0.4396 - loss: 1.0853 - val_cat_ACC: 0.4219 - val_loss: 1.0947\n",
      "Test performance:\n",
      "                          Loss: 1.0911 \n",
      "                          Metric: 0.4274\n",
      "\u001b[1m196/196\u001b[0m \u001b[32m━━━━━━━━━━━━━━━━━━━━\u001b[0m\u001b[37m\u001b[0m \u001b[1m0s\u001b[0m 1ms/step\n",
      "Re-shuffling weights between folds\n",
      "Fold: 3 Validation performance:\n",
      "\n",
      "                      Loss: 1.0928, \n",
      "                      Metric: 0.4219\n",
      "fold: 4\n",
      "Epoch 1/20\n",
      "50/50 - 2s - 49ms/step - cat_ACC: 0.3960 - loss: 1.1005 - val_cat_ACC: 0.4368 - val_loss: 1.0887\n",
      "Epoch 2/20\n",
      "50/50 - 2s - 42ms/step - cat_ACC: 0.4228 - loss: 1.0934 - val_cat_ACC: 0.4368 - val_loss: 1.0855\n",
      "Epoch 3/20\n",
      "50/50 - 2s - 43ms/step - cat_ACC: 0.4300 - loss: 1.0896 - val_cat_ACC: 0.4368 - val_loss: 1.0843\n",
      "Epoch 4/20\n",
      "50/50 - 2s - 42ms/step - cat_ACC: 0.4280 - loss: 1.0914 - val_cat_ACC: 0.4368 - val_loss: 1.0843\n",
      "Epoch 5/20\n",
      "50/50 - 2s - 43ms/step - cat_ACC: 0.4244 - loss: 1.0865 - val_cat_ACC: 0.4368 - val_loss: 1.0927\n",
      "Epoch 6/20\n",
      "50/50 - 2s - 42ms/step - cat_ACC: 0.4204 - loss: 1.0921 - val_cat_ACC: 0.4368 - val_loss: 1.0827\n",
      "Epoch 7/20\n",
      "50/50 - 2s - 42ms/step - cat_ACC: 0.4172 - loss: 1.0912 - val_cat_ACC: 0.4368 - val_loss: 1.0822\n",
      "Epoch 8/20\n",
      "50/50 - 2s - 42ms/step - cat_ACC: 0.4236 - loss: 1.0895 - val_cat_ACC: 0.4368 - val_loss: 1.0841\n",
      "Epoch 9/20\n",
      "50/50 - 2s - 42ms/step - cat_ACC: 0.4196 - loss: 1.0912 - val_cat_ACC: 0.4368 - val_loss: 1.0894\n",
      "Epoch 10/20\n",
      "50/50 - 2s - 42ms/step - cat_ACC: 0.4228 - loss: 1.0885 - val_cat_ACC: 0.4368 - val_loss: 1.0817\n",
      "Epoch 11/20\n",
      "50/50 - 2s - 42ms/step - cat_ACC: 0.4158 - loss: 1.0898 - val_cat_ACC: 0.4368 - val_loss: 1.0827\n",
      "Epoch 12/20\n",
      "50/50 - 2s - 42ms/step - cat_ACC: 0.4280 - loss: 1.0860 - val_cat_ACC: 0.4368 - val_loss: 1.0807\n",
      "Epoch 13/20\n",
      "50/50 - 2s - 42ms/step - cat_ACC: 0.4280 - loss: 1.0855 - val_cat_ACC: 0.4368 - val_loss: 1.0811\n",
      "Epoch 14/20\n",
      "50/50 - 2s - 42ms/step - cat_ACC: 0.4256 - loss: 1.0881 - val_cat_ACC: 0.4368 - val_loss: 1.0817\n",
      "Epoch 15/20\n",
      "50/50 - 2s - 43ms/step - cat_ACC: 0.4260 - loss: 1.0835 - val_cat_ACC: 0.4368 - val_loss: 1.0851\n",
      "Test performance:\n",
      "                          Loss: 1.0849 \n",
      "                          Metric: 0.4274\n",
      "\u001b[1m199/199\u001b[0m \u001b[32m━━━━━━━━━━━━━━━━━━━━\u001b[0m\u001b[37m\u001b[0m \u001b[1m0s\u001b[0m 1ms/step\n",
      "Fold: 4 Validation performance:\n",
      "\n",
      "                      Loss: 1.0807, \n",
      "                      Metric: 0.4368\n",
      "cv with 5 folds completed. Loss: 1.0944 +/- 0.0127. Metric: 0.4255 +/- 0.0098\n",
      "cv with 5 fold(s) completed. \n",
      "\n",
      "              Validation Performance: \n",
      "              Loss: 1.0944 +/- 0.0127.\n",
      "              Metric: 0.4255 +/- 0.0098\n",
      "\n",
      "\n",
      "              Test Performance: \n",
      "              Loss: 1.0946 +/- 0.0109.\n",
      "              Metric: 0.4274 +/- 0.0000\n",
      "Saving updated log to:  ./data/models\\/varcnn_log.csv\n"
     ]
    }
   ],
   "source": [
    "model.train(n_epochs=20, eval_step=50, mode='cv')"
   ]
  },
  {
   "cell_type": "code",
   "execution_count": 19,
   "id": "8bf18311-4802-4cf2-8fcb-9d594471fcae",
   "metadata": {},
   "outputs": [
    {
     "name": "stdout",
     "output_type": "stream",
     "text": [
      "Test set: Loss = 1.0849 Accuracy = 0.4274\n"
     ]
    }
   ],
   "source": [
    "test_loss, test_acc = model.evaluate(meta.data['test_paths'])\n",
    "print(\"Test set: Loss = {:.4f} Accuracy = {:.4f}\".format(test_loss, test_acc))"
   ]
  }
 ],
 "metadata": {
  "kernelspec": {
   "display_name": "aifsr_env",
   "language": "python",
   "name": "aifsr_env"
  },
  "language_info": {
   "codemirror_mode": {
    "name": "ipython",
    "version": 3
   },
   "file_extension": ".py",
   "mimetype": "text/x-python",
   "name": "python",
   "nbconvert_exporter": "python",
   "pygments_lexer": "ipython3",
   "version": "3.12.1"
  }
 },
 "nbformat": 4,
 "nbformat_minor": 5
}
