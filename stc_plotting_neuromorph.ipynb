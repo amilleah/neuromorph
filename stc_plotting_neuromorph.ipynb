{
 "cells": [
  {
   "cell_type": "markdown",
   "metadata": {},
   "source": [
    "### you made it!"
   ]
  },
  {
   "cell_type": "markdown",
   "metadata": {},
   "source": [
    "time to plot the source estimates"
   ]
  },
  {
   "cell_type": "code",
   "execution_count": null,
   "metadata": {},
   "outputs": [],
   "source": [
    "# the quick approach:\n",
    "\n",
    "import os\n",
    "import mne\n",
    "\n",
    "stc_directory = '/Users/alr664/Desktop'\n",
    "subjects_dir = '/Users/alr664/Desktop/green..papaya/mri' # use the directory with your fsaverage\n",
    "\n",
    "# set up source space if you haven't\n",
    "src = mne.read_source_spaces('/Users/alr664/Desktop/green..papaya/mri/fsaverage/bem/fsaverage-ico-4-src.fif')\n",
    "\n",
    "stc_filename_clean = 'word_clean'\n",
    "stc_filename_symbol = 'word_symbol'\n",
    "\n",
    "stc_clean = mne.read_source_estimate(os.path.join(stc_directory, stc_filename_clean))\n",
    "stc_symbol = mne.read_source_estimate(os.path.join(stc_directory, stc_filename_symbol))\n",
    "\n",
    "# compute the difference\n",
    "difference = stc_clean - stc_symbol\n",
    "\n",
    "# plot difference\n",
    "brain = difference.plot(subject='fsaverage', hemi='lh', subjects_dir=subjects_dir)"
   ]
  },
  {
   "cell_type": "markdown",
   "metadata": {},
   "source": [
    "### the (slightly) longer approach"
   ]
  },
  {
   "cell_type": "code",
   "execution_count": null,
   "metadata": {},
   "outputs": [],
   "source": [
    "import os\n",
    "import mne\n",
    "\n",
    "stc_directory = '/Users/alr664/Desktop'\n",
    "subjects_dir = '/Users/alr664/Desktop/green..papaya/mri' # use the directory with your fsaverage\n",
    "\n",
    "# use \"setup source space\" if you don't have this file\n",
    "src = mne.read_source_spaces('/Users/alr664/Desktop/green..papaya/mri/fsaverage/bem/fsaverage-ico-4-src.fif')"
   ]
  },
  {
   "cell_type": "code",
   "execution_count": null,
   "metadata": {},
   "outputs": [],
   "source": [
    "labels_list = ['lateraloccipital-lh',\n",
    " 'cuneus-lh',\n",
    " 'lingual-lh',\n",
    " 'pericalcarine-lh',\n",
    " 'fusiform-lh',\n",
    " 'middletemporal-lh',\n",
    " 'inferiortemporal-lh',\n",
    " 'lateraloccipital-rh',\n",
    " 'cuneus-rh',\n",
    " 'lingual-rh',\n",
    " 'pericalcarine-rh',\n",
    " 'fusiform-rh',\n",
    " 'middletemporal-rh',\n",
    " 'inferiortemporal-rh'] # from Gwilliams et al., 2016\n",
    "\n",
    "conditions = [\n",
    "    'letter_noisy',\n",
    "    'letter_symbol',\n",
    "    'letter_clean',\n",
    "    'word_symbol',\n",
    "    'word_noisy',\n",
    "    'word_clean'\n",
    "]\n",
    "\n",
    "hemi = 'lh'"
   ]
  },
  {
   "cell_type": "code",
   "execution_count": null,
   "metadata": {},
   "outputs": [],
   "source": [
    "# load in aparcellations\n",
    "annot_name = 'aparc'\n",
    "mne.datasets.fetch_aparc_sub_parcellation(subjects_dir=subjects_dir,verbose=True)\n",
    "left_labels = mne.read_labels_from_annot('fsaverage', annot_name, subjects_dir = subjects_dir, hemi = 'lh')\n",
    "right_labels = mne.read_labels_from_annot('fsaverage', annot_name, subjects_dir = subjects_dir, hemi = 'rh')\n",
    "\n",
    "LOCC = [label for label in left_labels if label.name =='lateraloccipital'+\"-\"+\"%s\"%(hemi)][0]\n",
    "cuneus =  [label for label in left_labels if label.name =='cuneus'+\"-\"+\"%s\"%(hemi)][0]\n",
    "lingual = [label for label in left_labels if label.name =='lingual'+\"-\"+\"%s\"%(hemi)][0]\n",
    "perical = [label for label in left_labels if label.name =='pericalcarine'+\"-\"+\"%s\"%(hemi)][0]\n",
    "fusiform = [label for label in left_labels if label.name =='fusiform'+\"-\"+\"%s\"%(hemi)][0]\n",
    "MTL = [label for label in left_labels if label.name =='middletemporal'+\"-\"+\"%s\"%(hemi)][0]\n",
    "ITL = [label for label in left_labels if label.name =='inferiortemporal'+\"-\"+\"%s\"%(hemi)][0]\n",
    "\n",
    "# set custom label\n",
    "label_to_plot = LOCC + cuneus + lingual + perical + fusiform + MTL + ITL"
   ]
  },
  {
   "cell_type": "markdown",
   "metadata": {},
   "source": [
    "### now let's plot the waveform"
   ]
  },
  {
   "cell_type": "code",
   "execution_count": null,
   "metadata": {},
   "outputs": [],
   "source": [
    "import matplotlib.pyplot as plt\n",
    "\n",
    "print(conditions)\n",
    "\n",
    "word_symbol_fname = conditions[3] # word_symbol\n",
    "word_symbol = mne.read_source_estimate(os.path.join(stc_directory, word_symbol_fname))\n",
    "                                   \n",
    "word_clean_fname = conditions[-1] # word_clean\n",
    "word_clean = mne.read_source_estimate(os.path.join(stc_directory, word_clean_fname))\n",
    "\n",
    "timeseries_one = word_symbol.extract_label_time_course(labels=label_to_plot, src=src, mode=\"mean_flip\")\n",
    "timeseries_two = word_clean.extract_label_time_course(labels=label_to_plot, src=src, mode=\"mean_flip\")\n",
    "\n",
    "# Plot the time courses\n",
    "plt.figure(figsize=(10, 7))\n",
    "plt.plot(word_symbol.times, timeseries_one[0], label=word_symbol_fname)\n",
    "plt.plot(word_clean.times, timeseries_two[0], label=word_clean_fname)\n",
    "plt.title(f'Timecourse - {word_symbol_fname} vs {word_clean_fname}')\n",
    "plt.xlabel('Time (s)')\n",
    "plt.ylabel('Amplitude')\n",
    "plt.axvline(0.0, zorder=-1, color='black', linewidth=0.5)\n",
    "plt.legend()\n",
    "plt.show()"
   ]
  }
 ],
 "metadata": {
  "language_info": {
   "name": "python"
  },
  "orig_nbformat": 4
 },
 "nbformat": 4,
 "nbformat_minor": 2
}
