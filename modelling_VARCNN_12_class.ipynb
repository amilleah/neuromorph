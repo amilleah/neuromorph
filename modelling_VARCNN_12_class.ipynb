{
 "cells": [
  {
   "cell_type": "code",
   "execution_count": 1,
   "id": "ac210655-3d5f-4e89-8a69-936812ba7a69",
   "metadata": {},
   "outputs": [
    {
     "name": "stdout",
     "output_type": "stream",
     "text": [
      "0.5.6\n"
     ]
    }
   ],
   "source": [
    "import numpy as np\n",
    "\n",
    "import mne\n",
    "mne.set_log_level(verbose='CRITICAL')\n",
    "from mne.datasets import multimodal\n",
    "\n",
    "import os\n",
    "import glob\n",
    "os.environ['TF_CPP_MIN_LOG_LEVEL'] = '3'\n",
    "\n",
    "import tensorflow as tf\n",
    "tf.get_logger().setLevel('ERROR')\n",
    "tf.autograph.set_verbosity(0)\n",
    "\n",
    "import mneflow\n",
    "print(mneflow.__version__)"
   ]
  },
  {
   "cell_type": "code",
   "execution_count": 2,
   "id": "1f097b5f-9739-4247-806b-d5c7cebdde1d",
   "metadata": {},
   "outputs": [],
   "source": [
    "root = '/scratch/alr664/multiple_affix'\n",
    "meg = root + '/meg'\n",
    "logs = root + '/logs'\n",
    "\n",
    "full_dataset = [\"A0394\", \"A0421\", \"A0446\", \"A0451\", \"A0468\", \"A0484\", \"A0495\", \"A0502\", \"A0503\", \"A0508\", \n",
    "                \"A0509\", \"A0512\", \"A0513\", \"A0514\", \"A0516\", \"A0517\", \"A0518\", \"A0519\", \"A0520\", \"A0521\", \n",
    "                \"A0522\", \"A0523\", \"A0524\", \"A0525\"]"
   ]
  },
  {
   "cell_type": "code",
   "execution_count": 3,
   "id": "916c4e7f-a014-4624-b643-280ff54f1fbf",
   "metadata": {},
   "outputs": [
    {
     "data": {
      "text/plain": [
       "24"
      ]
     },
     "execution_count": 3,
     "metadata": {},
     "output_type": "execute_result"
    }
   ],
   "source": [
    "subjects = [subj for subj in os.listdir(meg) if not subj.startswith('.')]\n",
    "subjects\n",
    "len(subjects)"
   ]
  },
  {
   "cell_type": "code",
   "execution_count": 4,
   "id": "fb7a998c-696f-4ade-a670-c165a7e332d3",
   "metadata": {},
   "outputs": [
    {
     "name": "stdout",
     "output_type": "stream",
     "text": [
      "/scratch/alr664/multiple_affix/meg/A0394/A0394_rejection-epo.fif\n",
      "/scratch/alr664/multiple_affix/meg/A0421/A0421_rejection-epo.fif\n",
      "/scratch/alr664/multiple_affix/meg/A0446/A0446_rejection-epo.fif\n",
      "/scratch/alr664/multiple_affix/meg/A0451/A0451_rejection-epo.fif\n",
      "/scratch/alr664/multiple_affix/meg/A0468/A0468_rejection-epo.fif\n",
      "/scratch/alr664/multiple_affix/meg/A0484/A0484_rejection-epo.fif\n",
      "/scratch/alr664/multiple_affix/meg/A0495/A0495_rejection-epo.fif\n",
      "/scratch/alr664/multiple_affix/meg/A0502/A0502_rejection-epo.fif\n",
      "/scratch/alr664/multiple_affix/meg/A0503/A0503_rejection-epo.fif\n",
      "/scratch/alr664/multiple_affix/meg/A0508/A0508_rejection-epo.fif\n",
      "/scratch/alr664/multiple_affix/meg/A0509/A0509_rejection-epo.fif\n",
      "/scratch/alr664/multiple_affix/meg/A0512/A0512_rejection-epo.fif\n",
      "/scratch/alr664/multiple_affix/meg/A0513/A0513_rejection-epo.fif\n",
      "/scratch/alr664/multiple_affix/meg/A0514/A0514_rejection-epo.fif\n",
      "/scratch/alr664/multiple_affix/meg/A0516/A0516_rejection-epo.fif\n",
      "/scratch/alr664/multiple_affix/meg/A0517/A0517_rejection-epo.fif\n",
      "/scratch/alr664/multiple_affix/meg/A0518/A0518_rejection-epo.fif\n",
      "/scratch/alr664/multiple_affix/meg/A0519/A0519_rejection-epo.fif\n",
      "/scratch/alr664/multiple_affix/meg/A0520/A0520_rejection-epo.fif\n",
      "/scratch/alr664/multiple_affix/meg/A0521/A0521_rejection-epo.fif\n",
      "/scratch/alr664/multiple_affix/meg/A0522/A0522_rejection-epo.fif\n",
      "/scratch/alr664/multiple_affix/meg/A0523/A0523_rejection-epo.fif\n",
      "/scratch/alr664/multiple_affix/meg/A0524/A0524_rejection-epo.fif\n",
      "/scratch/alr664/multiple_affix/meg/A0525/A0525_rejection-epo.fif\n",
      "Done!\n",
      "Done!.\n"
     ]
    }
   ],
   "source": [
    "epochs_list = []\n",
    "\n",
    "for subject in full_dataset:\n",
    "    subj_epoch_path = meg + '/' + subject + '/' + subject + '_rejection-epo.fif'\n",
    "    print(subj_epoch_path)\n",
    "    subj_epoch = mne.read_epochs(subj_epoch_path)\n",
    "    subj_epoch = subj_epoch.resample(125)\n",
    "    subj_epoch_mag = subj_epoch.pick_types(meg='mag')\n",
    "    epochs_list.append(subj_epoch_mag)\n",
    "\n",
    "print(\"Done!\")\n",
    "\n",
    "epochs = mne.concatenate_epochs(epochs_list, on_mismatch='ignore')\n",
    "\n",
    "print(\"Done!.\")"
   ]
  },
  {
   "cell_type": "code",
   "execution_count": 5,
   "id": "04049933-ee12-49e6-b4dc-04e353d8230d",
   "metadata": {},
   "outputs": [
    {
     "data": {
      "text/plain": [
       "(45264, 207, 100)"
      ]
     },
     "execution_count": 5,
     "metadata": {},
     "output_type": "execute_result"
    }
   ],
   "source": [
    "epochs.get_data().shape"
   ]
  },
  {
   "cell_type": "code",
   "execution_count": 6,
   "id": "b17069fc-5be6-4982-b4ef-9d6f884fea21",
   "metadata": {},
   "outputs": [
    {
     "data": {
      "text/plain": [
       "{'0Suff w/ Lat': 1,\n",
       " '0Suff w/o Lat.': 2,\n",
       " '0Suff NW': 4,\n",
       " '1Suff w/ Lat.': 11,\n",
       " '1Suff w/o Lat.': 12,\n",
       " '1Suff PseudoStemNW': 14,\n",
       " '1Suff RealStemNW': 15,\n",
       " '2Suff w/ Lat.': 21,\n",
       " '2Suff w/o Lat.': 22,\n",
       " '2Suff Composite': 23,\n",
       " '2Suff PseudoStemNW': 24,\n",
       " '2Suff RealStemNW': 25}"
      ]
     },
     "execution_count": 6,
     "metadata": {},
     "output_type": "execute_result"
    }
   ],
   "source": [
    "epochs.event_id"
   ]
  },
  {
   "cell_type": "code",
   "execution_count": 7,
   "id": "1a66e4df-264f-4a75-a56c-354dfaa4eddb",
   "metadata": {},
   "outputs": [
    {
     "data": {
      "text/plain": [
       "Counter({22: 7200,\n",
       "         4: 6168,\n",
       "         12: 6072,\n",
       "         2: 5448,\n",
       "         24: 4992,\n",
       "         25: 4656,\n",
       "         14: 3648,\n",
       "         15: 3168,\n",
       "         23: 1536,\n",
       "         21: 912,\n",
       "         11: 744,\n",
       "         1: 720})"
      ]
     },
     "execution_count": 7,
     "metadata": {},
     "output_type": "execute_result"
    }
   ],
   "source": [
    "from collections import Counter\n",
    "Counter([event[2] for event in epochs.events])"
   ]
  },
  {
   "cell_type": "code",
   "execution_count": 8,
   "id": "bd40ef68-adc8-41b8-9ecf-fe6c39ab27e4",
   "metadata": {},
   "outputs": [
    {
     "data": {
      "text/plain": [
       "array([-0.2  , -0.192, -0.184, -0.176, -0.168, -0.16 , -0.152, -0.144,\n",
       "       -0.136, -0.128, -0.12 , -0.112, -0.104, -0.096, -0.088, -0.08 ,\n",
       "       -0.072, -0.064, -0.056, -0.048, -0.04 , -0.032, -0.024, -0.016,\n",
       "       -0.008,  0.   ,  0.008,  0.016,  0.024,  0.032,  0.04 ,  0.048,\n",
       "        0.056,  0.064,  0.072,  0.08 ,  0.088,  0.096,  0.104,  0.112,\n",
       "        0.12 ,  0.128,  0.136,  0.144,  0.152,  0.16 ,  0.168,  0.176,\n",
       "        0.184,  0.192,  0.2  ,  0.208,  0.216,  0.224,  0.232,  0.24 ,\n",
       "        0.248,  0.256,  0.264,  0.272,  0.28 ,  0.288,  0.296,  0.304,\n",
       "        0.312,  0.32 ,  0.328,  0.336,  0.344,  0.352,  0.36 ,  0.368,\n",
       "        0.376,  0.384,  0.392,  0.4  ,  0.408,  0.416,  0.424,  0.432,\n",
       "        0.44 ,  0.448,  0.456,  0.464,  0.472,  0.48 ,  0.488,  0.496,\n",
       "        0.504,  0.512,  0.52 ,  0.528,  0.536,  0.544,  0.552,  0.56 ,\n",
       "        0.568,  0.576,  0.584,  0.592])"
      ]
     },
     "execution_count": 8,
     "metadata": {},
     "output_type": "execute_result"
    }
   ],
   "source": [
    "epochs.times"
   ]
  },
  {
   "cell_type": "code",
   "execution_count": 9,
   "id": "f98c7849-ce4b-4bd4-8e8f-ae3e67ead696",
   "metadata": {},
   "outputs": [],
   "source": [
    "epochs = epochs.crop(tmin=0. , tmax= 0.6)"
   ]
  },
  {
   "cell_type": "code",
   "execution_count": 10,
   "id": "4b86e437-8083-4c82-82bb-5fdadbc16f06",
   "metadata": {},
   "outputs": [
    {
     "data": {
      "text/plain": [
       "array([0.   , 0.008, 0.016, 0.024, 0.032, 0.04 , 0.048, 0.056, 0.064,\n",
       "       0.072, 0.08 , 0.088, 0.096, 0.104, 0.112, 0.12 , 0.128, 0.136,\n",
       "       0.144, 0.152, 0.16 , 0.168, 0.176, 0.184, 0.192, 0.2  , 0.208,\n",
       "       0.216, 0.224, 0.232, 0.24 , 0.248, 0.256, 0.264, 0.272, 0.28 ,\n",
       "       0.288, 0.296, 0.304, 0.312, 0.32 , 0.328, 0.336, 0.344, 0.352,\n",
       "       0.36 , 0.368, 0.376, 0.384, 0.392, 0.4  , 0.408, 0.416, 0.424,\n",
       "       0.432, 0.44 , 0.448, 0.456, 0.464, 0.472, 0.48 , 0.488, 0.496,\n",
       "       0.504, 0.512, 0.52 , 0.528, 0.536, 0.544, 0.552, 0.56 , 0.568,\n",
       "       0.576, 0.584, 0.592])"
      ]
     },
     "execution_count": 10,
     "metadata": {},
     "output_type": "execute_result"
    }
   ],
   "source": [
    "epochs.times"
   ]
  },
  {
   "cell_type": "code",
   "execution_count": 11,
   "id": "1f7b2012-2497-4c69-b0bd-c81827ed7238",
   "metadata": {},
   "outputs": [
    {
     "data": {
      "text/plain": [
       "(45264, 207, 75)"
      ]
     },
     "execution_count": 11,
     "metadata": {},
     "output_type": "execute_result"
    }
   ],
   "source": [
    "epochs.get_data().shape"
   ]
  },
  {
   "cell_type": "code",
   "execution_count": 12,
   "id": "f3ba65ae-8fa8-457a-8ea4-3e177e39f1a6",
   "metadata": {},
   "outputs": [],
   "source": [
    "path = './data/'\n",
    "data_id = 'meg_epochs_12'\n",
    "\n",
    "import_opt = dict(path=path,\n",
    "                  data_id=data_id,\n",
    "                  input_type='trials',\n",
    "                  target_type='int',\n",
    "                  n_folds= 5,\n",
    "                  test_set = 'holdout',\n",
    "                  overwrite=True,\n",
    "                  picks={'meg':'grad'},\n",
    "                  scale=False,\n",
    "                  crop_baseline=False,\n",
    "                  decimate=None,\n",
    "                  )"
   ]
  },
  {
   "cell_type": "code",
   "execution_count": 13,
   "id": "41f37ce1-17d6-4829-9a9c-ff8f75b905ba",
   "metadata": {},
   "outputs": [
    {
     "name": "stdout",
     "output_type": "stream",
     "text": [
      "processing epochs\n",
      "Input shapes: X (n, ch, t) :  (45264, 207, 75) y (n, [signal_channels], y_shape) :  (45264, 1) \n",
      " input_type :  trials target_type :  int segment_y :  False\n",
      "Preprocessing:\n",
      "n: 45264\n",
      "Splitting into: 6 folds x 7544\n",
      "Preprocessed: (45264, 1, 75, 207) (45264, 1) folds: 6 x 7544\n",
      "Preprocessed targets:  (45264, 1)\n",
      "Prepocessed sample shape: (1, 75, 207)\n",
      "Target shape actual/metadata:  (12,) (12,)\n",
      "Saving TFRecord# 0\n",
      "Updating: meta.data\n",
      "Updating: meta.preprocessing\n"
     ]
    }
   ],
   "source": [
    "meta = mneflow.produce_tfrecords(epochs, **import_opt)"
   ]
  },
  {
   "cell_type": "code",
   "execution_count": 14,
   "id": "3cf57c5b-554d-449e-bc18-80f2235dabec",
   "metadata": {},
   "outputs": [
    {
     "name": "stdout",
     "output_type": "stream",
     "text": [
      "Updating: meta.data\n"
     ]
    }
   ],
   "source": [
    "dataset = mneflow.Dataset(meta, train_batch=64)"
   ]
  },
  {
   "cell_type": "code",
   "execution_count": 15,
   "id": "0922dab2-3539-4b04-b442-01db8c0cd81f",
   "metadata": {},
   "outputs": [
    {
     "name": "stdout",
     "output_type": "stream",
     "text": [
      "Updating: meta.model_specs\n"
     ]
    }
   ],
   "source": [
    "varcnn_params = dict(n_latent=32,\n",
    "                  filter_length=7,\n",
    "                  nonlin = tf.nn.relu,\n",
    "                  padding = 'SAME',\n",
    "                  pooling = 2,\n",
    "                  pool_type='max',\n",
    "                  dropout = .5,\n",
    "                  l1_scope = [\"weights\"],\n",
    "                  l1=3e-4)\n",
    "\n",
    "meta.update(model_specs=varcnn_params)"
   ]
  },
  {
   "cell_type": "code",
   "execution_count": 16,
   "id": "7046a2b4-4947-48eb-bb93-db0f76fbe0f5",
   "metadata": {},
   "outputs": [
    {
     "name": "stdout",
     "output_type": "stream",
     "text": [
      "Updating: meta.data\n",
      "Setting reg for dmx, to l1\n",
      "Built: dmx input: (None, 1, 75, 207)\n",
      "input_shape: (None, 1, 75, 32)\n",
      "Setting reg for tconv, to l1\n",
      "Built: tconv input: (None, 1, 75, 32)\n",
      "Setting reg for fc, to l1\n",
      "Built: fc input: (None, 1, 38, 32)\n",
      "Input shape: (1, 75, 207)\n",
      "y_pred: (None, 12)\n",
      "Initialization complete!\n"
     ]
    }
   ],
   "source": [
    "model = mneflow.models.VARCNN(meta)\n",
    "model.build()"
   ]
  },
  {
   "cell_type": "code",
   "execution_count": 17,
   "id": "29227b31-c275-4a8c-9367-32c591836ab2",
   "metadata": {},
   "outputs": [
    {
     "name": "stdout",
     "output_type": "stream",
     "text": [
      "Updating: meta.train_params\n",
      "Class weights:  None\n",
      "Running cross-validation with 5 folds\n",
      "fold: 0\n",
      "Epoch 1/20\n",
      "50/50 - 5s - 100ms/step - cat_ACC: 0.1375 - loss: 2.8269 - val_cat_ACC: 0.1348 - val_loss: 2.7311\n",
      "Epoch 2/20\n",
      "50/50 - 2s - 34ms/step - cat_ACC: 0.1528 - loss: 2.7315 - val_cat_ACC: 0.1655 - val_loss: 2.6920\n",
      "Epoch 3/20\n",
      "50/50 - 2s - 33ms/step - cat_ACC: 0.1516 - loss: 2.6837 - val_cat_ACC: 0.1655 - val_loss: 2.6521\n",
      "Epoch 4/20\n",
      "50/50 - 2s - 35ms/step - cat_ACC: 0.1391 - loss: 2.6646 - val_cat_ACC: 0.1353 - val_loss: 2.6291\n",
      "Epoch 5/20\n",
      "50/50 - 2s - 34ms/step - cat_ACC: 0.1353 - loss: 2.6282 - val_cat_ACC: 0.1655 - val_loss: 2.5969\n",
      "Epoch 6/20\n",
      "50/50 - 2s - 31ms/step - cat_ACC: 0.1572 - loss: 2.6078 - val_cat_ACC: 0.1655 - val_loss: 2.5738\n",
      "Epoch 7/20\n",
      "50/50 - 2s - 30ms/step - cat_ACC: 0.1388 - loss: 2.5785 - val_cat_ACC: 0.1655 - val_loss: 2.5518\n",
      "Epoch 8/20\n",
      "50/50 - 2s - 32ms/step - cat_ACC: 0.1484 - loss: 2.5579 - val_cat_ACC: 0.1655 - val_loss: 2.5378\n",
      "Epoch 9/20\n",
      "50/50 - 2s - 30ms/step - cat_ACC: 0.1562 - loss: 2.5439 - val_cat_ACC: 0.1655 - val_loss: 2.5233\n",
      "Epoch 10/20\n",
      "50/50 - 2s - 32ms/step - cat_ACC: 0.1591 - loss: 2.5299 - val_cat_ACC: 0.1655 - val_loss: 2.5103\n",
      "Epoch 11/20\n",
      "50/50 - 2s - 33ms/step - cat_ACC: 0.1553 - loss: 2.5118 - val_cat_ACC: 0.1655 - val_loss: 2.5017\n",
      "Epoch 12/20\n",
      "50/50 - 2s - 31ms/step - cat_ACC: 0.1444 - loss: 2.5164 - val_cat_ACC: 0.1353 - val_loss: 2.5029\n",
      "Epoch 13/20\n",
      "50/50 - 1s - 30ms/step - cat_ACC: 0.1453 - loss: 2.5070 - val_cat_ACC: 0.1348 - val_loss: 2.4924\n",
      "Epoch 14/20\n",
      "50/50 - 1s - 29ms/step - cat_ACC: 0.1481 - loss: 2.5158 - val_cat_ACC: 0.1655 - val_loss: 2.4850\n",
      "Epoch 15/20\n",
      "50/50 - 1s - 30ms/step - cat_ACC: 0.1541 - loss: 2.4797 - val_cat_ACC: 0.1655 - val_loss: 2.4785\n",
      "Epoch 16/20\n",
      "50/50 - 1s - 30ms/step - cat_ACC: 0.1450 - loss: 2.4968 - val_cat_ACC: 0.1655 - val_loss: 2.4759\n",
      "Epoch 17/20\n",
      "50/50 - 2s - 32ms/step - cat_ACC: 0.1519 - loss: 2.4737 - val_cat_ACC: 0.1655 - val_loss: 2.4696\n",
      "Epoch 18/20\n",
      "50/50 - 2s - 32ms/step - cat_ACC: 0.1675 - loss: 2.4802 - val_cat_ACC: 0.1655 - val_loss: 2.4636\n",
      "Epoch 19/20\n",
      "50/50 - 2s - 33ms/step - cat_ACC: 0.1525 - loss: 2.4744 - val_cat_ACC: 0.1655 - val_loss: 2.4601\n",
      "Epoch 20/20\n",
      "50/50 - 2s - 42ms/step - cat_ACC: 0.1353 - loss: 2.4721 - val_cat_ACC: 0.1353 - val_loss: 2.4566\n",
      "Test performance:\n",
      "                          Loss: 2.4690 \n",
      "                          Metric: 0.1343\n",
      "\u001b[1m196/196\u001b[0m \u001b[32m━━━━━━━━━━━━━━━━━━━━\u001b[0m\u001b[37m\u001b[0m \u001b[1m0s\u001b[0m 2ms/step\n",
      "Re-shuffling weights between folds\n",
      "Fold: 0 Validation performance:\n",
      "\n",
      "                      Loss: 2.4566, \n",
      "                      Metric: 0.1353\n",
      "fold: 1\n",
      "Epoch 1/20\n",
      "50/50 - 2s - 45ms/step - cat_ACC: 0.1422 - loss: 2.4989 - val_cat_ACC: 0.1521 - val_loss: 2.4615\n",
      "Epoch 2/20\n",
      "50/50 - 2s - 35ms/step - cat_ACC: 0.1581 - loss: 2.4603 - val_cat_ACC: 0.1521 - val_loss: 2.4537\n",
      "Epoch 3/20\n",
      "50/50 - 2s - 32ms/step - cat_ACC: 0.1716 - loss: 2.4506 - val_cat_ACC: 0.1521 - val_loss: 2.4462\n",
      "Epoch 4/20\n",
      "50/50 - 1s - 30ms/step - cat_ACC: 0.1469 - loss: 2.4538 - val_cat_ACC: 0.1374 - val_loss: 2.4417\n",
      "Epoch 5/20\n",
      "50/50 - 1s - 30ms/step - cat_ACC: 0.1462 - loss: 2.4510 - val_cat_ACC: 0.1521 - val_loss: 2.4367\n",
      "Epoch 6/20\n",
      "50/50 - 1s - 30ms/step - cat_ACC: 0.1562 - loss: 2.4464 - val_cat_ACC: 0.1521 - val_loss: 2.4287\n",
      "Epoch 7/20\n",
      "50/50 - 2s - 35ms/step - cat_ACC: 0.1631 - loss: 2.4286 - val_cat_ACC: 0.1521 - val_loss: 2.4253\n",
      "Epoch 8/20\n",
      "50/50 - 2s - 39ms/step - cat_ACC: 0.1519 - loss: 2.4372 - val_cat_ACC: 0.1521 - val_loss: 2.4181\n",
      "Epoch 9/20\n",
      "50/50 - 2s - 33ms/step - cat_ACC: 0.1550 - loss: 2.4117 - val_cat_ACC: 0.1521 - val_loss: 2.4157\n",
      "Epoch 10/20\n",
      "50/50 - 1s - 29ms/step - cat_ACC: 0.1616 - loss: 2.4201 - val_cat_ACC: 0.1521 - val_loss: 2.4096\n",
      "Epoch 11/20\n",
      "50/50 - 1s - 30ms/step - cat_ACC: 0.1631 - loss: 2.4198 - val_cat_ACC: 0.1521 - val_loss: 2.4097\n",
      "Epoch 12/20\n",
      "50/50 - 2s - 37ms/step - cat_ACC: 0.1525 - loss: 2.4045 - val_cat_ACC: 0.1521 - val_loss: 2.4021\n",
      "Epoch 13/20\n",
      "50/50 - 2s - 33ms/step - cat_ACC: 0.1522 - loss: 2.4084 - val_cat_ACC: 0.1521 - val_loss: 2.3978\n",
      "Epoch 14/20\n",
      "50/50 - 2s - 37ms/step - cat_ACC: 0.1516 - loss: 2.4192 - val_cat_ACC: 0.1521 - val_loss: 2.3922\n",
      "Epoch 15/20\n",
      "50/50 - 2s - 32ms/step - cat_ACC: 0.1631 - loss: 2.3839 - val_cat_ACC: 0.1521 - val_loss: 2.3898\n",
      "Epoch 16/20\n",
      "50/50 - 1s - 30ms/step - cat_ACC: 0.1488 - loss: 2.4014 - val_cat_ACC: 0.1521 - val_loss: 2.3850\n",
      "Epoch 17/20\n",
      "50/50 - 1s - 29ms/step - cat_ACC: 0.1556 - loss: 2.3778 - val_cat_ACC: 0.1521 - val_loss: 2.3824\n",
      "Epoch 18/20\n",
      "50/50 - 1s - 30ms/step - cat_ACC: 0.1697 - loss: 2.3861 - val_cat_ACC: 0.1521 - val_loss: 2.3788\n",
      "Epoch 19/20\n",
      "50/50 - 1s - 29ms/step - cat_ACC: 0.1594 - loss: 2.3932 - val_cat_ACC: 0.1521 - val_loss: 2.3787\n",
      "Epoch 20/20\n",
      "50/50 - 1s - 29ms/step - cat_ACC: 0.1591 - loss: 2.3624 - val_cat_ACC: 0.1521 - val_loss: 2.3714\n",
      "Test performance:\n",
      "                          Loss: 2.3832 \n",
      "                          Metric: 0.1560\n",
      "\u001b[1m198/198\u001b[0m \u001b[32m━━━━━━━━━━━━━━━━━━━━\u001b[0m\u001b[37m\u001b[0m \u001b[1m0s\u001b[0m 2ms/step\n",
      "Re-shuffling weights between folds\n",
      "Fold: 1 Validation performance:\n",
      "\n",
      "                      Loss: 2.3714, \n",
      "                      Metric: 0.1521\n",
      "fold: 2\n",
      "Epoch 1/20\n",
      "50/50 - 2s - 36ms/step - cat_ACC: 0.1312 - loss: 2.4224 - val_cat_ACC: 0.1653 - val_loss: 2.3861\n",
      "Epoch 2/20\n",
      "50/50 - 2s - 32ms/step - cat_ACC: 0.1631 - loss: 2.3790 - val_cat_ACC: 0.1653 - val_loss: 2.3809\n",
      "Epoch 3/20\n",
      "50/50 - 2s - 33ms/step - cat_ACC: 0.1666 - loss: 2.3695 - val_cat_ACC: 0.1653 - val_loss: 2.3783\n",
      "Test performance:\n",
      "                          Loss: 2.3900 \n",
      "                          Metric: 0.1560\n",
      "\u001b[1m197/197\u001b[0m \u001b[32m━━━━━━━━━━━━━━━━━━━━\u001b[0m\u001b[37m\u001b[0m \u001b[1m0s\u001b[0m 1ms/step\n",
      "Re-shuffling weights between folds\n",
      "Fold: 2 Validation performance:\n",
      "\n",
      "                      Loss: 2.3861, \n",
      "                      Metric: 0.1653\n",
      "fold: 3\n",
      "Epoch 1/20\n",
      "50/50 - 2s - 38ms/step - cat_ACC: 0.1391 - loss: 2.4361 - val_cat_ACC: 0.1613 - val_loss: 2.3857\n",
      "Epoch 2/20\n",
      "50/50 - 2s - 31ms/step - cat_ACC: 0.1534 - loss: 2.3859 - val_cat_ACC: 0.1613 - val_loss: 2.3782\n",
      "Epoch 3/20\n",
      "50/50 - 2s - 31ms/step - cat_ACC: 0.1622 - loss: 2.3788 - val_cat_ACC: 0.1613 - val_loss: 2.3762\n",
      "Test performance:\n",
      "                          Loss: 2.3965 \n",
      "                          Metric: 0.1560\n",
      "\u001b[1m199/199\u001b[0m \u001b[32m━━━━━━━━━━━━━━━━━━━━\u001b[0m\u001b[37m\u001b[0m \u001b[1m0s\u001b[0m 1ms/step\n",
      "Re-shuffling weights between folds\n",
      "Fold: 3 Validation performance:\n",
      "\n",
      "                      Loss: 2.3857, \n",
      "                      Metric: 0.1613\n",
      "fold: 4\n",
      "Epoch 1/20\n",
      "50/50 - 2s - 37ms/step - cat_ACC: 0.1341 - loss: 2.4323 - val_cat_ACC: 0.1334 - val_loss: 2.4012\n",
      "Epoch 2/20\n",
      "50/50 - 1s - 30ms/step - cat_ACC: 0.1556 - loss: 2.3954 - val_cat_ACC: 0.1558 - val_loss: 2.3902\n",
      "Epoch 3/20\n",
      "50/50 - 2s - 30ms/step - cat_ACC: 0.1672 - loss: 2.3743 - val_cat_ACC: 0.1558 - val_loss: 2.3856\n",
      "Test performance:\n",
      "                          Loss: 2.4023 \n",
      "                          Metric: 0.1351\n",
      "\u001b[1m195/195\u001b[0m \u001b[32m━━━━━━━━━━━━━━━━━━━━\u001b[0m\u001b[37m\u001b[0m \u001b[1m0s\u001b[0m 2ms/step\n",
      "Fold: 4 Validation performance:\n",
      "\n",
      "                      Loss: 2.4012, \n",
      "                      Metric: 0.1334\n",
      "cv with 5 folds completed. Loss: 2.4002 +/- 0.0297. Metric: 0.1495 +/- 0.0131\n",
      "cv with 5 fold(s) completed. \n",
      "\n",
      "              Validation Performance: \n",
      "              Loss: 2.4002 +/- 0.0297.\n",
      "              Metric: 0.1495 +/- 0.0131\n",
      "\n",
      "\n",
      "              Test Performance: \n",
      "              Loss: 2.4082 +/- 0.0311.\n",
      "              Metric: 0.1475 +/- 0.0105\n",
      "Saving updated log to:  ./data/models\\/varcnn_log.csv\n"
     ]
    }
   ],
   "source": [
    "model.train(n_epochs=20, eval_step=50, mode='cv')"
   ]
  },
  {
   "cell_type": "code",
   "execution_count": 19,
   "id": "8bf18311-4802-4cf2-8fcb-9d594471fcae",
   "metadata": {},
   "outputs": [
    {
     "name": "stdout",
     "output_type": "stream",
     "text": [
      "Test set: Loss = 2.4023 Accuracy = 0.1351\n"
     ]
    }
   ],
   "source": [
    "test_loss, test_acc = model.evaluate(meta.data['test_paths'])\n",
    "print(\"Test set: Loss = {:.4f} Accuracy = {:.4f}\".format(test_loss, test_acc))"
   ]
  },
  {
   "cell_type": "code",
   "execution_count": null,
   "id": "d249dd41-81a2-4a79-91a2-0322a3347205",
   "metadata": {},
   "outputs": [],
   "source": []
  }
 ],
 "metadata": {
  "kernelspec": {
   "display_name": "aifsr_env",
   "language": "python",
   "name": "aifsr_env"
  },
  "language_info": {
   "codemirror_mode": {
    "name": "ipython",
    "version": 3
   },
   "file_extension": ".py",
   "mimetype": "text/x-python",
   "name": "python",
   "nbconvert_exporter": "python",
   "pygments_lexer": "ipython3",
   "version": "3.12.1"
  }
 },
 "nbformat": 4,
 "nbformat_minor": 5
}
