{
 "cells": [
  {
   "cell_type": "code",
   "execution_count": 1,
   "id": "fe5d531b-699a-428e-956b-35d48434cd2a",
   "metadata": {},
   "outputs": [
    {
     "ename": "ImportError",
     "evalue": "libgomp-a34b3233.so.1.0.0: cannot open shared object file: No such file or directory\n___________________________________________________________________________\nContents of /home/rss9311/.local/lib/python3.12/site-packages/sklearn/__check_build:\n__init__.py               _check_build.cpython-312-x86_64-linux-gnu.so__pycache__\n___________________________________________________________________________\nIt seems that scikit-learn has not been built correctly.\n\nIf you have installed scikit-learn from source, please do not forget\nto build the package before using it: run `python setup.py install` or\n`make` in the source directory.\n\nIf you have used an installer, please check that it is suited for your\nPython version, your operating system and your platform.",
     "output_type": "error",
     "traceback": [
      "\u001b[0;31m---------------------------------------------------------------------------\u001b[0m",
      "\u001b[0;31mImportError\u001b[0m                               Traceback (most recent call last)",
      "File \u001b[0;32m~/.local/lib/python3.12/site-packages/sklearn/__check_build/__init__.py:45\u001b[0m\n\u001b[1;32m     44\u001b[0m \u001b[38;5;28;01mtry\u001b[39;00m:\n\u001b[0;32m---> 45\u001b[0m     \u001b[38;5;28;01mfrom\u001b[39;00m \u001b[38;5;21;01m.\u001b[39;00m\u001b[38;5;21;01m_check_build\u001b[39;00m \u001b[38;5;28;01mimport\u001b[39;00m check_build  \u001b[38;5;66;03m# noqa\u001b[39;00m\n\u001b[1;32m     46\u001b[0m \u001b[38;5;28;01mexcept\u001b[39;00m \u001b[38;5;167;01mImportError\u001b[39;00m \u001b[38;5;28;01mas\u001b[39;00m e:\n",
      "\u001b[0;31mImportError\u001b[0m: libgomp-a34b3233.so.1.0.0: cannot open shared object file: No such file or directory",
      "\nDuring handling of the above exception, another exception occurred:\n",
      "\u001b[0;31mImportError\u001b[0m                               Traceback (most recent call last)",
      "Cell \u001b[0;32mIn[1], line 4\u001b[0m\n\u001b[1;32m      2\u001b[0m \u001b[38;5;28;01mimport\u001b[39;00m \u001b[38;5;21;01mnumpy\u001b[39;00m \u001b[38;5;28;01mas\u001b[39;00m \u001b[38;5;21;01mnp\u001b[39;00m\n\u001b[1;32m      3\u001b[0m \u001b[38;5;28;01mimport\u001b[39;00m \u001b[38;5;21;01mpandas\u001b[39;00m \u001b[38;5;28;01mas\u001b[39;00m \u001b[38;5;21;01mpd\u001b[39;00m\n\u001b[0;32m----> 4\u001b[0m \u001b[38;5;28;01mfrom\u001b[39;00m \u001b[38;5;21;01msklearn\u001b[39;00m \u001b[38;5;28;01mimport\u001b[39;00m preprocessing \n\u001b[1;32m      5\u001b[0m \u001b[38;5;28;01mimport\u001b[39;00m \u001b[38;5;21;01mnumpy\u001b[39;00m \u001b[38;5;28;01mas\u001b[39;00m \u001b[38;5;21;01mnp\u001b[39;00m\n\u001b[1;32m      6\u001b[0m \u001b[38;5;28;01mimport\u001b[39;00m \u001b[38;5;21;01mtensorflow\u001b[39;00m \u001b[38;5;28;01mas\u001b[39;00m \u001b[38;5;21;01mtf\u001b[39;00m\n",
      "File \u001b[0;32m~/.local/lib/python3.12/site-packages/sklearn/__init__.py:83\u001b[0m\n\u001b[1;32m     72\u001b[0m     sys\u001b[38;5;241m.\u001b[39mstderr\u001b[38;5;241m.\u001b[39mwrite(\u001b[38;5;124m\"\u001b[39m\u001b[38;5;124mPartial import of sklearn during the build process.\u001b[39m\u001b[38;5;130;01m\\n\u001b[39;00m\u001b[38;5;124m\"\u001b[39m)\n\u001b[1;32m     73\u001b[0m     \u001b[38;5;66;03m# We are not importing the rest of scikit-learn during the build\u001b[39;00m\n\u001b[1;32m     74\u001b[0m     \u001b[38;5;66;03m# process, as it may not be compiled yet\u001b[39;00m\n\u001b[1;32m     75\u001b[0m \u001b[38;5;28;01melse\u001b[39;00m:\n\u001b[0;32m   (...)\u001b[0m\n\u001b[1;32m     81\u001b[0m     \u001b[38;5;66;03m# later is linked to the OpenMP runtime to make it possible to introspect\u001b[39;00m\n\u001b[1;32m     82\u001b[0m     \u001b[38;5;66;03m# it and importing it first would fail if the OpenMP dll cannot be found.\u001b[39;00m\n\u001b[0;32m---> 83\u001b[0m     \u001b[38;5;28;01mfrom\u001b[39;00m \u001b[38;5;21;01m.\u001b[39;00m \u001b[38;5;28;01mimport\u001b[39;00m (\n\u001b[1;32m     84\u001b[0m         __check_build,  \u001b[38;5;66;03m# noqa: F401\u001b[39;00m\n\u001b[1;32m     85\u001b[0m         _distributor_init,  \u001b[38;5;66;03m# noqa: F401\u001b[39;00m\n\u001b[1;32m     86\u001b[0m     )\n\u001b[1;32m     87\u001b[0m     \u001b[38;5;28;01mfrom\u001b[39;00m \u001b[38;5;21;01m.\u001b[39;00m\u001b[38;5;21;01mbase\u001b[39;00m \u001b[38;5;28;01mimport\u001b[39;00m clone\n\u001b[1;32m     88\u001b[0m     \u001b[38;5;28;01mfrom\u001b[39;00m \u001b[38;5;21;01m.\u001b[39;00m\u001b[38;5;21;01mutils\u001b[39;00m\u001b[38;5;21;01m.\u001b[39;00m\u001b[38;5;21;01m_show_versions\u001b[39;00m \u001b[38;5;28;01mimport\u001b[39;00m show_versions\n",
      "File \u001b[0;32m~/.local/lib/python3.12/site-packages/sklearn/__check_build/__init__.py:47\u001b[0m\n\u001b[1;32m     45\u001b[0m     \u001b[38;5;28;01mfrom\u001b[39;00m \u001b[38;5;21;01m.\u001b[39;00m\u001b[38;5;21;01m_check_build\u001b[39;00m \u001b[38;5;28;01mimport\u001b[39;00m check_build  \u001b[38;5;66;03m# noqa\u001b[39;00m\n\u001b[1;32m     46\u001b[0m \u001b[38;5;28;01mexcept\u001b[39;00m \u001b[38;5;167;01mImportError\u001b[39;00m \u001b[38;5;28;01mas\u001b[39;00m e:\n\u001b[0;32m---> 47\u001b[0m     raise_build_error(e)\n",
      "File \u001b[0;32m~/.local/lib/python3.12/site-packages/sklearn/__check_build/__init__.py:31\u001b[0m, in \u001b[0;36mraise_build_error\u001b[0;34m(e)\u001b[0m\n\u001b[1;32m     29\u001b[0m         \u001b[38;5;28;01melse\u001b[39;00m:\n\u001b[1;32m     30\u001b[0m             dir_content\u001b[38;5;241m.\u001b[39mappend(filename \u001b[38;5;241m+\u001b[39m \u001b[38;5;124m\"\u001b[39m\u001b[38;5;130;01m\\n\u001b[39;00m\u001b[38;5;124m\"\u001b[39m)\n\u001b[0;32m---> 31\u001b[0m     \u001b[38;5;28;01mraise\u001b[39;00m \u001b[38;5;167;01mImportError\u001b[39;00m(\u001b[38;5;124m\"\"\"\u001b[39m\u001b[38;5;132;01m%s\u001b[39;00m\n\u001b[1;32m     32\u001b[0m \u001b[38;5;124m___________________________________________________________________________\u001b[39m\n\u001b[1;32m     33\u001b[0m \u001b[38;5;124mContents of \u001b[39m\u001b[38;5;132;01m%s\u001b[39;00m\u001b[38;5;124m:\u001b[39m\n\u001b[1;32m     34\u001b[0m \u001b[38;5;132;01m%s\u001b[39;00m\n\u001b[1;32m     35\u001b[0m \u001b[38;5;124m___________________________________________________________________________\u001b[39m\n\u001b[1;32m     36\u001b[0m \u001b[38;5;124mIt seems that scikit-learn has not been built correctly.\u001b[39m\n\u001b[1;32m     37\u001b[0m \n\u001b[1;32m     38\u001b[0m \u001b[38;5;124mIf you have installed scikit-learn from source, please do not forget\u001b[39m\n\u001b[1;32m     39\u001b[0m \u001b[38;5;124mto build the package before using it: run `python setup.py install` or\u001b[39m\n\u001b[1;32m     40\u001b[0m \u001b[38;5;124m`make` in the source directory.\u001b[39m\n\u001b[1;32m     41\u001b[0m \u001b[38;5;132;01m%s\u001b[39;00m\u001b[38;5;124m\"\"\"\u001b[39m \u001b[38;5;241m%\u001b[39m (e, local_dir, \u001b[38;5;124m\"\u001b[39m\u001b[38;5;124m\"\u001b[39m\u001b[38;5;241m.\u001b[39mjoin(dir_content)\u001b[38;5;241m.\u001b[39mstrip(), msg))\n",
      "\u001b[0;31mImportError\u001b[0m: libgomp-a34b3233.so.1.0.0: cannot open shared object file: No such file or directory\n___________________________________________________________________________\nContents of /home/rss9311/.local/lib/python3.12/site-packages/sklearn/__check_build:\n__init__.py               _check_build.cpython-312-x86_64-linux-gnu.so__pycache__\n___________________________________________________________________________\nIt seems that scikit-learn has not been built correctly.\n\nIf you have installed scikit-learn from source, please do not forget\nto build the package before using it: run `python setup.py install` or\n`make` in the source directory.\n\nIf you have used an installer, please check that it is suited for your\nPython version, your operating system and your platform."
     ]
    }
   ],
   "source": [
    "import mne\n",
    "import numpy as np\n",
    "import pandas as pd\n",
    "from sklearn import preprocessing \n",
    "import numpy as np\n",
    "import tensorflow as tf\n",
    "from tensorflow.keras.applications import ResNet50\n",
    "from tensorflow.keras.models import Model\n",
    "from sklearn.model_selection import train_test_split\n",
    "\n",
    "import os\n",
    "\n",
    "mne.set_log_level('WARNING')\n",
    "\n",
    "event_id_all = {'0Suff w/ Lat.': 1,\n",
    "                '0Suff w/o Lat.': 2,\n",
    "                '0Suff NW': 4,\n",
    "\n",
    "                '1Suff w/ Lat.': 11,\n",
    "                '1Suff w/o Lat.': 12,\n",
    "                '1Suff PseudoStemNW': 14,\n",
    "                '1Suff RealStemNW': 15,\n",
    "\n",
    "                '2Suff w/ Lat.': 21,\n",
    "                '2Suff w/o Lat.': 22,\n",
    "                '2Suff Composite': 23,\n",
    "                '2Suff PseudoStemNW': 24,\n",
    "                '2Suff RealStemNW': 25\n",
    "                }\n",
    "\n",
    "def get_condition(id):\n",
    "    for event in event_id_all:\n",
    "        if event_id_all[event] == id:\n",
    "            return event\n",
    "\n",
    "import mne\n",
    "from glob import glob\n",
    "from tqdm import tqdm\n",
    "\n",
    "epoch_files = glob('/scratch/alr664/multiple_affix/meg/*/*epo.fif')"
   ]
  },
  {
   "cell_type": "code",
   "execution_count": 20,
   "id": "ad5f0fd4-c2ab-4976-be3e-217d1a3a869c",
   "metadata": {},
   "outputs": [
    {
     "name": "stdout",
     "output_type": "stream",
     "text": [
      "/scratch/rss9311/neurips2024/neurips-analyses\n"
     ]
    }
   ],
   "source": [
    "!pwd"
   ]
  },
  {
   "cell_type": "code",
   "execution_count": 21,
   "id": "937ff152-e901-4c4f-9f1a-cdc8da1530d9",
   "metadata": {},
   "outputs": [
    {
     "name": "stdout",
     "output_type": "stream",
     "text": [
      "/scratch/alr664/multiple_affix/meg/A0394/A0394_rejection-epo.fif\n",
      "/scratch/alr664/multiple_affix/meg/A0421/A0421_rejection-epo.fif\n",
      "/scratch/alr664/multiple_affix/meg/A0446/A0446_rejection-epo.fif\n",
      "/scratch/alr664/multiple_affix/meg/A0451/A0451_rejection-epo.fif\n",
      "/scratch/alr664/multiple_affix/meg/A0468/A0468_rejection-epo.fif\n",
      "/scratch/alr664/multiple_affix/meg/A0484/A0484_rejection-epo.fif\n",
      "/scratch/alr664/multiple_affix/meg/A0495/A0495_rejection-epo.fif\n",
      "/scratch/alr664/multiple_affix/meg/A0502/A0502_rejection-epo.fif\n",
      "/scratch/alr664/multiple_affix/meg/A0503/A0503_rejection-epo.fif\n",
      "/scratch/alr664/multiple_affix/meg/A0508/A0508_rejection-epo.fif\n",
      "/scratch/alr664/multiple_affix/meg/A0509/A0509_rejection-epo.fif\n",
      "/scratch/alr664/multiple_affix/meg/A0512/A0512_rejection-epo.fif\n",
      "/scratch/alr664/multiple_affix/meg/A0513/A0513_rejection-epo.fif\n",
      "/scratch/alr664/multiple_affix/meg/A0514/A0514_rejection-epo.fif\n",
      "/scratch/alr664/multiple_affix/meg/A0516/A0516_rejection-epo.fif\n",
      "/scratch/alr664/multiple_affix/meg/A0517/A0517_rejection-epo.fif\n",
      "/scratch/alr664/multiple_affix/meg/A0518/A0518_rejection-epo.fif\n",
      "/scratch/alr664/multiple_affix/meg/A0519/A0519_rejection-epo.fif\n",
      "/scratch/alr664/multiple_affix/meg/A0520/A0520_rejection-epo.fif\n",
      "/scratch/alr664/multiple_affix/meg/A0521/A0521_rejection-epo.fif\n",
      "/scratch/alr664/multiple_affix/meg/A0522/A0522_rejection-epo.fif\n",
      "/scratch/alr664/multiple_affix/meg/A0523/A0523_rejection-epo.fif\n",
      "/scratch/alr664/multiple_affix/meg/A0524/A0524_rejection-epo.fif\n",
      "/scratch/alr664/multiple_affix/meg/A0525/A0525_rejection-epo.fif\n"
     ]
    }
   ],
   "source": [
    "root = '/scratch/alr664/multiple_affix'\n",
    "meg = root + '/meg'\n",
    "logs = root + '/logs'\n",
    "\n",
    "full_dataset = [\"A0394\", \"A0421\", \"A0446\", \"A0451\", \"A0468\", \"A0484\", \"A0495\", \"A0502\", \"A0503\", \"A0508\", \n",
    "                \"A0509\", \"A0512\", \"A0513\", \"A0514\", \"A0516\", \"A0517\", \"A0518\", \"A0519\", \"A0520\", \"A0521\", \n",
    "                \"A0522\", \"A0523\", \"A0524\", \"A0525\"]\n",
    "\n",
    "subjects = [subj for subj in os.listdir(meg) if not subj.startswith('.')]\n",
    "subjects\n",
    "len(subjects)\n",
    "\n",
    "epoch_files = []\n",
    "X = []\n",
    "y = []\n",
    "\n",
    "for subject in full_dataset:\n",
    "    subj_epoch_path = meg + '/' + subject + '/' + subject + '_rejection-epo.fif'\n",
    "    print(subj_epoch_path)\n",
    "    epoch_files.append(subj_epoch_path)\n",
    "\n",
    "#print(epoch_files)"
   ]
  },
  {
   "cell_type": "code",
   "execution_count": 22,
   "id": "37b6d1f1-b124-4a01-8f6e-ad342211117f",
   "metadata": {},
   "outputs": [
    {
     "name": "stderr",
     "output_type": "stream",
     "text": [
      "  0%|          | 0/24 [00:00<?, ?it/s]"
     ]
    },
    {
     "name": "stdout",
     "output_type": "stream",
     "text": [
      "/scratch/alr664/multiple_affix/meg/A0394/A0394_rejection-epo.fif\n"
     ]
    },
    {
     "name": "stderr",
     "output_type": "stream",
     "text": [
      "/state/partition1/job-47276493/ipykernel_1448800/661870079.py:15: RuntimeWarning: tmax is not in time interval. tmax is set to <class 'mne.epochs.EpochsFIF'>.tmax (0.592 s)\n",
      "  epochs = epochs.crop(tmin=0. , tmax= 0.6)\n",
      "/state/partition1/job-47276493/ipykernel_1448800/661870079.py:22: FutureWarning: The current default of copy=False will change to copy=True in 1.7. Set the value of copy explicitly to avoid this warning\n",
      "  meg_full_data.append(epochs.get_data())\n",
      "  4%|▍         | 1/24 [00:35<13:45, 35.89s/it]"
     ]
    },
    {
     "name": "stdout",
     "output_type": "stream",
     "text": [
      "/scratch/alr664/multiple_affix/meg/A0421/A0421_rejection-epo.fif\n"
     ]
    },
    {
     "name": "stderr",
     "output_type": "stream",
     "text": [
      "/state/partition1/job-47276493/ipykernel_1448800/661870079.py:15: RuntimeWarning: tmax is not in time interval. tmax is set to <class 'mne.epochs.EpochsFIF'>.tmax (0.592 s)\n",
      "  epochs = epochs.crop(tmin=0. , tmax= 0.6)\n",
      "/state/partition1/job-47276493/ipykernel_1448800/661870079.py:22: FutureWarning: The current default of copy=False will change to copy=True in 1.7. Set the value of copy explicitly to avoid this warning\n",
      "  meg_full_data.append(epochs.get_data())\n",
      "  8%|▊         | 2/24 [01:11<13:05, 35.72s/it]"
     ]
    },
    {
     "name": "stdout",
     "output_type": "stream",
     "text": [
      "/scratch/alr664/multiple_affix/meg/A0446/A0446_rejection-epo.fif\n"
     ]
    },
    {
     "name": "stderr",
     "output_type": "stream",
     "text": [
      "/state/partition1/job-47276493/ipykernel_1448800/661870079.py:15: RuntimeWarning: tmax is not in time interval. tmax is set to <class 'mne.epochs.EpochsFIF'>.tmax (0.592 s)\n",
      "  epochs = epochs.crop(tmin=0. , tmax= 0.6)\n",
      "/state/partition1/job-47276493/ipykernel_1448800/661870079.py:22: FutureWarning: The current default of copy=False will change to copy=True in 1.7. Set the value of copy explicitly to avoid this warning\n",
      "  meg_full_data.append(epochs.get_data())\n",
      " 12%|█▎        | 3/24 [01:47<12:28, 35.66s/it]"
     ]
    },
    {
     "name": "stdout",
     "output_type": "stream",
     "text": [
      "/scratch/alr664/multiple_affix/meg/A0451/A0451_rejection-epo.fif\n"
     ]
    },
    {
     "name": "stderr",
     "output_type": "stream",
     "text": [
      "/state/partition1/job-47276493/ipykernel_1448800/661870079.py:15: RuntimeWarning: tmax is not in time interval. tmax is set to <class 'mne.epochs.EpochsFIF'>.tmax (0.592 s)\n",
      "  epochs = epochs.crop(tmin=0. , tmax= 0.6)\n",
      "/state/partition1/job-47276493/ipykernel_1448800/661870079.py:22: FutureWarning: The current default of copy=False will change to copy=True in 1.7. Set the value of copy explicitly to avoid this warning\n",
      "  meg_full_data.append(epochs.get_data())\n",
      " 17%|█▋        | 4/24 [02:22<11:51, 35.56s/it]"
     ]
    },
    {
     "name": "stdout",
     "output_type": "stream",
     "text": [
      "/scratch/alr664/multiple_affix/meg/A0468/A0468_rejection-epo.fif\n"
     ]
    },
    {
     "name": "stderr",
     "output_type": "stream",
     "text": [
      "/state/partition1/job-47276493/ipykernel_1448800/661870079.py:15: RuntimeWarning: tmax is not in time interval. tmax is set to <class 'mne.epochs.EpochsFIF'>.tmax (0.592 s)\n",
      "  epochs = epochs.crop(tmin=0. , tmax= 0.6)\n",
      "/state/partition1/job-47276493/ipykernel_1448800/661870079.py:22: FutureWarning: The current default of copy=False will change to copy=True in 1.7. Set the value of copy explicitly to avoid this warning\n",
      "  meg_full_data.append(epochs.get_data())\n",
      " 21%|██        | 5/24 [02:58<11:16, 35.61s/it]"
     ]
    },
    {
     "name": "stdout",
     "output_type": "stream",
     "text": [
      "/scratch/alr664/multiple_affix/meg/A0484/A0484_rejection-epo.fif\n"
     ]
    },
    {
     "name": "stderr",
     "output_type": "stream",
     "text": [
      "/state/partition1/job-47276493/ipykernel_1448800/661870079.py:15: RuntimeWarning: tmax is not in time interval. tmax is set to <class 'mne.epochs.EpochsFIF'>.tmax (0.592 s)\n",
      "  epochs = epochs.crop(tmin=0. , tmax= 0.6)\n",
      "/state/partition1/job-47276493/ipykernel_1448800/661870079.py:22: FutureWarning: The current default of copy=False will change to copy=True in 1.7. Set the value of copy explicitly to avoid this warning\n",
      "  meg_full_data.append(epochs.get_data())\n",
      " 25%|██▌       | 6/24 [03:33<10:41, 35.67s/it]"
     ]
    },
    {
     "name": "stdout",
     "output_type": "stream",
     "text": [
      "/scratch/alr664/multiple_affix/meg/A0495/A0495_rejection-epo.fif\n"
     ]
    },
    {
     "name": "stderr",
     "output_type": "stream",
     "text": [
      "/state/partition1/job-47276493/ipykernel_1448800/661870079.py:15: RuntimeWarning: tmax is not in time interval. tmax is set to <class 'mne.epochs.EpochsFIF'>.tmax (0.592 s)\n",
      "  epochs = epochs.crop(tmin=0. , tmax= 0.6)\n",
      "/state/partition1/job-47276493/ipykernel_1448800/661870079.py:22: FutureWarning: The current default of copy=False will change to copy=True in 1.7. Set the value of copy explicitly to avoid this warning\n",
      "  meg_full_data.append(epochs.get_data())\n",
      " 29%|██▉       | 7/24 [04:09<10:07, 35.76s/it]"
     ]
    },
    {
     "name": "stdout",
     "output_type": "stream",
     "text": [
      "/scratch/alr664/multiple_affix/meg/A0502/A0502_rejection-epo.fif\n"
     ]
    },
    {
     "name": "stderr",
     "output_type": "stream",
     "text": [
      "/state/partition1/job-47276493/ipykernel_1448800/661870079.py:15: RuntimeWarning: tmax is not in time interval. tmax is set to <class 'mne.epochs.EpochsFIF'>.tmax (0.592 s)\n",
      "  epochs = epochs.crop(tmin=0. , tmax= 0.6)\n",
      "/state/partition1/job-47276493/ipykernel_1448800/661870079.py:22: FutureWarning: The current default of copy=False will change to copy=True in 1.7. Set the value of copy explicitly to avoid this warning\n",
      "  meg_full_data.append(epochs.get_data())\n",
      " 33%|███▎      | 8/24 [04:45<09:32, 35.80s/it]"
     ]
    },
    {
     "name": "stdout",
     "output_type": "stream",
     "text": [
      "/scratch/alr664/multiple_affix/meg/A0503/A0503_rejection-epo.fif\n"
     ]
    },
    {
     "name": "stderr",
     "output_type": "stream",
     "text": [
      "/state/partition1/job-47276493/ipykernel_1448800/661870079.py:15: RuntimeWarning: tmax is not in time interval. tmax is set to <class 'mne.epochs.EpochsFIF'>.tmax (0.592 s)\n",
      "  epochs = epochs.crop(tmin=0. , tmax= 0.6)\n",
      "/state/partition1/job-47276493/ipykernel_1448800/661870079.py:22: FutureWarning: The current default of copy=False will change to copy=True in 1.7. Set the value of copy explicitly to avoid this warning\n",
      "  meg_full_data.append(epochs.get_data())\n",
      " 38%|███▊      | 9/24 [05:22<08:59, 35.96s/it]"
     ]
    },
    {
     "name": "stdout",
     "output_type": "stream",
     "text": [
      "/scratch/alr664/multiple_affix/meg/A0508/A0508_rejection-epo.fif\n"
     ]
    },
    {
     "name": "stderr",
     "output_type": "stream",
     "text": [
      "/state/partition1/job-47276493/ipykernel_1448800/661870079.py:15: RuntimeWarning: tmax is not in time interval. tmax is set to <class 'mne.epochs.EpochsFIF'>.tmax (0.592 s)\n",
      "  epochs = epochs.crop(tmin=0. , tmax= 0.6)\n",
      "/state/partition1/job-47276493/ipykernel_1448800/661870079.py:22: FutureWarning: The current default of copy=False will change to copy=True in 1.7. Set the value of copy explicitly to avoid this warning\n",
      "  meg_full_data.append(epochs.get_data())\n",
      " 42%|████▏     | 10/24 [05:57<08:20, 35.75s/it]"
     ]
    },
    {
     "name": "stdout",
     "output_type": "stream",
     "text": [
      "/scratch/alr664/multiple_affix/meg/A0509/A0509_rejection-epo.fif\n"
     ]
    },
    {
     "name": "stderr",
     "output_type": "stream",
     "text": [
      "/state/partition1/job-47276493/ipykernel_1448800/661870079.py:15: RuntimeWarning: tmax is not in time interval. tmax is set to <class 'mne.epochs.EpochsFIF'>.tmax (0.592 s)\n",
      "  epochs = epochs.crop(tmin=0. , tmax= 0.6)\n",
      "/state/partition1/job-47276493/ipykernel_1448800/661870079.py:22: FutureWarning: The current default of copy=False will change to copy=True in 1.7. Set the value of copy explicitly to avoid this warning\n",
      "  meg_full_data.append(epochs.get_data())\n",
      " 46%|████▌     | 11/24 [06:33<07:44, 35.71s/it]"
     ]
    },
    {
     "name": "stdout",
     "output_type": "stream",
     "text": [
      "/scratch/alr664/multiple_affix/meg/A0512/A0512_rejection-epo.fif\n"
     ]
    },
    {
     "name": "stderr",
     "output_type": "stream",
     "text": [
      "/state/partition1/job-47276493/ipykernel_1448800/661870079.py:15: RuntimeWarning: tmax is not in time interval. tmax is set to <class 'mne.epochs.EpochsFIF'>.tmax (0.592 s)\n",
      "  epochs = epochs.crop(tmin=0. , tmax= 0.6)\n",
      "/state/partition1/job-47276493/ipykernel_1448800/661870079.py:22: FutureWarning: The current default of copy=False will change to copy=True in 1.7. Set the value of copy explicitly to avoid this warning\n",
      "  meg_full_data.append(epochs.get_data())\n",
      " 50%|█████     | 12/24 [07:08<07:07, 35.59s/it]"
     ]
    },
    {
     "name": "stdout",
     "output_type": "stream",
     "text": [
      "/scratch/alr664/multiple_affix/meg/A0513/A0513_rejection-epo.fif\n"
     ]
    },
    {
     "name": "stderr",
     "output_type": "stream",
     "text": [
      "/state/partition1/job-47276493/ipykernel_1448800/661870079.py:15: RuntimeWarning: tmax is not in time interval. tmax is set to <class 'mne.epochs.EpochsFIF'>.tmax (0.592 s)\n",
      "  epochs = epochs.crop(tmin=0. , tmax= 0.6)\n",
      "/state/partition1/job-47276493/ipykernel_1448800/661870079.py:22: FutureWarning: The current default of copy=False will change to copy=True in 1.7. Set the value of copy explicitly to avoid this warning\n",
      "  meg_full_data.append(epochs.get_data())\n",
      " 54%|█████▍    | 13/24 [07:43<06:30, 35.49s/it]"
     ]
    },
    {
     "name": "stdout",
     "output_type": "stream",
     "text": [
      "/scratch/alr664/multiple_affix/meg/A0514/A0514_rejection-epo.fif\n"
     ]
    },
    {
     "name": "stderr",
     "output_type": "stream",
     "text": [
      "/state/partition1/job-47276493/ipykernel_1448800/661870079.py:15: RuntimeWarning: tmax is not in time interval. tmax is set to <class 'mne.epochs.EpochsFIF'>.tmax (0.592 s)\n",
      "  epochs = epochs.crop(tmin=0. , tmax= 0.6)\n",
      "/state/partition1/job-47276493/ipykernel_1448800/661870079.py:22: FutureWarning: The current default of copy=False will change to copy=True in 1.7. Set the value of copy explicitly to avoid this warning\n",
      "  meg_full_data.append(epochs.get_data())\n",
      " 58%|█████▊    | 14/24 [08:18<05:54, 35.45s/it]"
     ]
    },
    {
     "name": "stdout",
     "output_type": "stream",
     "text": [
      "/scratch/alr664/multiple_affix/meg/A0516/A0516_rejection-epo.fif\n"
     ]
    },
    {
     "name": "stderr",
     "output_type": "stream",
     "text": [
      "/state/partition1/job-47276493/ipykernel_1448800/661870079.py:15: RuntimeWarning: tmax is not in time interval. tmax is set to <class 'mne.epochs.EpochsFIF'>.tmax (0.592 s)\n",
      "  epochs = epochs.crop(tmin=0. , tmax= 0.6)\n",
      "/state/partition1/job-47276493/ipykernel_1448800/661870079.py:22: FutureWarning: The current default of copy=False will change to copy=True in 1.7. Set the value of copy explicitly to avoid this warning\n",
      "  meg_full_data.append(epochs.get_data())\n",
      " 62%|██████▎   | 15/24 [08:54<05:18, 35.41s/it]"
     ]
    },
    {
     "name": "stdout",
     "output_type": "stream",
     "text": [
      "/scratch/alr664/multiple_affix/meg/A0517/A0517_rejection-epo.fif\n"
     ]
    },
    {
     "name": "stderr",
     "output_type": "stream",
     "text": [
      "/state/partition1/job-47276493/ipykernel_1448800/661870079.py:15: RuntimeWarning: tmax is not in time interval. tmax is set to <class 'mne.epochs.EpochsFIF'>.tmax (0.592 s)\n",
      "  epochs = epochs.crop(tmin=0. , tmax= 0.6)\n",
      "/state/partition1/job-47276493/ipykernel_1448800/661870079.py:22: FutureWarning: The current default of copy=False will change to copy=True in 1.7. Set the value of copy explicitly to avoid this warning\n",
      "  meg_full_data.append(epochs.get_data())\n",
      " 67%|██████▋   | 16/24 [09:29<04:43, 35.44s/it]"
     ]
    },
    {
     "name": "stdout",
     "output_type": "stream",
     "text": [
      "/scratch/alr664/multiple_affix/meg/A0518/A0518_rejection-epo.fif\n"
     ]
    },
    {
     "name": "stderr",
     "output_type": "stream",
     "text": [
      "/state/partition1/job-47276493/ipykernel_1448800/661870079.py:15: RuntimeWarning: tmax is not in time interval. tmax is set to <class 'mne.epochs.EpochsFIF'>.tmax (0.592 s)\n",
      "  epochs = epochs.crop(tmin=0. , tmax= 0.6)\n",
      "/state/partition1/job-47276493/ipykernel_1448800/661870079.py:22: FutureWarning: The current default of copy=False will change to copy=True in 1.7. Set the value of copy explicitly to avoid this warning\n",
      "  meg_full_data.append(epochs.get_data())\n",
      " 71%|███████   | 17/24 [10:05<04:07, 35.39s/it]"
     ]
    },
    {
     "name": "stdout",
     "output_type": "stream",
     "text": [
      "/scratch/alr664/multiple_affix/meg/A0519/A0519_rejection-epo.fif\n"
     ]
    },
    {
     "name": "stderr",
     "output_type": "stream",
     "text": [
      "/state/partition1/job-47276493/ipykernel_1448800/661870079.py:15: RuntimeWarning: tmax is not in time interval. tmax is set to <class 'mne.epochs.EpochsFIF'>.tmax (0.592 s)\n",
      "  epochs = epochs.crop(tmin=0. , tmax= 0.6)\n",
      "/state/partition1/job-47276493/ipykernel_1448800/661870079.py:22: FutureWarning: The current default of copy=False will change to copy=True in 1.7. Set the value of copy explicitly to avoid this warning\n",
      "  meg_full_data.append(epochs.get_data())\n",
      " 75%|███████▌  | 18/24 [10:40<03:32, 35.41s/it]"
     ]
    },
    {
     "name": "stdout",
     "output_type": "stream",
     "text": [
      "/scratch/alr664/multiple_affix/meg/A0520/A0520_rejection-epo.fif\n"
     ]
    },
    {
     "name": "stderr",
     "output_type": "stream",
     "text": [
      "/state/partition1/job-47276493/ipykernel_1448800/661870079.py:15: RuntimeWarning: tmax is not in time interval. tmax is set to <class 'mne.epochs.EpochsFIF'>.tmax (0.592 s)\n",
      "  epochs = epochs.crop(tmin=0. , tmax= 0.6)\n",
      "/state/partition1/job-47276493/ipykernel_1448800/661870079.py:22: FutureWarning: The current default of copy=False will change to copy=True in 1.7. Set the value of copy explicitly to avoid this warning\n",
      "  meg_full_data.append(epochs.get_data())\n",
      " 79%|███████▉  | 19/24 [11:15<02:57, 35.41s/it]"
     ]
    },
    {
     "name": "stdout",
     "output_type": "stream",
     "text": [
      "/scratch/alr664/multiple_affix/meg/A0521/A0521_rejection-epo.fif\n"
     ]
    },
    {
     "name": "stderr",
     "output_type": "stream",
     "text": [
      "/state/partition1/job-47276493/ipykernel_1448800/661870079.py:15: RuntimeWarning: tmax is not in time interval. tmax is set to <class 'mne.epochs.EpochsFIF'>.tmax (0.592 s)\n",
      "  epochs = epochs.crop(tmin=0. , tmax= 0.6)\n",
      "/state/partition1/job-47276493/ipykernel_1448800/661870079.py:22: FutureWarning: The current default of copy=False will change to copy=True in 1.7. Set the value of copy explicitly to avoid this warning\n",
      "  meg_full_data.append(epochs.get_data())\n",
      " 83%|████████▎ | 20/24 [11:51<02:21, 35.37s/it]"
     ]
    },
    {
     "name": "stdout",
     "output_type": "stream",
     "text": [
      "/scratch/alr664/multiple_affix/meg/A0522/A0522_rejection-epo.fif\n"
     ]
    },
    {
     "name": "stderr",
     "output_type": "stream",
     "text": [
      "/state/partition1/job-47276493/ipykernel_1448800/661870079.py:15: RuntimeWarning: tmax is not in time interval. tmax is set to <class 'mne.epochs.EpochsFIF'>.tmax (0.592 s)\n",
      "  epochs = epochs.crop(tmin=0. , tmax= 0.6)\n",
      "/state/partition1/job-47276493/ipykernel_1448800/661870079.py:22: FutureWarning: The current default of copy=False will change to copy=True in 1.7. Set the value of copy explicitly to avoid this warning\n",
      "  meg_full_data.append(epochs.get_data())\n",
      " 88%|████████▊ | 21/24 [12:26<01:45, 35.33s/it]"
     ]
    },
    {
     "name": "stdout",
     "output_type": "stream",
     "text": [
      "/scratch/alr664/multiple_affix/meg/A0523/A0523_rejection-epo.fif\n"
     ]
    },
    {
     "name": "stderr",
     "output_type": "stream",
     "text": [
      "/state/partition1/job-47276493/ipykernel_1448800/661870079.py:15: RuntimeWarning: tmax is not in time interval. tmax is set to <class 'mne.epochs.EpochsFIF'>.tmax (0.592 s)\n",
      "  epochs = epochs.crop(tmin=0. , tmax= 0.6)\n",
      "/state/partition1/job-47276493/ipykernel_1448800/661870079.py:22: FutureWarning: The current default of copy=False will change to copy=True in 1.7. Set the value of copy explicitly to avoid this warning\n",
      "  meg_full_data.append(epochs.get_data())\n",
      " 92%|█████████▏| 22/24 [13:01<01:10, 35.38s/it]"
     ]
    },
    {
     "name": "stdout",
     "output_type": "stream",
     "text": [
      "/scratch/alr664/multiple_affix/meg/A0524/A0524_rejection-epo.fif\n"
     ]
    },
    {
     "name": "stderr",
     "output_type": "stream",
     "text": [
      "/state/partition1/job-47276493/ipykernel_1448800/661870079.py:15: RuntimeWarning: tmax is not in time interval. tmax is set to <class 'mne.epochs.EpochsFIF'>.tmax (0.592 s)\n",
      "  epochs = epochs.crop(tmin=0. , tmax= 0.6)\n",
      "/state/partition1/job-47276493/ipykernel_1448800/661870079.py:22: FutureWarning: The current default of copy=False will change to copy=True in 1.7. Set the value of copy explicitly to avoid this warning\n",
      "  meg_full_data.append(epochs.get_data())\n",
      " 96%|█████████▌| 23/24 [13:37<00:35, 35.52s/it]"
     ]
    },
    {
     "name": "stdout",
     "output_type": "stream",
     "text": [
      "/scratch/alr664/multiple_affix/meg/A0525/A0525_rejection-epo.fif\n"
     ]
    },
    {
     "name": "stderr",
     "output_type": "stream",
     "text": [
      "/state/partition1/job-47276493/ipykernel_1448800/661870079.py:15: RuntimeWarning: tmax is not in time interval. tmax is set to <class 'mne.epochs.EpochsFIF'>.tmax (0.592 s)\n",
      "  epochs = epochs.crop(tmin=0. , tmax= 0.6)\n",
      "/state/partition1/job-47276493/ipykernel_1448800/661870079.py:22: FutureWarning: The current default of copy=False will change to copy=True in 1.7. Set the value of copy explicitly to avoid this warning\n",
      "  meg_full_data.append(epochs.get_data())\n",
      "100%|██████████| 24/24 [14:13<00:00, 35.55s/it]\n"
     ]
    },
    {
     "name": "stdout",
     "output_type": "stream",
     "text": [
      "meg full data shape:  (45264, 207, 75) (24, 1886)\n"
     ]
    }
   ],
   "source": [
    "## 3-class classification code\n",
    "\n",
    "import mne\n",
    "from glob import glob\n",
    "from tqdm import tqdm\n",
    "\n",
    "X = []\n",
    "y = []\n",
    "meg_full_data = [] \n",
    "labels_full_data = []\n",
    "for epoch_file in tqdm(epoch_files):\n",
    "    print(epoch_file)\n",
    "    epochs = mne.read_epochs(epoch_file)\n",
    "    epochs = epochs.resample(125)\n",
    "    epochs = epochs.crop(tmin=0. , tmax= 0.6)\n",
    "    #print(epochs.times)\n",
    "    # combine for 3-class classification\n",
    "    #epochs = mne.epochs.combine_event_ids(epochs, ['0Suff NW', '0Suff w/o Lat.', '0Suff w/ Lat'],  {'0Suff': 100},  True)\n",
    "    #epochs = mne.epochs.combine_event_ids(epochs, ['1Suff PseudoStemNW', '1Suff RealStemNW', '1Suff w/ Lat.', '1Suff w/o Lat.'],  {'1Suff': 101},  True)\n",
    "    #epochs = mne.epochs.combine_event_ids(epochs, ['2Suff RealStemNW', '2Suff PseudoStemNW', '2Suff w/ Lat.', '2Suff w/o Lat.', '2Suff Composite'],  {'2Suff': 102},  True)  \n",
    "    \n",
    "    meg_full_data.append(epochs.get_data())\n",
    "    labels_full_data.append(epochs.events[:, 2])\n",
    "    \n",
    "    del epochs\n",
    "    \n",
    "meg_full_data = np.vstack(meg_full_data)\n",
    "labels_full_data = np.vstack(labels_full_data)\n",
    "np.save('./meg_full_data_12.npy', meg_full_data)\n",
    "np.save('./labels_12.npy', labels_full_data.reshape(-1))\n",
    "print(\"meg full data shape: \", meg_full_data.shape, labels_full_data.shape)"
   ]
  },
  {
   "cell_type": "code",
   "execution_count": 23,
   "id": "f3b7cbba-d5b6-4f25-8a9a-aed24c2464c1",
   "metadata": {},
   "outputs": [
    {
     "name": "stdout",
     "output_type": "stream",
     "text": [
      "(45264, 207, 75) (45264,)\n"
     ]
    }
   ],
   "source": [
    "meg_full_data = np.load('./meg_full_data_12.npy')\n",
    "labels_full_data = np.load('./labels_12.npy')\n",
    "\n",
    "print(meg_full_data.shape, labels_full_data.shape)"
   ]
  },
  {
   "cell_type": "code",
   "execution_count": 24,
   "id": "ef60e2ca-8805-4e14-ae3e-f57d8ede876d",
   "metadata": {},
   "outputs": [
    {
     "name": "stdout",
     "output_type": "stream",
     "text": [
      "(207, 75)\n"
     ]
    }
   ],
   "source": [
    "## 3-class classification code\n",
    "#y_cat = np.array([int(yi[0]) for yi in y])\n",
    "#print(y_cat.shape)\n",
    "\n",
    "np.unique(labels_full_data)\n",
    "print(meg_full_data.shape[1:])\n",
    "\n",
    "#labels_full_data = np.where(labels_full_data == 12, 0, labels)\n",
    "#labels_full_data = np.where(labels_full_data == 14, 3, labels) \n",
    "#labels_full_data = np.where(labels_full_data == 15, 5, labels)\n",
    "#labels_full_data = np.where(labels_full_data == 21, 6, labels)\n",
    "#labels_full_data = np.where(labels_full_data == 22, 7, labels)\n",
    "#labels_full_data = np.where(labels_full_data == 23, 8, labels)\n",
    "#labels_full_data = np.where(labels_full_data == 24, 9, labels)\n",
    "#labels_full_data = np.where(labels_full_data == 25, 10, labels)"
   ]
  },
  {
   "cell_type": "code",
   "execution_count": 25,
   "id": "9f9a8199-15b0-4902-a7c8-1cdfb802647f",
   "metadata": {},
   "outputs": [],
   "source": [
    "labels_full_data = np.where(labels_full_data == 12, 0, labels_full_data)\n",
    "labels_full_data = np.where(labels_full_data == 14, 3, labels_full_data) \n",
    "labels_full_data = np.where(labels_full_data == 15, 5, labels_full_data)\n",
    "labels_full_data = np.where(labels_full_data == 21, 6, labels_full_data)\n",
    "labels_full_data = np.where(labels_full_data == 22, 7, labels_full_data)\n",
    "labels_full_data = np.where(labels_full_data == 23, 8, labels_full_data)\n",
    "labels_full_data = np.where(labels_full_data == 24, 9, labels_full_data)\n",
    "labels_full_data = np.where(labels_full_data == 25, 10, labels_full_data)"
   ]
  },
  {
   "cell_type": "code",
   "execution_count": 26,
   "id": "30763664-a548-4051-b6e6-98875e9c5a9b",
   "metadata": {},
   "outputs": [
    {
     "data": {
      "text/plain": [
       "array([ 0,  1,  2,  3,  4,  5,  6,  7,  8,  9, 10, 11], dtype=int32)"
      ]
     },
     "execution_count": 26,
     "metadata": {},
     "output_type": "execute_result"
    }
   ],
   "source": [
    "np.unique(labels_full_data)"
   ]
  },
  {
   "cell_type": "code",
   "execution_count": 60,
   "id": "ba93ba32-29de-4a40-a127-c3a08d698a73",
   "metadata": {},
   "outputs": [],
   "source": [
    "## Classification using GRU\n",
    "\n",
    "from tensorflow.keras.models import Model\n",
    "from tensorflow.keras.layers import Input, LSTM, Dense, GRU, Dropout\n",
    "from tensorflow.keras.optimizers import Adam\n",
    "import numpy as np\n",
    "from sklearn.model_selection import train_test_split\n",
    "from tensorflow.keras.utils import to_categorical\n",
    "\n",
    "# Define the model architecture with increased complexity\n",
    "input_layer = Input(shape=meg_full_data.shape[1:])\n",
    "\n",
    "# Increase the number of units and add more layers\n",
    "x = GRU(128, return_sequences=True)(input_layer)\n",
    "x = Dropout(0.2)(x)  # Add dropout for regularization\n",
    "x = GRU(128, return_sequences=True)(x)\n",
    "x = Dropout(0.2)(x)  # Add dropout for regularization\n",
    "x = GRU(128)(x)  # Last GRU layer does not return sequences\n",
    "x = Dropout(0.2)(x)  # Add dropout for regularization\n",
    " \n",
    "# Increase the complexity of the model further by adding Dense layers before the output\n",
    "x = Dense(64, activation='relu')(x)\n",
    "x = Dropout(0.2)(x)  # Add dropout for regularization\n",
    "x = Dense(64, activation='relu')(x)\n",
    "x = Dropout(0.2)(x)  # Add dropout for regularization\n",
    " \n",
    "#output_layer = Dense(1)(x)\n",
    "\n",
    "output_layer = Dense(len(np.unique(labels_full_data)), activation='softmax')(x)\n",
    " \n",
    "model = Model(inputs=input_layer, outputs=output_layer)\n",
    " \n",
    "# Compile the model\n",
    "model.compile(optimizer=Adam(learning_rate=0.001), loss=\"sparse_categorical_crossentropy\", metrics=['accuracy'])"
   ]
  },
  {
   "cell_type": "code",
   "execution_count": 61,
   "id": "1db71d35-216d-47a7-b70c-4441dbe292d6",
   "metadata": {},
   "outputs": [],
   "source": [
    "from sklearn.model_selection import train_test_split\n",
    "\n",
    "X_train, X_test, y_train, y_test = train_test_split(meg_full_data, labels_full_data, test_size=0.2)"
   ]
  },
  {
   "cell_type": "code",
   "execution_count": 62,
   "id": "81ea3ce7-0e32-43ea-a6ac-157b1106e0aa",
   "metadata": {},
   "outputs": [
    {
     "name": "stdout",
     "output_type": "stream",
     "text": [
      "Epoch 1/30\n",
      "\u001b[1m566/566\u001b[0m \u001b[32m━━━━━━━━━━━━━━━━━━━━\u001b[0m\u001b[37m\u001b[0m \u001b[1m18s\u001b[0m 27ms/step - accuracy: 0.1418 - loss: 2.3208\n",
      "Epoch 2/30\n",
      "\u001b[1m566/566\u001b[0m \u001b[32m━━━━━━━━━━━━━━━━━━━━\u001b[0m\u001b[37m\u001b[0m \u001b[1m15s\u001b[0m 27ms/step - accuracy: 0.1522 - loss: 2.2915\n",
      "Epoch 3/30\n",
      "\u001b[1m566/566\u001b[0m \u001b[32m━━━━━━━━━━━━━━━━━━━━\u001b[0m\u001b[37m\u001b[0m \u001b[1m15s\u001b[0m 27ms/step - accuracy: 0.1590 - loss: 2.2873\n",
      "Epoch 4/30\n",
      "\u001b[1m566/566\u001b[0m \u001b[32m━━━━━━━━━━━━━━━━━━━━\u001b[0m\u001b[37m\u001b[0m \u001b[1m15s\u001b[0m 27ms/step - accuracy: 0.1595 - loss: 2.2848\n",
      "Epoch 5/30\n",
      "\u001b[1m566/566\u001b[0m \u001b[32m━━━━━━━━━━━━━━━━━━━━\u001b[0m\u001b[37m\u001b[0m \u001b[1m15s\u001b[0m 27ms/step - accuracy: 0.1632 - loss: 2.2804\n",
      "Epoch 6/30\n",
      "\u001b[1m566/566\u001b[0m \u001b[32m━━━━━━━━━━━━━━━━━━━━\u001b[0m\u001b[37m\u001b[0m \u001b[1m15s\u001b[0m 27ms/step - accuracy: 0.1604 - loss: 2.2837\n",
      "Epoch 7/30\n",
      "\u001b[1m566/566\u001b[0m \u001b[32m━━━━━━━━━━━━━━━━━━━━\u001b[0m\u001b[37m\u001b[0m \u001b[1m15s\u001b[0m 27ms/step - accuracy: 0.1613 - loss: 2.2871\n",
      "Epoch 8/30\n",
      "\u001b[1m566/566\u001b[0m \u001b[32m━━━━━━━━━━━━━━━━━━━━\u001b[0m\u001b[37m\u001b[0m \u001b[1m15s\u001b[0m 27ms/step - accuracy: 0.1612 - loss: 2.2845\n",
      "Epoch 9/30\n",
      "\u001b[1m566/566\u001b[0m \u001b[32m━━━━━━━━━━━━━━━━━━━━\u001b[0m\u001b[37m\u001b[0m \u001b[1m15s\u001b[0m 27ms/step - accuracy: 0.1618 - loss: 2.2807\n",
      "Epoch 10/30\n",
      "\u001b[1m566/566\u001b[0m \u001b[32m━━━━━━━━━━━━━━━━━━━━\u001b[0m\u001b[37m\u001b[0m \u001b[1m15s\u001b[0m 27ms/step - accuracy: 0.1591 - loss: 2.2826\n",
      "Epoch 11/30\n",
      "\u001b[1m566/566\u001b[0m \u001b[32m━━━━━━━━━━━━━━━━━━━━\u001b[0m\u001b[37m\u001b[0m \u001b[1m15s\u001b[0m 27ms/step - accuracy: 0.1596 - loss: 2.2793\n",
      "Epoch 12/30\n",
      "\u001b[1m566/566\u001b[0m \u001b[32m━━━━━━━━━━━━━━━━━━━━\u001b[0m\u001b[37m\u001b[0m \u001b[1m15s\u001b[0m 27ms/step - accuracy: 0.1624 - loss: 2.2821\n",
      "Epoch 13/30\n",
      "\u001b[1m566/566\u001b[0m \u001b[32m━━━━━━━━━━━━━━━━━━━━\u001b[0m\u001b[37m\u001b[0m \u001b[1m15s\u001b[0m 27ms/step - accuracy: 0.1595 - loss: 2.2811\n",
      "Epoch 14/30\n",
      "\u001b[1m566/566\u001b[0m \u001b[32m━━━━━━━━━━━━━━━━━━━━\u001b[0m\u001b[37m\u001b[0m \u001b[1m15s\u001b[0m 27ms/step - accuracy: 0.1588 - loss: 2.2824\n",
      "Epoch 15/30\n",
      "\u001b[1m566/566\u001b[0m \u001b[32m━━━━━━━━━━━━━━━━━━━━\u001b[0m\u001b[37m\u001b[0m \u001b[1m15s\u001b[0m 27ms/step - accuracy: 0.1636 - loss: 2.2766\n",
      "Epoch 16/30\n",
      "\u001b[1m566/566\u001b[0m \u001b[32m━━━━━━━━━━━━━━━━━━━━\u001b[0m\u001b[37m\u001b[0m \u001b[1m15s\u001b[0m 27ms/step - accuracy: 0.1611 - loss: 2.2778\n",
      "Epoch 17/30\n",
      "\u001b[1m566/566\u001b[0m \u001b[32m━━━━━━━━━━━━━━━━━━━━\u001b[0m\u001b[37m\u001b[0m \u001b[1m15s\u001b[0m 27ms/step - accuracy: 0.1634 - loss: 2.2835\n",
      "Epoch 18/30\n",
      "\u001b[1m566/566\u001b[0m \u001b[32m━━━━━━━━━━━━━━━━━━━━\u001b[0m\u001b[37m\u001b[0m \u001b[1m15s\u001b[0m 27ms/step - accuracy: 0.1608 - loss: 2.2815\n",
      "Epoch 19/30\n",
      "\u001b[1m566/566\u001b[0m \u001b[32m━━━━━━━━━━━━━━━━━━━━\u001b[0m\u001b[37m\u001b[0m \u001b[1m15s\u001b[0m 27ms/step - accuracy: 0.1636 - loss: 2.2833\n",
      "Epoch 20/30\n",
      "\u001b[1m566/566\u001b[0m \u001b[32m━━━━━━━━━━━━━━━━━━━━\u001b[0m\u001b[37m\u001b[0m \u001b[1m15s\u001b[0m 27ms/step - accuracy: 0.1625 - loss: 2.2805\n",
      "Epoch 21/30\n",
      "\u001b[1m566/566\u001b[0m \u001b[32m━━━━━━━━━━━━━━━━━━━━\u001b[0m\u001b[37m\u001b[0m \u001b[1m15s\u001b[0m 27ms/step - accuracy: 0.1622 - loss: 2.2786\n",
      "Epoch 22/30\n",
      "\u001b[1m566/566\u001b[0m \u001b[32m━━━━━━━━━━━━━━━━━━━━\u001b[0m\u001b[37m\u001b[0m \u001b[1m15s\u001b[0m 27ms/step - accuracy: 0.1620 - loss: 2.2802\n",
      "Epoch 23/30\n",
      "\u001b[1m566/566\u001b[0m \u001b[32m━━━━━━━━━━━━━━━━━━━━\u001b[0m\u001b[37m\u001b[0m \u001b[1m15s\u001b[0m 27ms/step - accuracy: 0.1612 - loss: 2.2818\n",
      "Epoch 24/30\n",
      "\u001b[1m566/566\u001b[0m \u001b[32m━━━━━━━━━━━━━━━━━━━━\u001b[0m\u001b[37m\u001b[0m \u001b[1m15s\u001b[0m 27ms/step - accuracy: 0.1611 - loss: 2.2826\n",
      "Epoch 25/30\n",
      "\u001b[1m566/566\u001b[0m \u001b[32m━━━━━━━━━━━━━━━━━━━━\u001b[0m\u001b[37m\u001b[0m \u001b[1m15s\u001b[0m 27ms/step - accuracy: 0.1608 - loss: 2.2847\n",
      "Epoch 26/30\n",
      "\u001b[1m566/566\u001b[0m \u001b[32m━━━━━━━━━━━━━━━━━━━━\u001b[0m\u001b[37m\u001b[0m \u001b[1m15s\u001b[0m 27ms/step - accuracy: 0.1566 - loss: 2.2846\n",
      "Epoch 27/30\n",
      "\u001b[1m566/566\u001b[0m \u001b[32m━━━━━━━━━━━━━━━━━━━━\u001b[0m\u001b[37m\u001b[0m \u001b[1m15s\u001b[0m 27ms/step - accuracy: 0.1614 - loss: 2.2848\n",
      "Epoch 28/30\n",
      "\u001b[1m566/566\u001b[0m \u001b[32m━━━━━━━━━━━━━━━━━━━━\u001b[0m\u001b[37m\u001b[0m \u001b[1m15s\u001b[0m 27ms/step - accuracy: 0.1608 - loss: 2.2763\n",
      "Epoch 29/30\n",
      "\u001b[1m566/566\u001b[0m \u001b[32m━━━━━━━━━━━━━━━━━━━━\u001b[0m\u001b[37m\u001b[0m \u001b[1m15s\u001b[0m 27ms/step - accuracy: 0.1602 - loss: 2.2826\n",
      "Epoch 30/30\n",
      "\u001b[1m566/566\u001b[0m \u001b[32m━━━━━━━━━━━━━━━━━━━━\u001b[0m\u001b[37m\u001b[0m \u001b[1m15s\u001b[0m 27ms/step - accuracy: 0.1646 - loss: 2.2782\n"
     ]
    },
    {
     "data": {
      "text/plain": [
       "<keras.src.callbacks.history.History at 0x153c1a5698b0>"
      ]
     },
     "execution_count": 62,
     "metadata": {},
     "output_type": "execute_result"
    }
   ],
   "source": [
    "# Train the model\n",
    "model.fit(X_train, y_train, batch_size=64, epochs=30, verbose=True)"
   ]
  },
  {
   "cell_type": "code",
   "execution_count": 63,
   "id": "a5fc6958-2036-4db5-a38f-4f26e958603c",
   "metadata": {},
   "outputs": [
    {
     "name": "stdout",
     "output_type": "stream",
     "text": [
      "\u001b[1m283/283\u001b[0m \u001b[32m━━━━━━━━━━━━━━━━━━━━\u001b[0m\u001b[37m\u001b[0m \u001b[1m3s\u001b[0m 10ms/step - accuracy: 0.1499 - loss: 2.2765\n",
      "Test Accuracy: 0.1535\n"
     ]
    }
   ],
   "source": [
    "# Evaluate the model on the test set\n",
    "#X_test, y_test = meg_full_data[43378:], labels_full_data[43378:]\n",
    "loss, accuracy = model.evaluate(X_test, y_test, verbose=1)\n",
    "print(f'Test Accuracy: {accuracy:.4f}')"
   ]
  },
  {
   "cell_type": "code",
   "execution_count": 66,
   "id": "7ed54331-0882-48b5-938d-927af4dd85e0",
   "metadata": {},
   "outputs": [
    {
     "name": "stdout",
     "output_type": "stream",
     "text": [
      "\u001b[1m283/283\u001b[0m \u001b[32m━━━━━━━━━━━━━━━━━━━━\u001b[0m\u001b[37m\u001b[0m \u001b[1m3s\u001b[0m 9ms/step\n"
     ]
    }
   ],
   "source": [
    "y_pred = model.predict(X_test)"
   ]
  },
  {
   "cell_type": "code",
   "execution_count": 67,
   "id": "6213ba4d-dc36-47ef-8ec7-b9b533983a63",
   "metadata": {},
   "outputs": [
    {
     "name": "stdout",
     "output_type": "stream",
     "text": [
      "[[0.13307685 0.01636612 0.12238953 ... 0.11022221 0.10515746 0.01740436]\n",
      " [0.13307685 0.01636612 0.12238953 ... 0.11022221 0.10515746 0.01740436]\n",
      " [0.13307685 0.01636612 0.12238953 ... 0.11022221 0.10515746 0.01740436]\n",
      " ...\n",
      " [0.13307685 0.01636612 0.12238953 ... 0.11022221 0.10515746 0.01740436]\n",
      " [0.13307685 0.01636612 0.12238953 ... 0.11022221 0.10515746 0.01740436]\n",
      " [0.13307685 0.01636612 0.12238953 ... 0.11022221 0.10515746 0.01740436]]\n"
     ]
    }
   ],
   "source": [
    "print(y_pred)"
   ]
  },
  {
   "cell_type": "code",
   "execution_count": null,
   "id": "1ab7cce7-5696-47b3-a5ee-5c9198dca1e3",
   "metadata": {},
   "outputs": [],
   "source": []
  }
 ],
 "metadata": {
  "kernelspec": {
   "display_name": "aifsr_env",
   "language": "python",
   "name": "aifsr_env"
  },
  "language_info": {
   "codemirror_mode": {
    "name": "ipython",
    "version": 3
   },
   "file_extension": ".py",
   "mimetype": "text/x-python",
   "name": "python",
   "nbconvert_exporter": "python",
   "pygments_lexer": "ipython3",
   "version": "3.12.1"
  }
 },
 "nbformat": 4,
 "nbformat_minor": 5
}
