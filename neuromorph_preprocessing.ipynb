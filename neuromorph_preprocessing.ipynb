{
 "cells": [
  {
   "cell_type": "code",
   "execution_count": null,
   "metadata": {},
   "outputs": [],
   "source": [
    "import mne, os, glob, pickle, matplotlib, itertools\n",
    "import numpy as np\n",
    "import pandas as pd\n",
    "mne.set_log_level(verbose=False)\n",
    "matplotlib.use('Qt5Agg') #ipython\n",
    "#%matplotlib inline"
   ]
  },
  {
   "cell_type": "code",
   "execution_count": null,
   "metadata": {},
   "outputs": [],
   "source": [
    "ROOT = '/Users/alr664/Desktop/multiple_affix'\n",
    "os.chdir(ROOT)\n",
    "subjects_dir = ROOT + '/mri/'\n",
    "meg = ROOT + '/data/'\n",
    "logs = ROOT + '/logs/'\n",
    "\n",
    "#file search\n",
    "exp = 'MA'\n",
    "\n",
    "subjects = [\"A0394\", \"A0421\", \"A0446\", \"A0451\", \"A0468\", \"A0484\", \"A0495\", \"A0502\", \"A0503\", \"A0508\", \n",
    "                \"A0509\", \"A0512\", \"A0513\", \"A0514\", \"A0516\", \"A0517\", \"A0518\", \"A0519\", \"A0520\", \"A0521\", \n",
    "                \"A0522\", \"A0523\", \"A0524\", \"A0525\"]\n",
    "\n",
    "#manually set subj and date here\n",
    "subj = ''\n",
    "date = ''\n",
    "\n",
    "event_ids = {\n",
    "    '0Suff w/ Lat': 1,\n",
    "    '0Suff w/o Lat.': 2,\n",
    "    '0Suff NW': 4,\n",
    "    '1Suff w/ Lat.': 11,\n",
    "    '1Suff w/o Lat.': 12,\n",
    "    '1Suff PseudoStemNW': 14,\n",
    "    '1Suff RealStemNW': 15,\n",
    "    '2Suff w/ Lat.': 21,\n",
    "    '2Suff w/o Lat.': 22,\n",
    "    '2Suff Composite': 23,\n",
    "    '2Suff PseudoStemNW': 24,\n",
    "    '2Suff RealStemNW': 25\n",
    "}\n",
    "\n",
    "#'practice': 99\n",
    "\n",
    "nonwords = [4, 14, 15, 24] \n",
    "realwords = [1, 2, 11, 12, 21, 22, 23, 25] \n",
    "\n",
    "\n",
    "# --- Epochs and timing\n",
    "tmin = -0.1\n",
    "tmax = 1.4\n",
    "\n",
    "baseline = (-0.1,0)\n",
    "decim = 1\n",
    "\n",
    "# --- Source Reconstruction\n",
    "fixed = True    #True for Signed Data (+/-), False for Unsigned Data\n",
    "SNR = 3         # 3 for evoked, 2 for single-trial/epochs\n",
    "lambda2 = 1.0 / SNR ** 2.0"
   ]
  },
  {
   "cell_type": "markdown",
   "metadata": {},
   "source": [
    "you'll need to make sure each logfile matches the events length. \n",
    "\n",
    "sometimes, the experiment is paused and resumes, which sends two triggers for the same event.\n",
    "there is a trigger marking the start of the experiment and one for each trial.\n",
    "\n",
    "events have this format:"
   ]
  },
  {
   "cell_type": "code",
   "execution_count": null,
   "metadata": {
    "vscode": {
     "languageId": "plaintext"
    }
   },
   "outputs": [],
   "source": [
    "events = [[  23573       0     164]\n",
    "            [  27939       0     164]\n",
    "            [  33189       0     164]\n",
    "            ...\n",
    "            [2473938       0     165]\n",
    "            [2477054       0     165]\n",
    "            [2480253       0     165]]"
   ]
  },
  {
   "cell_type": "markdown",
   "metadata": {},
   "source": [
    " index [0] is the timepoint in ms,\n",
    " you can ignore index [1], it tells us the preceding event's trigger,\n",
    " index [2] tells us the current event's trigger but you can keep or change this depending on how you want to access the trial metadata"
   ]
  },
  {
   "cell_type": "code",
   "execution_count": null,
   "metadata": {},
   "outputs": [],
   "source": [
    "print(subj + '...')\n",
    "raw = mne.io.read_raw_fif('meg/%s/%s_%s_ICA-raw.fif' %(subj, subj, exp), preload=True)\n",
    "events = mne.find_events(raw, min_duration=0.002)\n",
    "\n",
    "info = raw.info\n",
    "picks_meg = mne.pick_types(info, meg=True, eeg=False, eog=False, stim=False)\n",
    "pickle.dump(info, open('meg/%s/%s_info.pickled' %(subj,subj), 'wb'))\n",
    "\n",
    "event_id = {'all':1}\n",
    "\n",
    "events_test = events\n",
    "\n",
    "# print('Overwriting events with logfile...')\n",
    "# events_test[:,1] = 0\n",
    "# events_test[:,2] = 1\n",
    "\n",
    "print(\"Creating epochs and metadata\")\n",
    "if not os.path.exists('meg/%s/epochs' %subj):\n",
    "        os.makedirs('meg/%s/epochs' %subj)\n",
    "\n",
    "logfile_dir = f'logs/{subj}_logfile.csv'\n",
    "logfile = pd.read_csv(logfile_dir)  #metadata=logfile\n",
    "\n",
    "epochs = mne.Epochs(raw, events_test, event_id=event_ids, tmin=tmin, tmax=tmax, baseline=baseline, picks=picks_meg, decim=decim, metadata=logfile, reject_by_annotation=True, preload=True)\n",
    "epochs.save('meg/%s/epochs/%s_%s-epo.fif'%(subj,subj, exp), overwrite=True)\n",
    "print('Done.')"
   ]
  },
  {
   "cell_type": "code",
   "execution_count": null,
   "metadata": {},
   "outputs": [],
   "source": [
    "for subj in subjects:\n",
    "    print('Rejecting epochs for %s'%(subj)) # reject epochs with any signal above threshold 3e-10\n",
    "    cache_dir = ROOT + '/meg/%s/cache/' %(subj)\n",
    "    epochs = mne.read_epochs('meg/%s/epochs/%s_rejection-epo.fif'%(subj,subj))\n",
    "    n_init_epochs = len(epochs)\n",
    "    reject = {'mag': 3e-10}\n",
    "    epochs.drop_bad(reject)\n",
    "    #epochs_rej = epochs[rejs]\n",
    "    print(epochs)\n",
    "    \n",
    "    print ('Saving epochs to file...')\n",
    "    n_good_epochs = len(epochs)\n",
    "    n_epochs_rej = n_init_epochs - n_good_epochs\n",
    "\n",
    "    #write log of number of epochs dropped\n",
    "    file = open(cache_dir + subj + '_bad_epochs.txt','w')\n",
    "    n = str(n_epochs_rej)\n",
    "    file.write(n+\"\\n\")\n",
    "    file.close()\n",
    "\n",
    "    #save only good epochs\n",
    "    epochs.save('meg/%s/epochs/%s_rejection-epo.fif' %(subj,subj),overwrite=True)\n",
    "    print ('Done.')"
   ]
  },
  {
   "cell_type": "markdown",
   "metadata": {},
   "source": [
    "you can also manually reject epochs that are noisy but fall below the threshold.\n",
    "\n",
    "\n",
    "you'll need to use eelbrain in ipython. activate the eelbrain environment, then type \"eelbrain\" to open a specific ipython profile \n",
    "\n",
    "\n",
    "then load in dependencies and use the GUI to reject trials *if needed* "
   ]
  },
  {
   "cell_type": "code",
   "execution_count": null,
   "metadata": {},
   "outputs": [],
   "source": [
    "# in 'eelbrain' ipython environment only\n",
    "\n",
    "subj = input('subject: ')\n",
    "cache_dir = ROOT + '/meg/%s/cache/' %(subj)\n",
    "\n",
    "epochs = mne.read_epochs('meg/%s/epochs/%s_rejection-epo.fif'%(subj,subj))\n",
    "n_init_epochs = len(epochs)\n",
    "eelbrain.gui.select_epochs(epochs, vlim=3e-12)"
   ]
  }
 ],
 "metadata": {
  "language_info": {
   "name": "python"
  },
  "orig_nbformat": 4
 },
 "nbformat": 4,
 "nbformat_minor": 2
}
