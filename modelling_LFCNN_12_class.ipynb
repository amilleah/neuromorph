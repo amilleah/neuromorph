{
 "cells": [
  {
   "cell_type": "code",
   "execution_count": 1,
   "id": "ac210655-3d5f-4e89-8a69-936812ba7a69",
   "metadata": {},
   "outputs": [
    {
     "name": "stdout",
     "output_type": "stream",
     "text": [
      "0.5.6\n"
     ]
    }
   ],
   "source": [
    "import numpy as np\n",
    "\n",
    "import mne\n",
    "mne.set_log_level(verbose='CRITICAL')\n",
    "from mne.datasets import multimodal\n",
    "\n",
    "import os\n",
    "import glob\n",
    "os.environ['TF_CPP_MIN_LOG_LEVEL'] = '3'\n",
    "\n",
    "import tensorflow as tf\n",
    "tf.get_logger().setLevel('ERROR')\n",
    "tf.autograph.set_verbosity(0)\n",
    "\n",
    "import mneflow\n",
    "print(mneflow.__version__)"
   ]
  },
  {
   "cell_type": "code",
   "execution_count": 2,
   "id": "1f097b5f-9739-4247-806b-d5c7cebdde1d",
   "metadata": {},
   "outputs": [],
   "source": [
    "root = '/scratch/alr664/multiple_affix'\n",
    "meg = root + '/meg'\n",
    "logs = root + '/logs'\n",
    "\n",
    "full_dataset = [\"A0394\", \"A0421\", \"A0446\", \"A0451\", \"A0468\", \"A0484\", \"A0495\", \"A0502\", \"A0503\", \"A0508\", \n",
    "                \"A0509\", \"A0512\", \"A0513\", \"A0514\", \"A0516\", \"A0517\", \"A0518\", \"A0519\", \"A0520\", \"A0521\", \n",
    "                \"A0522\", \"A0523\", \"A0524\", \"A0525\"]"
   ]
  },
  {
   "cell_type": "code",
   "execution_count": 3,
   "id": "916c4e7f-a014-4624-b643-280ff54f1fbf",
   "metadata": {},
   "outputs": [
    {
     "data": {
      "text/plain": [
       "24"
      ]
     },
     "execution_count": 3,
     "metadata": {},
     "output_type": "execute_result"
    }
   ],
   "source": [
    "subjects = [subj for subj in os.listdir(meg) if not subj.startswith('.')]\n",
    "subjects\n",
    "len(subjects)"
   ]
  },
  {
   "cell_type": "code",
   "execution_count": 4,
   "id": "fb7a998c-696f-4ade-a670-c165a7e332d3",
   "metadata": {},
   "outputs": [
    {
     "name": "stdout",
     "output_type": "stream",
     "text": [
      "/scratch/alr664/multiple_affix/meg/A0394/A0394_rejection-epo.fif\n",
      "/scratch/alr664/multiple_affix/meg/A0421/A0421_rejection-epo.fif\n",
      "/scratch/alr664/multiple_affix/meg/A0446/A0446_rejection-epo.fif\n",
      "/scratch/alr664/multiple_affix/meg/A0451/A0451_rejection-epo.fif\n",
      "/scratch/alr664/multiple_affix/meg/A0468/A0468_rejection-epo.fif\n",
      "/scratch/alr664/multiple_affix/meg/A0484/A0484_rejection-epo.fif\n",
      "/scratch/alr664/multiple_affix/meg/A0495/A0495_rejection-epo.fif\n",
      "/scratch/alr664/multiple_affix/meg/A0502/A0502_rejection-epo.fif\n",
      "/scratch/alr664/multiple_affix/meg/A0503/A0503_rejection-epo.fif\n",
      "/scratch/alr664/multiple_affix/meg/A0508/A0508_rejection-epo.fif\n",
      "/scratch/alr664/multiple_affix/meg/A0509/A0509_rejection-epo.fif\n",
      "/scratch/alr664/multiple_affix/meg/A0512/A0512_rejection-epo.fif\n",
      "/scratch/alr664/multiple_affix/meg/A0513/A0513_rejection-epo.fif\n",
      "/scratch/alr664/multiple_affix/meg/A0514/A0514_rejection-epo.fif\n",
      "/scratch/alr664/multiple_affix/meg/A0516/A0516_rejection-epo.fif\n",
      "/scratch/alr664/multiple_affix/meg/A0517/A0517_rejection-epo.fif\n",
      "/scratch/alr664/multiple_affix/meg/A0518/A0518_rejection-epo.fif\n",
      "/scratch/alr664/multiple_affix/meg/A0519/A0519_rejection-epo.fif\n",
      "/scratch/alr664/multiple_affix/meg/A0520/A0520_rejection-epo.fif\n",
      "/scratch/alr664/multiple_affix/meg/A0521/A0521_rejection-epo.fif\n",
      "/scratch/alr664/multiple_affix/meg/A0522/A0522_rejection-epo.fif\n",
      "/scratch/alr664/multiple_affix/meg/A0523/A0523_rejection-epo.fif\n",
      "/scratch/alr664/multiple_affix/meg/A0524/A0524_rejection-epo.fif\n",
      "/scratch/alr664/multiple_affix/meg/A0525/A0525_rejection-epo.fif\n",
      "Done!\n",
      "Done!.\n"
     ]
    }
   ],
   "source": [
    "epochs_list = []\n",
    "\n",
    "for subject in full_dataset:\n",
    "    subj_epoch_path = meg + '/' + subject + '/' + subject + '_rejection-epo.fif'\n",
    "    print(subj_epoch_path)\n",
    "    subj_epoch = mne.read_epochs(subj_epoch_path)\n",
    "    subj_epoch = subj_epoch.resample(125)\n",
    "    subj_epoch_mag = subj_epoch.pick_types(meg='mag')\n",
    "    epochs_list.append(subj_epoch_mag)\n",
    "\n",
    "print(\"Done!\")\n",
    "\n",
    "epochs = mne.concatenate_epochs(epochs_list, on_mismatch='ignore')\n",
    "\n",
    "print(\"Done!.\")"
   ]
  },
  {
   "cell_type": "code",
   "execution_count": 5,
   "id": "04049933-ee12-49e6-b4dc-04e353d8230d",
   "metadata": {},
   "outputs": [
    {
     "data": {
      "text/plain": [
       "(45264, 207, 100)"
      ]
     },
     "execution_count": 5,
     "metadata": {},
     "output_type": "execute_result"
    }
   ],
   "source": [
    "epochs.get_data().shape"
   ]
  },
  {
   "cell_type": "code",
   "execution_count": 6,
   "id": "b17069fc-5be6-4982-b4ef-9d6f884fea21",
   "metadata": {},
   "outputs": [
    {
     "data": {
      "text/plain": [
       "{'0Suff w/ Lat': 1,\n",
       " '0Suff w/o Lat.': 2,\n",
       " '0Suff NW': 4,\n",
       " '1Suff w/ Lat.': 11,\n",
       " '1Suff w/o Lat.': 12,\n",
       " '1Suff PseudoStemNW': 14,\n",
       " '1Suff RealStemNW': 15,\n",
       " '2Suff w/ Lat.': 21,\n",
       " '2Suff w/o Lat.': 22,\n",
       " '2Suff Composite': 23,\n",
       " '2Suff PseudoStemNW': 24,\n",
       " '2Suff RealStemNW': 25}"
      ]
     },
     "execution_count": 6,
     "metadata": {},
     "output_type": "execute_result"
    }
   ],
   "source": [
    "epochs.event_id"
   ]
  },
  {
   "cell_type": "code",
   "execution_count": 7,
   "id": "1a66e4df-264f-4a75-a56c-354dfaa4eddb",
   "metadata": {},
   "outputs": [
    {
     "data": {
      "text/plain": [
       "Counter({22: 7200,\n",
       "         4: 6168,\n",
       "         12: 6072,\n",
       "         2: 5448,\n",
       "         24: 4992,\n",
       "         25: 4656,\n",
       "         14: 3648,\n",
       "         15: 3168,\n",
       "         23: 1536,\n",
       "         21: 912,\n",
       "         11: 744,\n",
       "         1: 720})"
      ]
     },
     "execution_count": 7,
     "metadata": {},
     "output_type": "execute_result"
    }
   ],
   "source": [
    "from collections import Counter\n",
    "Counter([event[2] for event in epochs.events])"
   ]
  },
  {
   "cell_type": "code",
   "execution_count": 8,
   "id": "bd40ef68-adc8-41b8-9ecf-fe6c39ab27e4",
   "metadata": {},
   "outputs": [
    {
     "data": {
      "text/plain": [
       "array([-0.2  , -0.192, -0.184, -0.176, -0.168, -0.16 , -0.152, -0.144,\n",
       "       -0.136, -0.128, -0.12 , -0.112, -0.104, -0.096, -0.088, -0.08 ,\n",
       "       -0.072, -0.064, -0.056, -0.048, -0.04 , -0.032, -0.024, -0.016,\n",
       "       -0.008,  0.   ,  0.008,  0.016,  0.024,  0.032,  0.04 ,  0.048,\n",
       "        0.056,  0.064,  0.072,  0.08 ,  0.088,  0.096,  0.104,  0.112,\n",
       "        0.12 ,  0.128,  0.136,  0.144,  0.152,  0.16 ,  0.168,  0.176,\n",
       "        0.184,  0.192,  0.2  ,  0.208,  0.216,  0.224,  0.232,  0.24 ,\n",
       "        0.248,  0.256,  0.264,  0.272,  0.28 ,  0.288,  0.296,  0.304,\n",
       "        0.312,  0.32 ,  0.328,  0.336,  0.344,  0.352,  0.36 ,  0.368,\n",
       "        0.376,  0.384,  0.392,  0.4  ,  0.408,  0.416,  0.424,  0.432,\n",
       "        0.44 ,  0.448,  0.456,  0.464,  0.472,  0.48 ,  0.488,  0.496,\n",
       "        0.504,  0.512,  0.52 ,  0.528,  0.536,  0.544,  0.552,  0.56 ,\n",
       "        0.568,  0.576,  0.584,  0.592])"
      ]
     },
     "execution_count": 8,
     "metadata": {},
     "output_type": "execute_result"
    }
   ],
   "source": [
    "epochs.times"
   ]
  },
  {
   "cell_type": "code",
   "execution_count": 9,
   "id": "f98c7849-ce4b-4bd4-8e8f-ae3e67ead696",
   "metadata": {},
   "outputs": [],
   "source": [
    "epochs = epochs.crop(tmin=0. , tmax= 0.6)"
   ]
  },
  {
   "cell_type": "code",
   "execution_count": 10,
   "id": "4b86e437-8083-4c82-82bb-5fdadbc16f06",
   "metadata": {},
   "outputs": [
    {
     "data": {
      "text/plain": [
       "array([0.   , 0.008, 0.016, 0.024, 0.032, 0.04 , 0.048, 0.056, 0.064,\n",
       "       0.072, 0.08 , 0.088, 0.096, 0.104, 0.112, 0.12 , 0.128, 0.136,\n",
       "       0.144, 0.152, 0.16 , 0.168, 0.176, 0.184, 0.192, 0.2  , 0.208,\n",
       "       0.216, 0.224, 0.232, 0.24 , 0.248, 0.256, 0.264, 0.272, 0.28 ,\n",
       "       0.288, 0.296, 0.304, 0.312, 0.32 , 0.328, 0.336, 0.344, 0.352,\n",
       "       0.36 , 0.368, 0.376, 0.384, 0.392, 0.4  , 0.408, 0.416, 0.424,\n",
       "       0.432, 0.44 , 0.448, 0.456, 0.464, 0.472, 0.48 , 0.488, 0.496,\n",
       "       0.504, 0.512, 0.52 , 0.528, 0.536, 0.544, 0.552, 0.56 , 0.568,\n",
       "       0.576, 0.584, 0.592])"
      ]
     },
     "execution_count": 10,
     "metadata": {},
     "output_type": "execute_result"
    }
   ],
   "source": [
    "epochs.times"
   ]
  },
  {
   "cell_type": "code",
   "execution_count": 11,
   "id": "1f7b2012-2497-4c69-b0bd-c81827ed7238",
   "metadata": {},
   "outputs": [
    {
     "data": {
      "text/plain": [
       "(45264, 207, 75)"
      ]
     },
     "execution_count": 11,
     "metadata": {},
     "output_type": "execute_result"
    }
   ],
   "source": [
    "epochs.get_data().shape"
   ]
  },
  {
   "cell_type": "code",
   "execution_count": 12,
   "id": "f3ba65ae-8fa8-457a-8ea4-3e177e39f1a6",
   "metadata": {},
   "outputs": [],
   "source": [
    "path = './data/'\n",
    "data_id = 'meg_epochs_12'\n",
    "\n",
    "import_opt = dict(path=path,\n",
    "                  data_id=data_id,\n",
    "                  input_type='trials',\n",
    "                  target_type='int',\n",
    "                  n_folds= 5,\n",
    "                  test_set = 'holdout',\n",
    "                  overwrite=True,\n",
    "                  picks={'meg':'grad'},\n",
    "                  scale=False,\n",
    "                  crop_baseline=False,\n",
    "                  decimate=None,\n",
    "                  )"
   ]
  },
  {
   "cell_type": "code",
   "execution_count": 13,
   "id": "41f37ce1-17d6-4829-9a9c-ff8f75b905ba",
   "metadata": {},
   "outputs": [
    {
     "name": "stdout",
     "output_type": "stream",
     "text": [
      "processing epochs\n",
      "Input shapes: X (n, ch, t) :  (45264, 207, 75) y (n, [signal_channels], y_shape) :  (45264, 1) \n",
      " input_type :  trials target_type :  int segment_y :  False\n",
      "Preprocessing:\n",
      "n: 45264\n",
      "Splitting into: 6 folds x 7544\n",
      "Preprocessed: (45264, 1, 75, 207) (45264, 1) folds: 6 x 7544\n",
      "Preprocessed targets:  (45264, 1)\n",
      "Prepocessed sample shape: (1, 75, 207)\n",
      "Target shape actual/metadata:  (12,) (12,)\n",
      "Saving TFRecord# 0\n",
      "Updating: meta.data\n",
      "Updating: meta.preprocessing\n"
     ]
    }
   ],
   "source": [
    "meta = mneflow.produce_tfrecords(epochs, **import_opt)"
   ]
  },
  {
   "cell_type": "code",
   "execution_count": 14,
   "id": "3cf57c5b-554d-449e-bc18-80f2235dabec",
   "metadata": {},
   "outputs": [
    {
     "name": "stderr",
     "output_type": "stream",
     "text": [
      "2024-06-05 22:22:25.813966: I tensorflow/core/common_runtime/gpu/gpu_device.cc:1928] Created device /job:localhost/replica:0/task:0/device:GPU:0 with 31141 MB memory:  -> device: 0, name: Tesla V100-PCIE-32GB, pci bus id: 0000:86:00.0, compute capability: 7.0\n"
     ]
    },
    {
     "name": "stdout",
     "output_type": "stream",
     "text": [
      "Updating: meta.data\n"
     ]
    }
   ],
   "source": [
    "dataset = mneflow.Dataset(meta, train_batch=64)"
   ]
  },
  {
   "cell_type": "code",
   "execution_count": 15,
   "id": "0a01d504-2b7f-4ea9-a09a-dd9043680ae2",
   "metadata": {},
   "outputs": [
    {
     "name": "stdout",
     "output_type": "stream",
     "text": [
      "Updating: meta.model_specs\n",
      "Updating: meta.data\n",
      "Setting reg for dmx, to l1\n",
      "Built: dmx input: (None, 1, 75, 207)\n",
      "Setting reg for tconv, to l1\n",
      "Built: tconv input: (None, 1, 75, 32)\n",
      "Setting reg for fc, to l1\n",
      "Built: fc input: (None, 1, 38, 32)\n",
      "Input shape: (1, 75, 207)\n",
      "y_pred: (None, 12)\n",
      "Initialization complete!\n"
     ]
    }
   ],
   "source": [
    "lfcnn_params = dict(n_latent=32,\n",
    "                  filter_length=7,\n",
    "                  nonlin = tf.nn.relu,\n",
    "                  padding = 'SAME',\n",
    "                  pooling = 2,\n",
    "                  pool_type='max',\n",
    "                  dropout = .5,\n",
    "                  l1_scope = [\"weights\"],\n",
    "                  l1=3e-4)\n",
    "\n",
    "meta.update(model_specs=lfcnn_params)\n",
    "\n",
    "model = mneflow.models.LFCNN(meta)\n",
    "model.build()"
   ]
  },
  {
   "cell_type": "code",
   "execution_count": 16,
   "id": "4c997a4f-908b-445a-a5b2-d18d3e949fef",
   "metadata": {},
   "outputs": [
    {
     "name": "stdout",
     "output_type": "stream",
     "text": [
      "Updating: meta.train_params\n",
      "Class weights:  None\n",
      "Running cross-validation with 5 folds\n",
      "fold: 0\n",
      "Epoch 1/20\n"
     ]
    },
    {
     "name": "stderr",
     "output_type": "stream",
     "text": [
      "WARNING: All log messages before absl::InitializeLog() is called are written to STDERR\n",
      "I0000 00:00:1717640552.019384  567831 service.cc:145] XLA service 0x14a6a4008330 initialized for platform CUDA (this does not guarantee that XLA will be used). Devices:\n",
      "I0000 00:00:1717640552.019444  567831 service.cc:153]   StreamExecutor device (0): Tesla V100-PCIE-32GB, Compute Capability 7.0\n",
      "2024-06-05 22:22:33.181535: I tensorflow/compiler/mlir/tensorflow/utils/dump_mlir_util.cc:268] disabling MLIR crash reproducer, set env var `MLIR_CRASH_REPRODUCER_DIRECTORY` to enable.\n",
      "2024-06-05 22:22:34.995408: I external/local_xla/xla/stream_executor/cuda/cuda_dnn.cc:465] Loaded cuDNN version 8902\n",
      "I0000 00:00:1717640563.565055  567831 device_compiler.h:188] Compiled cluster using XLA!  This line is logged at most once for the lifetime of the process.\n"
     ]
    },
    {
     "name": "stdout",
     "output_type": "stream",
     "text": [
      "50/50 - 18s - 366ms/step - cat_ACC: 0.1366 - loss: 2.6524 - val_cat_ACC: 0.1583 - val_loss: 2.5744\n",
      "Epoch 2/20\n",
      "50/50 - 1s - 21ms/step - cat_ACC: 0.1497 - loss: 2.5699 - val_cat_ACC: 0.1583 - val_loss: 2.5468\n",
      "Epoch 3/20\n",
      "50/50 - 2s - 35ms/step - cat_ACC: 0.1525 - loss: 2.5319 - val_cat_ACC: 0.1583 - val_loss: 2.5144\n",
      "Epoch 4/20\n",
      "50/50 - 2s - 32ms/step - cat_ACC: 0.1388 - loss: 2.5220 - val_cat_ACC: 0.1583 - val_loss: 2.4900\n",
      "Epoch 5/20\n",
      "50/50 - 2s - 36ms/step - cat_ACC: 0.1491 - loss: 2.5026 - val_cat_ACC: 0.1583 - val_loss: 2.4682\n",
      "Epoch 6/20\n",
      "50/50 - 2s - 32ms/step - cat_ACC: 0.1491 - loss: 2.4787 - val_cat_ACC: 0.1583 - val_loss: 2.4472\n",
      "Epoch 7/20\n",
      "50/50 - 2s - 30ms/step - cat_ACC: 0.1475 - loss: 2.4519 - val_cat_ACC: 0.1583 - val_loss: 2.4299\n",
      "Epoch 8/20\n",
      "50/50 - 2s - 37ms/step - cat_ACC: 0.1465 - loss: 2.4415 - val_cat_ACC: 0.1583 - val_loss: 2.4192\n",
      "Epoch 9/20\n",
      "50/50 - 1s - 23ms/step - cat_ACC: 0.1525 - loss: 2.4186 - val_cat_ACC: 0.1583 - val_loss: 2.4038\n",
      "Epoch 10/20\n",
      "50/50 - 2s - 30ms/step - cat_ACC: 0.1622 - loss: 2.4003 - val_cat_ACC: 0.1583 - val_loss: 2.3960\n",
      "Epoch 11/20\n",
      "50/50 - 2s - 32ms/step - cat_ACC: 0.1584 - loss: 2.3977 - val_cat_ACC: 0.1583 - val_loss: 2.3874\n",
      "Epoch 12/20\n",
      "50/50 - 2s - 38ms/step - cat_ACC: 0.1459 - loss: 2.4005 - val_cat_ACC: 0.1583 - val_loss: 2.3842\n",
      "Epoch 13/20\n",
      "50/50 - 2s - 31ms/step - cat_ACC: 0.1547 - loss: 2.4012 - val_cat_ACC: 0.1583 - val_loss: 2.3800\n",
      "Epoch 14/20\n",
      "50/50 - 2s - 31ms/step - cat_ACC: 0.1606 - loss: 2.3942 - val_cat_ACC: 0.1583 - val_loss: 2.3763\n",
      "Epoch 15/20\n",
      "50/50 - 2s - 31ms/step - cat_ACC: 0.1509 - loss: 2.3767 - val_cat_ACC: 0.1583 - val_loss: 2.3726\n",
      "Epoch 16/20\n",
      "50/50 - 2s - 31ms/step - cat_ACC: 0.1559 - loss: 2.3882 - val_cat_ACC: 0.1583 - val_loss: 2.3714\n",
      "Epoch 17/20\n",
      "50/50 - 2s - 30ms/step - cat_ACC: 0.1491 - loss: 2.3749 - val_cat_ACC: 0.1583 - val_loss: 2.3649\n",
      "Epoch 18/20\n",
      "50/50 - 2s - 32ms/step - cat_ACC: 0.1656 - loss: 2.3640 - val_cat_ACC: 0.1583 - val_loss: 2.3629\n",
      "Epoch 19/20\n",
      "50/50 - 2s - 36ms/step - cat_ACC: 0.1575 - loss: 2.3667 - val_cat_ACC: 0.1583 - val_loss: 2.3585\n",
      "Epoch 20/20\n",
      "50/50 - 2s - 31ms/step - cat_ACC: 0.1562 - loss: 2.3697 - val_cat_ACC: 0.1583 - val_loss: 2.3566\n",
      "Test performance:\n",
      "                          Loss: 2.3726 \n",
      "                          Metric: 0.1560\n"
     ]
    },
    {
     "name": "stderr",
     "output_type": "stream",
     "text": [
      "2024-06-05 22:23:44.458896: W tensorflow/core/framework/local_rendezvous.cc:404] Local rendezvous is aborting with status: OUT_OF_RANGE: End of sequence\n"
     ]
    },
    {
     "name": "stdout",
     "output_type": "stream",
     "text": [
      "\u001b[1m196/196\u001b[0m \u001b[32m━━━━━━━━━━━━━━━━━━━━\u001b[0m\u001b[37m\u001b[0m \u001b[1m1s\u001b[0m 3ms/step\n",
      "Re-shuffling weights between folds\n",
      "Fold: 0 Validation performance:\n",
      "\n",
      "                      Loss: 2.3566, \n",
      "                      Metric: 0.1583\n",
      "fold: 1\n",
      "Epoch 1/20\n",
      "50/50 - 3s - 58ms/step - cat_ACC: 0.1459 - loss: 2.4188 - val_cat_ACC: 0.1558 - val_loss: 2.3784\n",
      "Epoch 2/20\n",
      "50/50 - 1s - 20ms/step - cat_ACC: 0.1678 - loss: 2.3782 - val_cat_ACC: 0.1558 - val_loss: 2.3749\n",
      "Epoch 3/20\n",
      "50/50 - 2s - 31ms/step - cat_ACC: 0.1581 - loss: 2.3548 - val_cat_ACC: 0.1558 - val_loss: 2.3698\n",
      "Test performance:\n",
      "                          Loss: 2.3821 \n",
      "                          Metric: 0.1560\n"
     ]
    },
    {
     "name": "stderr",
     "output_type": "stream",
     "text": [
      "2024-06-05 22:24:16.598447: W tensorflow/core/framework/local_rendezvous.cc:404] Local rendezvous is aborting with status: OUT_OF_RANGE: End of sequence\n"
     ]
    },
    {
     "name": "stdout",
     "output_type": "stream",
     "text": [
      "\u001b[1m196/196\u001b[0m \u001b[32m━━━━━━━━━━━━━━━━━━━━\u001b[0m\u001b[37m\u001b[0m \u001b[1m1s\u001b[0m 2ms/step\n",
      "Re-shuffling weights between folds\n",
      "Fold: 1 Validation performance:\n",
      "\n",
      "                      Loss: 2.3784, \n",
      "                      Metric: 0.1558\n",
      "fold: 2\n",
      "Epoch 1/20\n",
      "50/50 - 3s - 52ms/step - cat_ACC: 0.1287 - loss: 2.4308 - val_cat_ACC: 0.1641 - val_loss: 2.3700\n",
      "Epoch 2/20\n",
      "50/50 - 1s - 19ms/step - cat_ACC: 0.1550 - loss: 2.3817 - val_cat_ACC: 0.1641 - val_loss: 2.3676\n",
      "Epoch 3/20\n",
      "50/50 - 2s - 30ms/step - cat_ACC: 0.1622 - loss: 2.3630 - val_cat_ACC: 0.1641 - val_loss: 2.3612\n",
      "Test performance:\n",
      "                          Loss: 2.3835 \n",
      "                          Metric: 0.1560\n"
     ]
    },
    {
     "name": "stderr",
     "output_type": "stream",
     "text": [
      "2024-06-05 22:24:48.812744: W tensorflow/core/framework/local_rendezvous.cc:404] Local rendezvous is aborting with status: OUT_OF_RANGE: End of sequence\n"
     ]
    },
    {
     "name": "stdout",
     "output_type": "stream",
     "text": [
      "\u001b[1m196/196\u001b[0m \u001b[32m━━━━━━━━━━━━━━━━━━━━\u001b[0m\u001b[37m\u001b[0m \u001b[1m1s\u001b[0m 7ms/step\n",
      "Re-shuffling weights between folds\n",
      "Fold: 2 Validation performance:\n",
      "\n",
      "                      Loss: 2.3700, \n",
      "                      Metric: 0.1641\n",
      "fold: 3\n",
      "Epoch 1/20\n",
      "50/50 - 3s - 55ms/step - cat_ACC: 0.1450 - loss: 2.4298 - val_cat_ACC: 0.1540 - val_loss: 2.3773\n",
      "Epoch 2/20\n",
      "50/50 - 1s - 22ms/step - cat_ACC: 0.1669 - loss: 2.3682 - val_cat_ACC: 0.1540 - val_loss: 2.3719\n",
      "Epoch 3/20\n",
      "50/50 - 2s - 31ms/step - cat_ACC: 0.1587 - loss: 2.3656 - val_cat_ACC: 0.1540 - val_loss: 2.3654\n",
      "Test performance:\n",
      "                          Loss: 2.3875 \n",
      "                          Metric: 0.1560\n"
     ]
    },
    {
     "name": "stderr",
     "output_type": "stream",
     "text": [
      "2024-06-05 22:25:21.876848: W tensorflow/core/framework/local_rendezvous.cc:404] Local rendezvous is aborting with status: OUT_OF_RANGE: End of sequence\n"
     ]
    },
    {
     "name": "stdout",
     "output_type": "stream",
     "text": [
      "\u001b[1m198/198\u001b[0m \u001b[32m━━━━━━━━━━━━━━━━━━━━\u001b[0m\u001b[37m\u001b[0m \u001b[1m0s\u001b[0m 2ms/step\n",
      "Re-shuffling weights between folds\n",
      "Fold: 3 Validation performance:\n",
      "\n",
      "                      Loss: 2.3773, \n",
      "                      Metric: 0.1540\n",
      "fold: 4\n",
      "Epoch 1/20\n",
      "50/50 - 3s - 58ms/step - cat_ACC: 0.1384 - loss: 2.4219 - val_cat_ACC: 0.1646 - val_loss: 2.3712\n",
      "Epoch 2/20\n",
      "50/50 - 1s - 19ms/step - cat_ACC: 0.1591 - loss: 2.3917 - val_cat_ACC: 0.1646 - val_loss: 2.3674\n",
      "Epoch 3/20\n",
      "50/50 - 2s - 30ms/step - cat_ACC: 0.1644 - loss: 2.3623 - val_cat_ACC: 0.1646 - val_loss: 2.3603\n",
      "Test performance:\n",
      "                          Loss: 2.3897 \n",
      "                          Metric: 0.1560\n"
     ]
    },
    {
     "name": "stderr",
     "output_type": "stream",
     "text": [
      "2024-06-05 22:25:54.407862: W tensorflow/core/framework/local_rendezvous.cc:404] Local rendezvous is aborting with status: OUT_OF_RANGE: End of sequence\n"
     ]
    },
    {
     "name": "stdout",
     "output_type": "stream",
     "text": [
      "\u001b[1m198/198\u001b[0m \u001b[32m━━━━━━━━━━━━━━━━━━━━\u001b[0m\u001b[37m\u001b[0m \u001b[1m0s\u001b[0m 2ms/step\n",
      "Fold: 4 Validation performance:\n",
      "\n",
      "                      Loss: 2.3712, \n",
      "                      Metric: 0.1646\n",
      "cv with 5 folds completed. Loss: 2.3707 +/- 0.0078. Metric: 0.1594 +/- 0.0043\n",
      "cv with 5 fold(s) completed. \n",
      "\n",
      "              Validation Performance: \n",
      "              Loss: 2.3707 +/- 0.0078.\n",
      "              Metric: 0.1594 +/- 0.0043\n",
      "\n",
      "\n",
      "              Test Performance: \n",
      "              Loss: 2.3831 +/- 0.0059.\n",
      "              Metric: 0.1560 +/- 0.0000\n",
      "Saving updated log to:  ./data/models\\/lfcnn_log.csv\n"
     ]
    }
   ],
   "source": [
    "model.train(n_epochs=20, eval_step=50, mode='cv')"
   ]
  },
  {
   "cell_type": "code",
   "execution_count": 17,
   "id": "920215b3-5e75-45ff-80f2-b2004c47f0a3",
   "metadata": {},
   "outputs": [
    {
     "name": "stdout",
     "output_type": "stream",
     "text": [
      "Test set: Loss = 2.3897 Accuracy = 0.1560\n"
     ]
    }
   ],
   "source": [
    "test_loss, test_acc = model.evaluate(meta.data['test_paths'])\n",
    "print(\"Test set: Loss = {:.4f} Accuracy = {:.4f}\".format(test_loss, test_acc))"
   ]
  },
  {
   "cell_type": "code",
   "execution_count": 18,
   "id": "7046a2b4-4947-48eb-bb93-db0f76fbe0f5",
   "metadata": {},
   "outputs": [
    {
     "name": "stdout",
     "output_type": "stream",
     "text": [
      "Updating: meta.data\n",
      "Setting reg for dmx, to l1\n",
      "Built: dmx input: (None, 1, 75, 207)\n",
      "input_shape: (None, 1, 75, 32)\n",
      "Setting reg for tconv, to l1\n",
      "Built: tconv input: (None, 1, 75, 32)\n",
      "Setting reg for fc, to l1\n",
      "Built: fc input: (None, 1, 38, 32)\n",
      "Input shape: (1, 75, 207)\n",
      "y_pred: (None, 12)\n",
      "Initialization complete!\n"
     ]
    }
   ],
   "source": [
    "model = mneflow.models.VARCNN(meta)\n",
    "model.build()"
   ]
  },
  {
   "cell_type": "code",
   "execution_count": 19,
   "id": "29227b31-c275-4a8c-9367-32c591836ab2",
   "metadata": {},
   "outputs": [
    {
     "name": "stdout",
     "output_type": "stream",
     "text": [
      "Updating: meta.train_params\n",
      "Class weights:  None\n",
      "Running cross-validation with 5 folds\n",
      "fold: 0\n",
      "Epoch 1/20\n",
      "50/50 - 8s - 158ms/step - cat_ACC: 0.1400 - loss: 2.8188 - val_cat_ACC: 0.1297 - val_loss: 2.7502\n",
      "Epoch 2/20\n",
      "50/50 - 1s - 23ms/step - cat_ACC: 0.1360 - loss: 2.7590 - val_cat_ACC: 0.1642 - val_loss: 2.7113\n",
      "Epoch 3/20\n",
      "50/50 - 1s - 28ms/step - cat_ACC: 0.1440 - loss: 2.6931 - val_cat_ACC: 0.1642 - val_loss: 2.6715\n",
      "Epoch 4/20\n",
      "50/50 - 1s - 28ms/step - cat_ACC: 0.1380 - loss: 2.6562 - val_cat_ACC: 0.1372 - val_loss: 2.6422\n",
      "Epoch 5/20\n",
      "50/50 - 2s - 32ms/step - cat_ACC: 0.1572 - loss: 2.6251 - val_cat_ACC: 0.1642 - val_loss: 2.6142\n",
      "Epoch 6/20\n",
      "50/50 - 2s - 33ms/step - cat_ACC: 0.1584 - loss: 2.5834 - val_cat_ACC: 0.1642 - val_loss: 2.5913\n",
      "Epoch 7/20\n",
      "50/50 - 1s - 28ms/step - cat_ACC: 0.1580 - loss: 2.5838 - val_cat_ACC: 0.1642 - val_loss: 2.5736\n",
      "Epoch 8/20\n",
      "50/50 - 1s - 28ms/step - cat_ACC: 0.1564 - loss: 2.5728 - val_cat_ACC: 0.1642 - val_loss: 2.5542\n",
      "Epoch 9/20\n",
      "50/50 - 1s - 29ms/step - cat_ACC: 0.1452 - loss: 2.5542 - val_cat_ACC: 0.1642 - val_loss: 2.5418\n",
      "Epoch 10/20\n",
      "50/50 - 2s - 33ms/step - cat_ACC: 0.1488 - loss: 2.5457 - val_cat_ACC: 0.1297 - val_loss: 2.5332\n",
      "Epoch 11/20\n",
      "50/50 - 2s - 37ms/step - cat_ACC: 0.1467 - loss: 2.5216 - val_cat_ACC: 0.1642 - val_loss: 2.5238\n",
      "Epoch 12/20\n",
      "50/50 - 1s - 20ms/step - cat_ACC: 0.1568 - loss: 2.5344 - val_cat_ACC: 0.1642 - val_loss: 2.5175\n",
      "Epoch 13/20\n",
      "50/50 - 1s - 29ms/step - cat_ACC: 0.1492 - loss: 2.5157 - val_cat_ACC: 0.1642 - val_loss: 2.5094\n",
      "Epoch 14/20\n",
      "50/50 - 1s - 28ms/step - cat_ACC: 0.1472 - loss: 2.4968 - val_cat_ACC: 0.1372 - val_loss: 2.5063\n",
      "Epoch 15/20\n",
      "50/50 - 2s - 31ms/step - cat_ACC: 0.1512 - loss: 2.4967 - val_cat_ACC: 0.1642 - val_loss: 2.4963\n",
      "Epoch 16/20\n",
      "50/50 - 2s - 33ms/step - cat_ACC: 0.1480 - loss: 2.4735 - val_cat_ACC: 0.1642 - val_loss: 2.4911\n",
      "Epoch 17/20\n",
      "50/50 - 1s - 28ms/step - cat_ACC: 0.1540 - loss: 2.4890 - val_cat_ACC: 0.1642 - val_loss: 2.4862\n",
      "Epoch 18/20\n",
      "50/50 - 1s - 28ms/step - cat_ACC: 0.1612 - loss: 2.4922 - val_cat_ACC: 0.1642 - val_loss: 2.4803\n",
      "Epoch 19/20\n",
      "50/50 - 2s - 35ms/step - cat_ACC: 0.1564 - loss: 2.4785 - val_cat_ACC: 0.1642 - val_loss: 2.4754\n",
      "Epoch 20/20\n",
      "50/50 - 1s - 28ms/step - cat_ACC: 0.1296 - loss: 2.4852 - val_cat_ACC: 0.1642 - val_loss: 2.4715\n",
      "Test performance:\n",
      "                          Loss: 2.4727 \n",
      "                          Metric: 0.1629\n"
     ]
    },
    {
     "name": "stderr",
     "output_type": "stream",
     "text": [
      "2024-06-04 19:11:29.186159: W tensorflow/core/framework/local_rendezvous.cc:404] Local rendezvous is aborting with status: OUT_OF_RANGE: End of sequence\n"
     ]
    },
    {
     "name": "stdout",
     "output_type": "stream",
     "text": [
      "\u001b[1m199/199\u001b[0m \u001b[32m━━━━━━━━━━━━━━━━━━━━\u001b[0m\u001b[37m\u001b[0m \u001b[1m1s\u001b[0m 3ms/step\n",
      "Re-shuffling weights between folds\n",
      "Fold: 0 Validation performance:\n",
      "\n",
      "                      Loss: 2.4715, \n",
      "                      Metric: 0.1642\n",
      "fold: 1\n",
      "Epoch 1/20\n",
      "50/50 - 3s - 50ms/step - cat_ACC: 0.1580 - loss: 2.5006 - val_cat_ACC: 0.1543 - val_loss: 2.4751\n",
      "Epoch 2/20\n",
      "50/50 - 1s - 24ms/step - cat_ACC: 0.1448 - loss: 2.4893 - val_cat_ACC: 0.1543 - val_loss: 2.4631\n",
      "Epoch 3/20\n",
      "50/50 - 2s - 32ms/step - cat_ACC: 0.1512 - loss: 2.4570 - val_cat_ACC: 0.1543 - val_loss: 2.4548\n",
      "Epoch 4/20\n",
      "50/50 - 1s - 29ms/step - cat_ACC: 0.1452 - loss: 2.4499 - val_cat_ACC: 0.1543 - val_loss: 2.4487\n",
      "Epoch 5/20\n",
      "50/50 - 1s - 28ms/step - cat_ACC: 0.1516 - loss: 2.4534 - val_cat_ACC: 0.1543 - val_loss: 2.4425\n",
      "Epoch 6/20\n",
      "50/50 - 1s - 29ms/step - cat_ACC: 0.1656 - loss: 2.4219 - val_cat_ACC: 0.1543 - val_loss: 2.4378\n",
      "Epoch 7/20\n",
      "50/50 - 1s - 28ms/step - cat_ACC: 0.1540 - loss: 2.4320 - val_cat_ACC: 0.1543 - val_loss: 2.4327\n",
      "Epoch 8/20\n",
      "50/50 - 1s - 29ms/step - cat_ACC: 0.1672 - loss: 2.4441 - val_cat_ACC: 0.1543 - val_loss: 2.4276\n",
      "Epoch 9/20\n",
      "50/50 - 1s - 28ms/step - cat_ACC: 0.1464 - loss: 2.4274 - val_cat_ACC: 0.1543 - val_loss: 2.4205\n",
      "Epoch 10/20\n",
      "50/50 - 1s - 29ms/step - cat_ACC: 0.1444 - loss: 2.4308 - val_cat_ACC: 0.1409 - val_loss: 2.4169\n",
      "Epoch 11/20\n",
      "50/50 - 2s - 35ms/step - cat_ACC: 0.1578 - loss: 2.4015 - val_cat_ACC: 0.1543 - val_loss: 2.4133\n",
      "Epoch 12/20\n",
      "50/50 - 1s - 27ms/step - cat_ACC: 0.1468 - loss: 2.4311 - val_cat_ACC: 0.1543 - val_loss: 2.4080\n",
      "Epoch 13/20\n",
      "50/50 - 2s - 32ms/step - cat_ACC: 0.1584 - loss: 2.4008 - val_cat_ACC: 0.1543 - val_loss: 2.4069\n",
      "Epoch 14/20\n",
      "50/50 - 2s - 32ms/step - cat_ACC: 0.1524 - loss: 2.3981 - val_cat_ACC: 0.1409 - val_loss: 2.3993\n",
      "Epoch 15/20\n",
      "50/50 - 2s - 30ms/step - cat_ACC: 0.1600 - loss: 2.4050 - val_cat_ACC: 0.1543 - val_loss: 2.3959\n",
      "Epoch 16/20\n",
      "50/50 - 1s - 29ms/step - cat_ACC: 0.1700 - loss: 2.3759 - val_cat_ACC: 0.1543 - val_loss: 2.3917\n",
      "Epoch 17/20\n",
      "50/50 - 1s - 28ms/step - cat_ACC: 0.1560 - loss: 2.3873 - val_cat_ACC: 0.1543 - val_loss: 2.3895\n",
      "Epoch 18/20\n",
      "50/50 - 1s - 28ms/step - cat_ACC: 0.1756 - loss: 2.3899 - val_cat_ACC: 0.1543 - val_loss: 2.3864\n",
      "Epoch 19/20\n",
      "50/50 - 1s - 28ms/step - cat_ACC: 0.1468 - loss: 2.3939 - val_cat_ACC: 0.1543 - val_loss: 2.3803\n",
      "Epoch 20/20\n",
      "50/50 - 1s - 29ms/step - cat_ACC: 0.1472 - loss: 2.3855 - val_cat_ACC: 0.1543 - val_loss: 2.3791\n",
      "Test performance:\n",
      "                          Loss: 2.3853 \n",
      "                          Metric: 0.1629\n"
     ]
    },
    {
     "name": "stderr",
     "output_type": "stream",
     "text": [
      "2024-06-04 19:12:24.298684: W tensorflow/core/framework/local_rendezvous.cc:404] Local rendezvous is aborting with status: OUT_OF_RANGE: End of sequence\n"
     ]
    },
    {
     "name": "stdout",
     "output_type": "stream",
     "text": [
      "\u001b[1m197/197\u001b[0m \u001b[32m━━━━━━━━━━━━━━━━━━━━\u001b[0m\u001b[37m\u001b[0m \u001b[1m1s\u001b[0m 3ms/step\n",
      "Re-shuffling weights between folds\n",
      "Fold: 1 Validation performance:\n",
      "\n",
      "                      Loss: 2.3791, \n",
      "                      Metric: 0.1543\n",
      "fold: 2\n",
      "Epoch 1/20\n",
      "50/50 - 2s - 47ms/step - cat_ACC: 0.1400 - loss: 2.4250 - val_cat_ACC: 0.1387 - val_loss: 2.3961\n",
      "Epoch 2/20\n",
      "50/50 - 1s - 24ms/step - cat_ACC: 0.1476 - loss: 2.4100 - val_cat_ACC: 0.1611 - val_loss: 2.3757\n",
      "Epoch 3/20\n",
      "50/50 - 2s - 34ms/step - cat_ACC: 0.1656 - loss: 2.3664 - val_cat_ACC: 0.1611 - val_loss: 2.3692\n",
      "Epoch 4/20\n",
      "50/50 - 1s - 29ms/step - cat_ACC: 0.1504 - loss: 2.3730 - val_cat_ACC: 0.1320 - val_loss: 2.3677\n",
      "Epoch 5/20\n",
      "50/50 - 1s - 29ms/step - cat_ACC: 0.1508 - loss: 2.3793 - val_cat_ACC: 0.1611 - val_loss: 2.3601\n",
      "Epoch 6/20\n",
      "50/50 - 1s - 28ms/step - cat_ACC: 0.1668 - loss: 2.3470 - val_cat_ACC: 0.1611 - val_loss: 2.3565\n",
      "Epoch 7/20\n",
      "50/50 - 1s - 29ms/step - cat_ACC: 0.1656 - loss: 2.3775 - val_cat_ACC: 0.1611 - val_loss: 2.3562\n",
      "Epoch 8/20\n",
      "50/50 - 1s - 28ms/step - cat_ACC: 0.1688 - loss: 2.3717 - val_cat_ACC: 0.1611 - val_loss: 2.3545\n",
      "Epoch 9/20\n",
      "50/50 - 1s - 29ms/step - cat_ACC: 0.1540 - loss: 2.3599 - val_cat_ACC: 0.1611 - val_loss: 2.3482\n",
      "Epoch 10/20\n",
      "50/50 - 2s - 31ms/step - cat_ACC: 0.1404 - loss: 2.3750 - val_cat_ACC: 0.1320 - val_loss: 2.3479\n",
      "Epoch 11/20\n",
      "50/50 - 2s - 35ms/step - cat_ACC: 0.1444 - loss: 2.3471 - val_cat_ACC: 0.1611 - val_loss: 2.3440\n",
      "Epoch 12/20\n",
      "50/50 - 1s - 26ms/step - cat_ACC: 0.1424 - loss: 2.3736 - val_cat_ACC: 0.1611 - val_loss: 2.3417\n",
      "Epoch 13/20\n",
      "50/50 - 1s - 29ms/step - cat_ACC: 0.1660 - loss: 2.3367 - val_cat_ACC: 0.1611 - val_loss: 2.3366\n",
      "Epoch 14/20\n",
      "50/50 - 1s - 29ms/step - cat_ACC: 0.1576 - loss: 2.3350 - val_cat_ACC: 0.1320 - val_loss: 2.3374\n",
      "Epoch 15/20\n",
      "50/50 - 1s - 29ms/step - cat_ACC: 0.1436 - loss: 2.3490 - val_cat_ACC: 0.1611 - val_loss: 2.3312\n",
      "Epoch 16/20\n",
      "50/50 - 1s - 28ms/step - cat_ACC: 0.1700 - loss: 2.3155 - val_cat_ACC: 0.1611 - val_loss: 2.3293\n",
      "Epoch 17/20\n",
      "50/50 - 1s - 28ms/step - cat_ACC: 0.1540 - loss: 2.3491 - val_cat_ACC: 0.1611 - val_loss: 2.3292\n",
      "Epoch 18/20\n",
      "50/50 - 1s - 29ms/step - cat_ACC: 0.1700 - loss: 2.3399 - val_cat_ACC: 0.1611 - val_loss: 2.3276\n",
      "Epoch 19/20\n",
      "50/50 - 2s - 32ms/step - cat_ACC: 0.1548 - loss: 2.3386 - val_cat_ACC: 0.1611 - val_loss: 2.3224\n",
      "Epoch 20/20\n",
      "50/50 - 2s - 33ms/step - cat_ACC: 0.1344 - loss: 2.3456 - val_cat_ACC: 0.1320 - val_loss: 2.3222\n",
      "Test performance:\n",
      "                          Loss: 2.3353 \n",
      "                          Metric: 0.1299\n"
     ]
    },
    {
     "name": "stderr",
     "output_type": "stream",
     "text": [
      "2024-06-04 19:13:18.937932: W tensorflow/core/framework/local_rendezvous.cc:404] Local rendezvous is aborting with status: OUT_OF_RANGE: End of sequence\n"
     ]
    },
    {
     "name": "stdout",
     "output_type": "stream",
     "text": [
      "\u001b[1m196/196\u001b[0m \u001b[32m━━━━━━━━━━━━━━━━━━━━\u001b[0m\u001b[37m\u001b[0m \u001b[1m0s\u001b[0m 2ms/step\n",
      "Re-shuffling weights between folds\n",
      "Fold: 2 Validation performance:\n",
      "\n",
      "                      Loss: 2.3222, \n",
      "                      Metric: 0.1320\n",
      "fold: 3\n",
      "Epoch 1/20\n",
      "50/50 - 2s - 46ms/step - cat_ACC: 0.1476 - loss: 2.3783 - val_cat_ACC: 0.1597 - val_loss: 2.3460\n",
      "Epoch 2/20\n",
      "50/50 - 1s - 19ms/step - cat_ACC: 0.1464 - loss: 2.3543 - val_cat_ACC: 0.1597 - val_loss: 2.3375\n",
      "Epoch 3/20\n",
      "50/50 - 1s - 29ms/step - cat_ACC: 0.1504 - loss: 2.3313 - val_cat_ACC: 0.1597 - val_loss: 2.3384\n",
      "Test performance:\n",
      "                          Loss: 2.3529 \n",
      "                          Metric: 0.1629\n"
     ]
    },
    {
     "name": "stderr",
     "output_type": "stream",
     "text": [
      "2024-06-04 19:13:48.657297: W tensorflow/core/framework/local_rendezvous.cc:404] Local rendezvous is aborting with status: OUT_OF_RANGE: End of sequence\n"
     ]
    },
    {
     "name": "stdout",
     "output_type": "stream",
     "text": [
      "\u001b[1m197/197\u001b[0m \u001b[32m━━━━━━━━━━━━━━━━━━━━\u001b[0m\u001b[37m\u001b[0m \u001b[1m1s\u001b[0m 3ms/step\n",
      "Re-shuffling weights between folds\n",
      "Fold: 3 Validation performance:\n",
      "\n",
      "                      Loss: 2.3460, \n",
      "                      Metric: 0.1597\n",
      "fold: 4\n",
      "Epoch 1/20\n",
      "50/50 - 2s - 46ms/step - cat_ACC: 0.1516 - loss: 2.3851 - val_cat_ACC: 0.1345 - val_loss: 2.3511\n",
      "Epoch 2/20\n",
      "50/50 - 1s - 20ms/step - cat_ACC: 0.1440 - loss: 2.3670 - val_cat_ACC: 0.1571 - val_loss: 2.3436\n",
      "Epoch 3/20\n",
      "50/50 - 2s - 30ms/step - cat_ACC: 0.1508 - loss: 2.3448 - val_cat_ACC: 0.1344 - val_loss: 2.3366\n",
      "Test performance:\n",
      "                          Loss: 2.3604 \n",
      "                          Metric: 0.1340\n"
     ]
    },
    {
     "name": "stderr",
     "output_type": "stream",
     "text": [
      "2024-06-04 19:14:18.637518: W tensorflow/core/framework/local_rendezvous.cc:404] Local rendezvous is aborting with status: OUT_OF_RANGE: End of sequence\n"
     ]
    },
    {
     "name": "stdout",
     "output_type": "stream",
     "text": [
      "\u001b[1m197/197\u001b[0m \u001b[32m━━━━━━━━━━━━━━━━━━━━\u001b[0m\u001b[37m\u001b[0m \u001b[1m0s\u001b[0m 2ms/step\n",
      "Fold: 4 Validation performance:\n",
      "\n",
      "                      Loss: 2.3511, \n",
      "                      Metric: 0.1345\n",
      "cv with 5 folds completed. Loss: 2.3740 +/- 0.0520. Metric: 0.1490 +/- 0.0132\n",
      "cv with 5 fold(s) completed. \n",
      "\n",
      "              Validation Performance: \n",
      "              Loss: 2.3740 +/- 0.0520.\n",
      "              Metric: 0.1490 +/- 0.0132\n",
      "\n",
      "\n",
      "              Test Performance: \n",
      "              Loss: 2.3813 +/- 0.0484.\n",
      "              Metric: 0.1505 +/- 0.0152\n",
      "Saving updated log to:  ./data/models\\/varcnn_log.csv\n"
     ]
    }
   ],
   "source": [
    "model.train(n_epochs=20, eval_step=50, mode='cv')"
   ]
  },
  {
   "cell_type": "code",
   "execution_count": 18,
   "id": "8bf18311-4802-4cf2-8fcb-9d594471fcae",
   "metadata": {},
   "outputs": [
    {
     "name": "stdout",
     "output_type": "stream",
     "text": [
      "Test set: Loss = 2.3897 Accuracy = 0.1560\n"
     ]
    }
   ],
   "source": [
    "test_loss, test_acc = model.evaluate(meta.data['test_paths'])\n",
    "print(\"Test set: Loss = {:.4f} Accuracy = {:.4f}\".format(test_loss, test_acc))"
   ]
  },
  {
   "cell_type": "code",
   "execution_count": null,
   "id": "d249dd41-81a2-4a79-91a2-0322a3347205",
   "metadata": {},
   "outputs": [],
   "source": []
  }
 ],
 "metadata": {
  "kernelspec": {
   "display_name": "aifsr_env",
   "language": "python",
   "name": "aifsr_env"
  },
  "language_info": {
   "codemirror_mode": {
    "name": "ipython",
    "version": 3
   },
   "file_extension": ".py",
   "mimetype": "text/x-python",
   "name": "python",
   "nbconvert_exporter": "python",
   "pygments_lexer": "ipython3",
   "version": "3.12.1"
  }
 },
 "nbformat": 4,
 "nbformat_minor": 5
}
