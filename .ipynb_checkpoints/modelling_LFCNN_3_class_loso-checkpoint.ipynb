{
 "cells": [
  {
   "cell_type": "code",
   "execution_count": null,
   "id": "ac210655-3d5f-4e89-8a69-936812ba7a69",
   "metadata": {},
   "outputs": [],
   "source": [
    "import numpy as np\n",
    "\n",
    "import mne\n",
    "mne.set_log_level(verbose='CRITICAL')\n",
    "from mne.datasets import multimodal\n",
    "\n",
    "import os\n",
    "import glob\n",
    "os.environ['TF_CPP_MIN_LOG_LEVEL'] = '3'\n",
    "\n",
    "import tensorflow as tf\n",
    "tf.get_logger().setLevel('ERROR')\n",
    "tf.autograph.set_verbosity(0)\n",
    "\n",
    "import mneflow\n",
    "print(mneflow.__version__)"
   ]
  },
  {
   "cell_type": "code",
   "execution_count": null,
   "id": "1f097b5f-9739-4247-806b-d5c7cebdde1d",
   "metadata": {},
   "outputs": [],
   "source": [
    "root = '/scratch/alr664/multiple_affix'\n",
    "meg = root + '/meg'\n",
    "logs = root + '/logs'\n",
    "\n",
    "full_dataset = [\"A0394\", \"A0421\", \"A0446\", \"A0451\", \"A0468\", \"A0484\", \"A0495\", \"A0502\", \"A0503\", \"A0508\", \n",
    "                \"A0509\", \"A0512\", \"A0513\", \"A0514\", \"A0516\", \"A0517\", \"A0518\", \"A0519\", \"A0520\", \"A0521\", \n",
    "                \"A0522\", \"A0523\", \"A0524\", \"A0525\"]"
   ]
  },
  {
   "cell_type": "code",
   "execution_count": null,
   "id": "916c4e7f-a014-4624-b643-280ff54f1fbf",
   "metadata": {},
   "outputs": [],
   "source": [
    "subjects = [subj for subj in os.listdir(meg) if not subj.startswith('.')]\n",
    "subjects\n",
    "len(subjects)"
   ]
  },
  {
   "cell_type": "code",
   "execution_count": null,
   "id": "fb7a998c-696f-4ade-a670-c165a7e332d3",
   "metadata": {},
   "outputs": [],
   "source": [
    "epochs_list = []\n",
    "\n",
    "for subject in full_dataset:\n",
    "    subj_epoch_path = meg + '/' + subject + '/' + subject + '_rejection-epo.fif'\n",
    "    print(subj_epoch_path)\n",
    "    subj_epoch = mne.read_epochs(subj_epoch_path)\n",
    "    subj_epoch = subj_epoch.resample(125)\n",
    "    subj_epoch = mne.epochs.combine_event_ids(subj_epoch, ['0Suff NW', '0Suff w/o Lat.', '0Suff w/ Lat'],  {'0Suff': 100},  True)\n",
    "    subj_epoch = mne.epochs.combine_event_ids(subj_epoch, ['1Suff PseudoStemNW', '1Suff RealStemNW', '1Suff w/ Lat.', '1Suff w/o Lat.'],  {'1Suff': 101},  True)\n",
    "    subj_epoch = mne.epochs.combine_event_ids(subj_epoch, ['2Suff RealStemNW', '2Suff PseudoStemNW', '2Suff w/ Lat.', '2Suff w/o Lat.', '2Suff Composite'],  {'2Suff': 102},  True)\n",
    "    subj_epoch_mag = subj_epoch.pick_types(meg='mag')\n",
    "    epochs_list.append(subj_epoch_mag)"
   ]
  },
  {
   "cell_type": "code",
   "execution_count": null,
   "id": "2ee579fc-ae7a-4eca-8fcd-86ab0a2464da",
   "metadata": {},
   "outputs": [],
   "source": [
    "from collections import Counter\n",
    "subj = 1\n",
    "for epochs in epochs_list:\n",
    "    print(\"Subject: \", subj)\n",
    "    print(epochs.get_data().shape)\n",
    "    print(Counter([event[2] for event in epochs.events]))\n",
    "    epochs = epochs.crop(tmin=0. , tmax= 0.6)\n",
    "    subj+=1"
   ]
  },
  {
   "cell_type": "code",
   "execution_count": null,
   "id": "57aada04-3634-4aed-932b-cffd86bf833e",
   "metadata": {},
   "outputs": [],
   "source": [
    "path = './lfcnn-3/'\n",
    "data_id = 'meg_epochs_loso'\n",
    "\n",
    "import_opt = dict(path=path,\n",
    "                  data_id=data_id,\n",
    "                  input_type='trials',\n",
    "                  target_type='int',\n",
    "                  n_folds=5,\n",
    "                  test_set = 'loso',\n",
    "                  overwrite=True,\n",
    "                  picks={'meg':'grad'},\n",
    "                  scale=False,\n",
    "                  crop_baseline=False,\n",
    "                  decimate=None,\n",
    "                  )\n",
    "\n",
    "meta = mneflow.produce_tfrecords(epochs_list, **import_opt)"
   ]
  },
  {
   "cell_type": "code",
   "execution_count": null,
   "id": "3cf57c5b-554d-449e-bc18-80f2235dabec",
   "metadata": {},
   "outputs": [],
   "source": [
    "dataset = mneflow.Dataset(meta, train_batch=64)"
   ]
  },
  {
   "cell_type": "code",
   "execution_count": null,
   "id": "0a01d504-2b7f-4ea9-a09a-dd9043680ae2",
   "metadata": {},
   "outputs": [],
   "source": [
    "lfcnn_params = dict(n_latent=32,\n",
    "                  filter_length=7,\n",
    "                  nonlin = tf.nn.relu,\n",
    "                  padding = 'SAME',\n",
    "                  pooling = 2,\n",
    "                  pool_type='max',\n",
    "                  dropout = .5,\n",
    "                  l1_scope = [\"weights\"],\n",
    "                  l1=3e-4)\n",
    "\n",
    "meta.update(model_specs=lfcnn_params)\n",
    "\n",
    "model = mneflow.models.LFCNN(meta)\n",
    "model.build()"
   ]
  },
  {
   "cell_type": "code",
   "execution_count": null,
   "id": "4c997a4f-908b-445a-a5b2-d18d3e949fef",
   "metadata": {},
   "outputs": [],
   "source": [
    "model.train(n_epochs=20, eval_step=50, mode='loso')"
   ]
  },
  {
   "cell_type": "code",
   "execution_count": null,
   "id": "920215b3-5e75-45ff-80f2-b2004c47f0a3",
   "metadata": {},
   "outputs": [],
   "source": [
    "test_loss, test_acc = model.evaluate(meta.data['test_paths'])\n",
    "print(\"Test set: Loss = {:.4f} Accuracy = {:.4f}\".format(test_loss, test_acc))"
   ]
  }
 ],
 "metadata": {
  "kernelspec": {
   "display_name": "aifsr_env",
   "language": "python",
   "name": "aifsr_env"
  },
  "language_info": {
   "codemirror_mode": {
    "name": "ipython",
    "version": 3
   },
   "file_extension": ".py",
   "mimetype": "text/x-python",
   "name": "python",
   "nbconvert_exporter": "python",
   "pygments_lexer": "ipython3",
   "version": "3.12.1"
  }
 },
 "nbformat": 4,
 "nbformat_minor": 5
}
