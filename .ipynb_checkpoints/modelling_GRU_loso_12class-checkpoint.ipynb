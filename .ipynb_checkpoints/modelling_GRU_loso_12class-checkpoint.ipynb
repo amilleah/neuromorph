{
 "cells": [
  {
   "cell_type": "code",
   "execution_count": null,
   "id": "fe5d531b-699a-428e-956b-35d48434cd2a",
   "metadata": {},
   "outputs": [],
   "source": [
    "import mne\n",
    "import numpy as np\n",
    "import pandas as pd\n",
    "import numpy as np\n",
    "import tensorflow as tf\n",
    "from tensorflow.keras.applications import ResNet50\n",
    "from tensorflow.keras.models import Model\n",
    "from glob import glob\n",
    "from tqdm import tqdm\n",
    "import os\n",
    "\n",
    "mne.set_log_level('WARNING')\n",
    "\n",
    "event_id_all = {'0Suff w/ Lat.': 1,\n",
    "                '0Suff w/o Lat.': 2,\n",
    "                '0Suff NW': 4,\n",
    "\n",
    "                '1Suff w/ Lat.': 11,\n",
    "                '1Suff w/o Lat.': 12,\n",
    "                '1Suff PseudoStemNW': 14,\n",
    "                '1Suff RealStemNW': 15,\n",
    "\n",
    "                '2Suff w/ Lat.': 21,\n",
    "                '2Suff w/o Lat.': 22,\n",
    "                '2Suff Composite': 23,\n",
    "                '2Suff PseudoStemNW': 24,\n",
    "                '2Suff RealStemNW': 25\n",
    "                }\n",
    "\n",
    "def get_condition(id):\n",
    "    for event in event_id_all:\n",
    "        if event_id_all[event] == id:\n",
    "            return event\n",
    "\n",
    "import mne\n",
    "from glob import glob\n",
    "from tqdm import tqdm\n",
    "\n",
    "epoch_files = glob('/scratch/alr664/multiple_affix/meg/*/*epo.fif')"
   ]
  },
  {
   "cell_type": "code",
   "execution_count": null,
   "id": "937ff152-e901-4c4f-9f1a-cdc8da1530d9",
   "metadata": {},
   "outputs": [],
   "source": [
    "root = '/scratch/alr664/multiple_affix'\n",
    "meg = root + '/meg'\n",
    "logs = root + '/logs'\n",
    "\n",
    "full_dataset = [\"A0394\", \"A0421\", \"A0446\", \"A0451\", \"A0468\", \"A0484\", \"A0495\", \"A0502\", \"A0503\", \"A0508\", \n",
    "                \"A0509\", \"A0512\", \"A0513\", \"A0514\", \"A0516\", \"A0517\", \"A0518\", \"A0519\", \"A0520\", \"A0521\", \n",
    "                \"A0522\", \"A0523\", \"A0524\", \"A0525\"]\n",
    "\n",
    "subjects = [subj for subj in os.listdir(meg) if not subj.startswith('.')]\n",
    "subjects\n",
    "len(subjects)\n",
    "\n",
    "epoch_files = []\n",
    "\n",
    "for subject in full_dataset:\n",
    "    subj_epoch_path = meg + '/' + subject + '/' + subject + '_rejection-epo.fif'\n",
    "    print(subj_epoch_path)\n",
    "    epoch_files.append(subj_epoch_path)"
   ]
  },
  {
   "cell_type": "code",
   "execution_count": null,
   "id": "37b6d1f1-b124-4a01-8f6e-ad342211117f",
   "metadata": {},
   "outputs": [],
   "source": [
    "meg_full_data = [] \n",
    "labels_full_data = []\n",
    "for epoch_file in tqdm(epoch_files):\n",
    "    print(epoch_file)\n",
    "    epochs = mne.read_epochs(epoch_file)\n",
    "    epochs = epochs.resample(125)\n",
    "    epochs = epochs.crop(tmin=0. , tmax= 0.6) \n",
    "    meg_full_data.append(epochs.get_data())\n",
    "    labels_full_data.append(epochs.events[:, 2])\n",
    "    \n",
    "    del epochs"
   ]
  },
  {
   "cell_type": "code",
   "execution_count": null,
   "id": "93dd2328-a6f4-4f3b-8487-0c9a53210db4",
   "metadata": {},
   "outputs": [],
   "source": [
    "meg_full_data = np.vstack(meg_full_data)\n",
    "labels_full_data = np.concatenate(labels_full_data)\n",
    "np.save('./meg_full_data_12.npy', meg_full_data)\n",
    "np.save('./labels_12.npy', labels_full_data)\n",
    "print(\"meg full data shape: \", meg_full_data.shape, labels_full_data.shape)"
   ]
  },
  {
   "cell_type": "code",
   "execution_count": null,
   "id": "ef60e2ca-8805-4e14-ae3e-f57d8ede876d",
   "metadata": {},
   "outputs": [],
   "source": [
    "np.unique(labels_full_data)\n"
   ]
  },
  {
   "cell_type": "code",
   "execution_count": null,
   "id": "9f9a8199-15b0-4902-a7c8-1cdfb802647f",
   "metadata": {},
   "outputs": [],
   "source": [
    "labels_full_data = np.where(labels_full_data == 12, 0, labels_full_data)\n",
    "labels_full_data = np.where(labels_full_data == 14, 3, labels_full_data) \n",
    "labels_full_data = np.where(labels_full_data == 15, 5, labels_full_data)\n",
    "labels_full_data = np.where(labels_full_data == 21, 6, labels_full_data)\n",
    "labels_full_data = np.where(labels_full_data == 22, 7, labels_full_data)\n",
    "labels_full_data = np.where(labels_full_data == 23, 8, labels_full_data)\n",
    "labels_full_data = np.where(labels_full_data == 24, 9, labels_full_data)\n",
    "labels_full_data = np.where(labels_full_data == 25, 10, labels_full_data)\n",
    "np.unique(labels_full_data)"
   ]
  },
  {
   "cell_type": "code",
   "execution_count": null,
   "id": "ba93ba32-29de-4a40-a127-c3a08d698a73",
   "metadata": {},
   "outputs": [],
   "source": [
    "## Classification using GRU\n",
    "\n",
    "from tensorflow.keras.models import Model\n",
    "from tensorflow.keras.layers import Input, LSTM, Dense, GRU, Dropout\n",
    "from tensorflow.keras.optimizers import Adam\n",
    "import numpy as np\n",
    "from tensorflow.keras.utils import to_categorical\n",
    "\n",
    "# Define the model architecture with increased complexity\n",
    "input_layer = Input(shape=meg_full_data.shape[1:])\n",
    "\n",
    "# Increase the number of units and add more layers\n",
    "x = GRU(128, return_sequences=True)(input_layer)\n",
    "x = Dropout(0.2)(x)  # Add dropout for regularization\n",
    "x = GRU(128, return_sequences=True)(x)\n",
    "x = Dropout(0.2)(x)  # Add dropout for regularization\n",
    "x = GRU(128)(x)  # Last GRU layer does not return sequences\n",
    "x = Dropout(0.2)(x)  # Add dropout for regularization\n",
    " \n",
    "# Increase the complexity of the model further by adding Dense layers before the output\n",
    "x = Dense(64, activation='relu')(x)\n",
    "x = Dropout(0.2)(x)  # Add dropout for regularization\n",
    "x = Dense(64, activation='relu')(x)\n",
    "x = Dropout(0.2)(x)  # Add dropout for regularization\n",
    " \n",
    "#output_layer = Dense(1)(x)\n",
    "\n",
    "output_layer = Dense(len(np.unique(labels_full_data)), activation='softmax')(x)"
   ]
  },
  {
   "cell_type": "code",
   "execution_count": null,
   "id": "1ab7cce7-5696-47b3-a5ee-5c9198dca1e3",
   "metadata": {},
   "outputs": [],
   "source": [
    "X = meg_full_data.copy()\n",
    "y = labels_full_data.copy()\n",
    "\n",
    "losses = []\n",
    "metrics = []\n",
    "\n",
    "for subj in range(24):\n",
    "    model = Model(inputs=input_layer, outputs=output_layer)\n",
    "    model.compile(optimizer=Adam(learning_rate=0.001), loss=\"sparse_categorical_crossentropy\", metrics=['accuracy'])\n",
    "    print(\"Treating subject \", subj,\" as the test subj:\")\n",
    "    start = subj*1886\n",
    "    end = 1886*(subj+1)\n",
    "    X_test = X[start:end]\n",
    "    y_test = y[start:end]\n",
    "    X_train = np.delete(X, slice(start, end), axis=0)\n",
    "    y_train = np.delete(y, slice(start, end), axis=0)\n",
    "    print(X_train.shape, y_train.shape)\n",
    "    print(X_test.shape, y_test.shape)\n",
    "    model.fit(X_train, y_train, batch_size=64, epochs=30, verbose=True)\n",
    "    loss, accuracy = model.evaluate(X_test, y_test, verbose=1)\n",
    "    print(f'Test Accuracy: {accuracy:.4f}')\n",
    "    losses.append(loss)\n",
    "    metrics.append(accuracy)\n",
    "    "
   ]
  },
  {
   "cell_type": "code",
   "execution_count": null,
   "id": "77c7071c-6026-40c9-b2fb-9148bde7e104",
   "metadata": {},
   "outputs": [],
   "source": [
    "print(\"\"\"\\n Test Performance: \n",
    "              Loss: {:.4f} +/- {:.4f}.\n",
    "              Metric: {:.4f} +/- {:.4f}\"\"\"\n",
    "              .format(np.mean(losses), \n",
    "                      np.std(losses),\n",
    "                      np.mean(metrics), \n",
    "                      np.std(metrics)))"
   ]
  }
 ],
 "metadata": {
  "kernelspec": {
   "display_name": "aifsr_env",
   "language": "python",
   "name": "aifsr_env"
  },
  "language_info": {
   "codemirror_mode": {
    "name": "ipython",
    "version": 3
   },
   "file_extension": ".py",
   "mimetype": "text/x-python",
   "name": "python",
   "nbconvert_exporter": "python",
   "pygments_lexer": "ipython3",
   "version": "3.12.1"
  }
 },
 "nbformat": 4,
 "nbformat_minor": 5
}
