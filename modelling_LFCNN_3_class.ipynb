{
 "cells": [
  {
   "cell_type": "code",
   "execution_count": 18,
   "id": "ac210655-3d5f-4e89-8a69-936812ba7a69",
   "metadata": {},
   "outputs": [
    {
     "name": "stdout",
     "output_type": "stream",
     "text": [
      "0.5.6\n"
     ]
    }
   ],
   "source": [
    "import numpy as np\n",
    "\n",
    "import mne\n",
    "mne.set_log_level(verbose='CRITICAL')\n",
    "from mne.datasets import multimodal\n",
    "\n",
    "import os\n",
    "import glob\n",
    "os.environ['TF_CPP_MIN_LOG_LEVEL'] = '3'\n",
    "\n",
    "import tensorflow as tf\n",
    "tf.get_logger().setLevel('ERROR')\n",
    "tf.autograph.set_verbosity(0)\n",
    "\n",
    "import mneflow\n",
    "print(mneflow.__version__)"
   ]
  },
  {
   "cell_type": "code",
   "execution_count": 19,
   "id": "1f097b5f-9739-4247-806b-d5c7cebdde1d",
   "metadata": {},
   "outputs": [],
   "source": [
    "root = '/scratch/alr664/multiple_affix'\n",
    "meg = root + '/meg'\n",
    "logs = root + '/logs'\n",
    "\n",
    "full_dataset = [\"A0394\", \"A0421\", \"A0446\", \"A0451\", \"A0468\", \"A0484\", \"A0495\", \"A0502\", \"A0503\", \"A0508\", \n",
    "                \"A0509\", \"A0512\", \"A0513\", \"A0514\", \"A0516\", \"A0517\", \"A0518\", \"A0519\", \"A0520\", \"A0521\", \n",
    "                \"A0522\", \"A0523\", \"A0524\", \"A0525\"]"
   ]
  },
  {
   "cell_type": "code",
   "execution_count": 20,
   "id": "916c4e7f-a014-4624-b643-280ff54f1fbf",
   "metadata": {},
   "outputs": [
    {
     "data": {
      "text/plain": [
       "24"
      ]
     },
     "execution_count": 20,
     "metadata": {},
     "output_type": "execute_result"
    }
   ],
   "source": [
    "subjects = [subj for subj in os.listdir(meg) if not subj.startswith('.')]\n",
    "subjects\n",
    "len(subjects)"
   ]
  },
  {
   "cell_type": "code",
   "execution_count": 21,
   "id": "fb7a998c-696f-4ade-a670-c165a7e332d3",
   "metadata": {},
   "outputs": [
    {
     "name": "stdout",
     "output_type": "stream",
     "text": [
      "/scratch/alr664/multiple_affix/meg/A0394/A0394_rejection-epo.fif\n",
      "/scratch/alr664/multiple_affix/meg/A0421/A0421_rejection-epo.fif\n",
      "/scratch/alr664/multiple_affix/meg/A0446/A0446_rejection-epo.fif\n",
      "/scratch/alr664/multiple_affix/meg/A0451/A0451_rejection-epo.fif\n",
      "/scratch/alr664/multiple_affix/meg/A0468/A0468_rejection-epo.fif\n",
      "/scratch/alr664/multiple_affix/meg/A0484/A0484_rejection-epo.fif\n",
      "/scratch/alr664/multiple_affix/meg/A0495/A0495_rejection-epo.fif\n",
      "/scratch/alr664/multiple_affix/meg/A0502/A0502_rejection-epo.fif\n",
      "/scratch/alr664/multiple_affix/meg/A0503/A0503_rejection-epo.fif\n",
      "/scratch/alr664/multiple_affix/meg/A0508/A0508_rejection-epo.fif\n",
      "/scratch/alr664/multiple_affix/meg/A0509/A0509_rejection-epo.fif\n",
      "/scratch/alr664/multiple_affix/meg/A0512/A0512_rejection-epo.fif\n",
      "/scratch/alr664/multiple_affix/meg/A0513/A0513_rejection-epo.fif\n",
      "/scratch/alr664/multiple_affix/meg/A0514/A0514_rejection-epo.fif\n",
      "/scratch/alr664/multiple_affix/meg/A0516/A0516_rejection-epo.fif\n",
      "/scratch/alr664/multiple_affix/meg/A0517/A0517_rejection-epo.fif\n",
      "/scratch/alr664/multiple_affix/meg/A0518/A0518_rejection-epo.fif\n",
      "/scratch/alr664/multiple_affix/meg/A0519/A0519_rejection-epo.fif\n",
      "/scratch/alr664/multiple_affix/meg/A0520/A0520_rejection-epo.fif\n",
      "/scratch/alr664/multiple_affix/meg/A0521/A0521_rejection-epo.fif\n",
      "/scratch/alr664/multiple_affix/meg/A0522/A0522_rejection-epo.fif\n",
      "/scratch/alr664/multiple_affix/meg/A0523/A0523_rejection-epo.fif\n",
      "/scratch/alr664/multiple_affix/meg/A0524/A0524_rejection-epo.fif\n",
      "/scratch/alr664/multiple_affix/meg/A0525/A0525_rejection-epo.fif\n",
      "Done!\n",
      "Done!.\n"
     ]
    }
   ],
   "source": [
    "epochs_list = []\n",
    "\n",
    "for subject in full_dataset:\n",
    "    subj_epoch_path = meg + '/' + subject + '/' + subject + '_rejection-epo.fif'\n",
    "    print(subj_epoch_path)\n",
    "    subj_epoch = mne.read_epochs(subj_epoch_path)\n",
    "    subj_epoch = subj_epoch.resample(125)\n",
    "    subj_epoch = subj_epoch.pick_types(meg='mag')\n",
    "    subj_epoch = mne.epochs.combine_event_ids(subj_epoch, ['0Suff NW', '0Suff w/o Lat.', '0Suff w/ Lat'],  {'0Suff': 100},  True)\n",
    "    subj_epoch = mne.epochs.combine_event_ids(subj_epoch, ['1Suff PseudoStemNW', '1Suff RealStemNW', '1Suff w/ Lat.', '1Suff w/o Lat.'],  {'1Suff': 101},  True)\n",
    "    subj_epoch = mne.epochs.combine_event_ids(subj_epoch, ['2Suff RealStemNW', '2Suff PseudoStemNW', '2Suff w/ Lat.', '2Suff w/o Lat.', '2Suff Composite'],  {'2Suff': 102},  True)\n",
    "    epochs_list.append(subj_epoch)\n",
    "\n",
    "print(\"Done!\")\n",
    "\n",
    "epochs = mne.concatenate_epochs(epochs_list, on_mismatch='ignore')\n",
    "\n",
    "print(\"Done!.\")"
   ]
  },
  {
   "cell_type": "code",
   "execution_count": 22,
   "id": "04049933-ee12-49e6-b4dc-04e353d8230d",
   "metadata": {},
   "outputs": [
    {
     "data": {
      "text/plain": [
       "(45264, 207, 100)"
      ]
     },
     "execution_count": 22,
     "metadata": {},
     "output_type": "execute_result"
    }
   ],
   "source": [
    "epochs.get_data().shape"
   ]
  },
  {
   "cell_type": "code",
   "execution_count": 23,
   "id": "b17069fc-5be6-4982-b4ef-9d6f884fea21",
   "metadata": {},
   "outputs": [
    {
     "data": {
      "text/plain": [
       "{'0Suff': 100, '1Suff': 101, '2Suff': 102}"
      ]
     },
     "execution_count": 23,
     "metadata": {},
     "output_type": "execute_result"
    }
   ],
   "source": [
    "epochs.event_id"
   ]
  },
  {
   "cell_type": "code",
   "execution_count": 24,
   "id": "1a66e4df-264f-4a75-a56c-354dfaa4eddb",
   "metadata": {},
   "outputs": [
    {
     "data": {
      "text/plain": [
       "Counter({102: 19296, 101: 13632, 100: 12336})"
      ]
     },
     "execution_count": 24,
     "metadata": {},
     "output_type": "execute_result"
    }
   ],
   "source": [
    "from collections import Counter\n",
    "Counter([event[2] for event in epochs.events])"
   ]
  },
  {
   "cell_type": "code",
   "execution_count": 25,
   "id": "bd40ef68-adc8-41b8-9ecf-fe6c39ab27e4",
   "metadata": {},
   "outputs": [
    {
     "data": {
      "text/plain": [
       "array([-0.2  , -0.192, -0.184, -0.176, -0.168, -0.16 , -0.152, -0.144,\n",
       "       -0.136, -0.128, -0.12 , -0.112, -0.104, -0.096, -0.088, -0.08 ,\n",
       "       -0.072, -0.064, -0.056, -0.048, -0.04 , -0.032, -0.024, -0.016,\n",
       "       -0.008,  0.   ,  0.008,  0.016,  0.024,  0.032,  0.04 ,  0.048,\n",
       "        0.056,  0.064,  0.072,  0.08 ,  0.088,  0.096,  0.104,  0.112,\n",
       "        0.12 ,  0.128,  0.136,  0.144,  0.152,  0.16 ,  0.168,  0.176,\n",
       "        0.184,  0.192,  0.2  ,  0.208,  0.216,  0.224,  0.232,  0.24 ,\n",
       "        0.248,  0.256,  0.264,  0.272,  0.28 ,  0.288,  0.296,  0.304,\n",
       "        0.312,  0.32 ,  0.328,  0.336,  0.344,  0.352,  0.36 ,  0.368,\n",
       "        0.376,  0.384,  0.392,  0.4  ,  0.408,  0.416,  0.424,  0.432,\n",
       "        0.44 ,  0.448,  0.456,  0.464,  0.472,  0.48 ,  0.488,  0.496,\n",
       "        0.504,  0.512,  0.52 ,  0.528,  0.536,  0.544,  0.552,  0.56 ,\n",
       "        0.568,  0.576,  0.584,  0.592])"
      ]
     },
     "execution_count": 25,
     "metadata": {},
     "output_type": "execute_result"
    }
   ],
   "source": [
    "epochs.times"
   ]
  },
  {
   "cell_type": "code",
   "execution_count": 26,
   "id": "f98c7849-ce4b-4bd4-8e8f-ae3e67ead696",
   "metadata": {},
   "outputs": [],
   "source": [
    "epochs = epochs.crop(tmin=0. , tmax= 0.6)"
   ]
  },
  {
   "cell_type": "code",
   "execution_count": 27,
   "id": "4b86e437-8083-4c82-82bb-5fdadbc16f06",
   "metadata": {},
   "outputs": [
    {
     "data": {
      "text/plain": [
       "array([0.   , 0.008, 0.016, 0.024, 0.032, 0.04 , 0.048, 0.056, 0.064,\n",
       "       0.072, 0.08 , 0.088, 0.096, 0.104, 0.112, 0.12 , 0.128, 0.136,\n",
       "       0.144, 0.152, 0.16 , 0.168, 0.176, 0.184, 0.192, 0.2  , 0.208,\n",
       "       0.216, 0.224, 0.232, 0.24 , 0.248, 0.256, 0.264, 0.272, 0.28 ,\n",
       "       0.288, 0.296, 0.304, 0.312, 0.32 , 0.328, 0.336, 0.344, 0.352,\n",
       "       0.36 , 0.368, 0.376, 0.384, 0.392, 0.4  , 0.408, 0.416, 0.424,\n",
       "       0.432, 0.44 , 0.448, 0.456, 0.464, 0.472, 0.48 , 0.488, 0.496,\n",
       "       0.504, 0.512, 0.52 , 0.528, 0.536, 0.544, 0.552, 0.56 , 0.568,\n",
       "       0.576, 0.584, 0.592])"
      ]
     },
     "execution_count": 27,
     "metadata": {},
     "output_type": "execute_result"
    }
   ],
   "source": [
    "epochs.times"
   ]
  },
  {
   "cell_type": "code",
   "execution_count": 28,
   "id": "1f7b2012-2497-4c69-b0bd-c81827ed7238",
   "metadata": {},
   "outputs": [
    {
     "data": {
      "text/plain": [
       "(45264, 207, 75)"
      ]
     },
     "execution_count": 28,
     "metadata": {},
     "output_type": "execute_result"
    }
   ],
   "source": [
    "epochs.get_data().shape"
   ]
  },
  {
   "cell_type": "code",
   "execution_count": 29,
   "id": "f3ba65ae-8fa8-457a-8ea4-3e177e39f1a6",
   "metadata": {},
   "outputs": [],
   "source": [
    "path = './data/'\n",
    "data_id = 'meg_epochs_12'\n",
    "\n",
    "import_opt = dict(path=path,\n",
    "                  data_id=data_id,\n",
    "                  input_type='trials',\n",
    "                  target_type='int',\n",
    "                  n_folds= 5,\n",
    "                  test_set = 'holdout',\n",
    "                  overwrite=True,\n",
    "                  picks={'meg':'grad'},\n",
    "                  scale=False,\n",
    "                  crop_baseline=False,\n",
    "                  decimate=None,\n",
    "                  )"
   ]
  },
  {
   "cell_type": "code",
   "execution_count": 30,
   "id": "41f37ce1-17d6-4829-9a9c-ff8f75b905ba",
   "metadata": {},
   "outputs": [
    {
     "name": "stdout",
     "output_type": "stream",
     "text": [
      "processing epochs\n",
      "Input shapes: X (n, ch, t) :  (45264, 207, 75) y (n, [signal_channels], y_shape) :  (45264, 1) \n",
      " input_type :  trials target_type :  int segment_y :  False\n",
      "Preprocessing:\n",
      "n: 45264\n",
      "Splitting into: 6 folds x 7544\n",
      "Preprocessed: (45264, 1, 75, 207) (45264, 1) folds: 6 x 7544\n",
      "Preprocessed targets:  (45264, 1)\n",
      "Prepocessed sample shape: (1, 75, 207)\n",
      "Target shape actual/metadata:  (3,) (3,)\n",
      "Saving TFRecord# 0\n",
      "Updating: meta.data\n",
      "Updating: meta.preprocessing\n"
     ]
    }
   ],
   "source": [
    "meta = mneflow.produce_tfrecords(epochs, **import_opt)"
   ]
  },
  {
   "cell_type": "code",
   "execution_count": 31,
   "id": "3cf57c5b-554d-449e-bc18-80f2235dabec",
   "metadata": {},
   "outputs": [
    {
     "name": "stdout",
     "output_type": "stream",
     "text": [
      "Updating: meta.data\n"
     ]
    }
   ],
   "source": [
    "dataset = mneflow.Dataset(meta, train_batch=64)"
   ]
  },
  {
   "cell_type": "code",
   "execution_count": 32,
   "id": "0a01d504-2b7f-4ea9-a09a-dd9043680ae2",
   "metadata": {},
   "outputs": [
    {
     "name": "stdout",
     "output_type": "stream",
     "text": [
      "Updating: meta.model_specs\n",
      "Updating: meta.data\n",
      "Setting reg for dmx, to l1\n",
      "Built: dmx input: (None, 1, 75, 207)\n",
      "Setting reg for tconv, to l1\n",
      "Built: tconv input: (None, 1, 75, 32)\n",
      "Setting reg for fc, to l1\n",
      "Built: fc input: (None, 1, 38, 32)\n",
      "Input shape: (1, 75, 207)\n",
      "y_pred: (None, 3)\n",
      "Initialization complete!\n"
     ]
    }
   ],
   "source": [
    "lfcnn_params = dict(n_latent=32,\n",
    "                  filter_length=7,\n",
    "                  nonlin = tf.nn.relu,\n",
    "                  padding = 'SAME',\n",
    "                  pooling = 2,\n",
    "                  pool_type='max',\n",
    "                  dropout = .5,\n",
    "                  l1_scope = [\"weights\"],\n",
    "                  l1=3e-4)\n",
    "\n",
    "meta.update(model_specs=lfcnn_params)\n",
    "\n",
    "model = mneflow.models.LFCNN(meta)\n",
    "model.build()"
   ]
  },
  {
   "cell_type": "code",
   "execution_count": 34,
   "id": "4c997a4f-908b-445a-a5b2-d18d3e949fef",
   "metadata": {},
   "outputs": [
    {
     "name": "stdout",
     "output_type": "stream",
     "text": [
      "Updating: meta.train_params\n",
      "Class weights:  None\n",
      "Running cross-validation with 5 folds\n",
      "fold: 0\n",
      "Epoch 1/20\n",
      "50/50 - 2s - 39ms/step - cat_ACC: 0.4075 - loss: 1.2603 - val_cat_ACC: 0.4219 - val_loss: 1.2389\n",
      "Epoch 2/20\n",
      "50/50 - 1s - 29ms/step - cat_ACC: 0.4103 - loss: 1.2356 - val_cat_ACC: 0.4219 - val_loss: 1.2170\n",
      "Epoch 3/20\n",
      "50/50 - 2s - 31ms/step - cat_ACC: 0.4294 - loss: 1.2065 - val_cat_ACC: 0.4219 - val_loss: 1.1941\n",
      "Epoch 4/20\n",
      "50/50 - 2s - 33ms/step - cat_ACC: 0.4309 - loss: 1.1828 - val_cat_ACC: 0.4219 - val_loss: 1.1734\n",
      "Epoch 5/20\n",
      "50/50 - 2s - 31ms/step - cat_ACC: 0.4319 - loss: 1.1661 - val_cat_ACC: 0.4219 - val_loss: 1.1581\n",
      "Epoch 6/20\n",
      "50/50 - 2s - 31ms/step - cat_ACC: 0.4316 - loss: 1.1542 - val_cat_ACC: 0.4219 - val_loss: 1.1439\n",
      "Epoch 7/20\n",
      "50/50 - 1s - 30ms/step - cat_ACC: 0.4250 - loss: 1.1413 - val_cat_ACC: 0.4219 - val_loss: 1.1325\n",
      "Epoch 8/20\n",
      "50/50 - 2s - 33ms/step - cat_ACC: 0.4150 - loss: 1.1366 - val_cat_ACC: 0.4219 - val_loss: 1.1244\n",
      "Epoch 9/20\n",
      "50/50 - 2s - 32ms/step - cat_ACC: 0.4363 - loss: 1.1235 - val_cat_ACC: 0.4219 - val_loss: 1.1188\n",
      "Epoch 10/20\n",
      "50/50 - 2s - 30ms/step - cat_ACC: 0.4197 - loss: 1.1241 - val_cat_ACC: 0.4219 - val_loss: 1.1173\n",
      "Epoch 11/20\n",
      "50/50 - 1s - 29ms/step - cat_ACC: 0.4328 - loss: 1.1151 - val_cat_ACC: 0.4219 - val_loss: 1.1158\n",
      "Epoch 12/20\n",
      "50/50 - 2s - 42ms/step - cat_ACC: 0.4341 - loss: 1.1129 - val_cat_ACC: 0.4219 - val_loss: 1.1137\n",
      "Epoch 13/20\n",
      "50/50 - 2s - 30ms/step - cat_ACC: 0.4309 - loss: 1.1140 - val_cat_ACC: 0.4219 - val_loss: 1.1137\n",
      "Epoch 14/20\n",
      "50/50 - 1s - 29ms/step - cat_ACC: 0.4331 - loss: 1.1127 - val_cat_ACC: 0.4219 - val_loss: 1.1121\n",
      "Epoch 15/20\n",
      "50/50 - 1s - 29ms/step - cat_ACC: 0.4269 - loss: 1.1129 - val_cat_ACC: 0.4219 - val_loss: 1.1112\n",
      "Epoch 16/20\n",
      "50/50 - 1s - 29ms/step - cat_ACC: 0.4169 - loss: 1.1135 - val_cat_ACC: 0.4219 - val_loss: 1.1106\n",
      "Epoch 17/20\n",
      "50/50 - 1s - 29ms/step - cat_ACC: 0.4378 - loss: 1.1091 - val_cat_ACC: 0.4219 - val_loss: 1.1098\n",
      "Epoch 18/20\n",
      "50/50 - 1s - 30ms/step - cat_ACC: 0.4225 - loss: 1.1121 - val_cat_ACC: 0.4219 - val_loss: 1.1096\n",
      "Epoch 19/20\n",
      "50/50 - 1s - 29ms/step - cat_ACC: 0.4309 - loss: 1.1057 - val_cat_ACC: 0.4219 - val_loss: 1.1087\n",
      "Epoch 20/20\n",
      "50/50 - 1s - 29ms/step - cat_ACC: 0.4341 - loss: 1.1034 - val_cat_ACC: 0.4219 - val_loss: 1.1077\n",
      "Test performance:\n",
      "                          Loss: 1.1072 \n",
      "                          Metric: 0.4250\n",
      "\u001b[1m197/197\u001b[0m \u001b[32m━━━━━━━━━━━━━━━━━━━━\u001b[0m\u001b[37m\u001b[0m \u001b[1m0s\u001b[0m 2ms/step\n",
      "Re-shuffling weights between folds\n",
      "Fold: 0 Validation performance:\n",
      "\n",
      "                      Loss: 1.1077, \n",
      "                      Metric: 0.4219\n",
      "fold: 1\n",
      "Epoch 1/20\n",
      "50/50 - 2s - 36ms/step - cat_ACC: 0.4056 - loss: 1.1162 - val_cat_ACC: 0.4305 - val_loss: 1.1045\n",
      "Epoch 2/20\n",
      "50/50 - 1s - 29ms/step - cat_ACC: 0.4234 - loss: 1.1101 - val_cat_ACC: 0.4305 - val_loss: 1.1052\n",
      "Epoch 3/20\n",
      "50/50 - 1s - 29ms/step - cat_ACC: 0.4256 - loss: 1.1067 - val_cat_ACC: 0.4305 - val_loss: 1.1033\n",
      "Epoch 4/20\n",
      "50/50 - 1s - 29ms/step - cat_ACC: 0.4281 - loss: 1.1047 - val_cat_ACC: 0.4305 - val_loss: 1.1017\n",
      "Epoch 5/20\n",
      "50/50 - 2s - 30ms/step - cat_ACC: 0.4288 - loss: 1.1041 - val_cat_ACC: 0.4305 - val_loss: 1.1009\n",
      "Epoch 6/20\n",
      "50/50 - 2s - 30ms/step - cat_ACC: 0.4366 - loss: 1.0979 - val_cat_ACC: 0.4305 - val_loss: 1.1001\n",
      "Epoch 7/20\n",
      "50/50 - 2s - 31ms/step - cat_ACC: 0.4278 - loss: 1.1020 - val_cat_ACC: 0.4305 - val_loss: 1.0994\n",
      "Epoch 8/20\n",
      "50/50 - 1s - 30ms/step - cat_ACC: 0.4181 - loss: 1.1042 - val_cat_ACC: 0.4305 - val_loss: 1.0988\n",
      "Epoch 9/20\n",
      "50/50 - 1s - 30ms/step - cat_ACC: 0.4303 - loss: 1.1009 - val_cat_ACC: 0.4305 - val_loss: 1.0981\n",
      "Epoch 10/20\n",
      "50/50 - 2s - 31ms/step - cat_ACC: 0.4169 - loss: 1.1049 - val_cat_ACC: 0.4305 - val_loss: 1.0980\n",
      "Epoch 11/20\n",
      "50/50 - 2s - 33ms/step - cat_ACC: 0.4272 - loss: 1.0998 - val_cat_ACC: 0.4305 - val_loss: 1.0973\n",
      "Epoch 12/20\n",
      "50/50 - 2s - 34ms/step - cat_ACC: 0.4316 - loss: 1.0973 - val_cat_ACC: 0.4305 - val_loss: 1.0964\n",
      "Epoch 13/20\n",
      "50/50 - 2s - 37ms/step - cat_ACC: 0.4278 - loss: 1.0983 - val_cat_ACC: 0.4305 - val_loss: 1.0953\n",
      "Epoch 14/20\n",
      "50/50 - 2s - 32ms/step - cat_ACC: 0.4369 - loss: 1.0923 - val_cat_ACC: 0.4305 - val_loss: 1.0945\n",
      "Epoch 15/20\n",
      "50/50 - 1s - 30ms/step - cat_ACC: 0.4225 - loss: 1.0976 - val_cat_ACC: 0.4305 - val_loss: 1.0942\n",
      "Epoch 16/20\n",
      "50/50 - 1s - 30ms/step - cat_ACC: 0.4232 - loss: 1.0973 - val_cat_ACC: 0.4305 - val_loss: 1.0938\n",
      "Epoch 17/20\n",
      "50/50 - 1s - 29ms/step - cat_ACC: 0.4313 - loss: 1.0940 - val_cat_ACC: 0.4305 - val_loss: 1.0929\n",
      "Epoch 18/20\n",
      "50/50 - 1s - 30ms/step - cat_ACC: 0.4144 - loss: 1.1017 - val_cat_ACC: 0.4305 - val_loss: 1.0928\n",
      "Epoch 19/20\n",
      "50/50 - 1s - 30ms/step - cat_ACC: 0.4319 - loss: 1.0917 - val_cat_ACC: 0.4305 - val_loss: 1.0919\n",
      "Epoch 20/20\n",
      "50/50 - 1s - 29ms/step - cat_ACC: 0.4275 - loss: 1.0945 - val_cat_ACC: 0.4305 - val_loss: 1.0921\n",
      "Test performance:\n",
      "                          Loss: 1.0952 \n",
      "                          Metric: 0.4250\n",
      "\u001b[1m198/198\u001b[0m \u001b[32m━━━━━━━━━━━━━━━━━━━━\u001b[0m\u001b[37m\u001b[0m \u001b[1m0s\u001b[0m 2ms/step\n",
      "Re-shuffling weights between folds\n",
      "Fold: 1 Validation performance:\n",
      "\n",
      "                      Loss: 1.0919, \n",
      "                      Metric: 0.4305\n",
      "fold: 2\n",
      "Epoch 1/20\n",
      "50/50 - 2s - 36ms/step - cat_ACC: 0.4209 - loss: 1.0998 - val_cat_ACC: 0.4300 - val_loss: 1.0931\n",
      "Epoch 2/20\n",
      "50/50 - 1s - 29ms/step - cat_ACC: 0.4112 - loss: 1.1007 - val_cat_ACC: 0.4300 - val_loss: 1.0935\n",
      "Epoch 3/20\n",
      "50/50 - 1s - 29ms/step - cat_ACC: 0.4272 - loss: 1.0927 - val_cat_ACC: 0.4300 - val_loss: 1.0911\n",
      "Epoch 4/20\n",
      "50/50 - 1s - 30ms/step - cat_ACC: 0.4372 - loss: 1.0872 - val_cat_ACC: 0.4300 - val_loss: 1.0909\n",
      "Epoch 5/20\n",
      "50/50 - 1s - 29ms/step - cat_ACC: 0.4381 - loss: 1.0881 - val_cat_ACC: 0.4300 - val_loss: 1.0900\n",
      "Epoch 6/20\n",
      "50/50 - 1s - 30ms/step - cat_ACC: 0.4350 - loss: 1.0881 - val_cat_ACC: 0.4300 - val_loss: 1.0894\n",
      "Epoch 7/20\n",
      "50/50 - 1s - 30ms/step - cat_ACC: 0.4175 - loss: 1.0937 - val_cat_ACC: 0.4300 - val_loss: 1.0896\n",
      "Epoch 8/20\n",
      "50/50 - 2s - 40ms/step - cat_ACC: 0.4207 - loss: 1.0922 - val_cat_ACC: 0.4300 - val_loss: 1.0884\n",
      "Epoch 9/20\n",
      "50/50 - 1s - 30ms/step - cat_ACC: 0.4328 - loss: 1.0887 - val_cat_ACC: 0.4300 - val_loss: 1.0881\n",
      "Epoch 10/20\n",
      "50/50 - 2s - 31ms/step - cat_ACC: 0.4050 - loss: 1.0981 - val_cat_ACC: 0.4300 - val_loss: 1.0886\n",
      "Epoch 11/20\n",
      "50/50 - 1s - 30ms/step - cat_ACC: 0.4303 - loss: 1.0881 - val_cat_ACC: 0.4300 - val_loss: 1.0871\n",
      "Epoch 12/20\n",
      "50/50 - 1s - 29ms/step - cat_ACC: 0.4384 - loss: 1.0834 - val_cat_ACC: 0.4300 - val_loss: 1.0864\n",
      "Epoch 13/20\n",
      "50/50 - 2s - 30ms/step - cat_ACC: 0.4384 - loss: 1.0842 - val_cat_ACC: 0.4300 - val_loss: 1.0860\n",
      "Epoch 14/20\n",
      "50/50 - 1s - 29ms/step - cat_ACC: 0.4366 - loss: 1.0843 - val_cat_ACC: 0.4300 - val_loss: 1.0856\n",
      "Epoch 15/20\n",
      "50/50 - 1s - 29ms/step - cat_ACC: 0.4122 - loss: 1.0922 - val_cat_ACC: 0.4300 - val_loss: 1.0863\n",
      "Epoch 16/20\n",
      "50/50 - 1s - 29ms/step - cat_ACC: 0.4226 - loss: 1.0870 - val_cat_ACC: 0.4300 - val_loss: 1.0859\n",
      "Epoch 17/20\n",
      "50/50 - 1s - 29ms/step - cat_ACC: 0.4300 - loss: 1.0874 - val_cat_ACC: 0.4300 - val_loss: 1.0849\n",
      "Epoch 18/20\n",
      "50/50 - 1s - 29ms/step - cat_ACC: 0.4103 - loss: 1.0931 - val_cat_ACC: 0.4300 - val_loss: 1.0849\n",
      "Epoch 19/20\n",
      "50/50 - 1s - 30ms/step - cat_ACC: 0.4316 - loss: 1.0841 - val_cat_ACC: 0.4300 - val_loss: 1.0840\n",
      "Epoch 20/20\n",
      "50/50 - 2s - 31ms/step - cat_ACC: 0.4366 - loss: 1.0815 - val_cat_ACC: 0.4300 - val_loss: 1.0837\n",
      "Test performance:\n",
      "                          Loss: 1.0860 \n",
      "                          Metric: 0.4250\n",
      "\u001b[1m197/197\u001b[0m \u001b[32m━━━━━━━━━━━━━━━━━━━━\u001b[0m\u001b[37m\u001b[0m \u001b[1m0s\u001b[0m 2ms/step\n",
      "Re-shuffling weights between folds\n",
      "Fold: 2 Validation performance:\n",
      "\n",
      "                      Loss: 1.0837, \n",
      "                      Metric: 0.4300\n",
      "fold: 3\n",
      "Epoch 1/20\n",
      "50/50 - 2s - 36ms/step - cat_ACC: 0.4228 - loss: 1.0924 - val_cat_ACC: 0.4244 - val_loss: 1.0872\n",
      "Epoch 2/20\n",
      "50/50 - 2s - 35ms/step - cat_ACC: 0.4222 - loss: 1.0888 - val_cat_ACC: 0.4244 - val_loss: 1.0875\n",
      "Epoch 3/20\n",
      "50/50 - 1s - 29ms/step - cat_ACC: 0.4253 - loss: 1.0863 - val_cat_ACC: 0.4244 - val_loss: 1.0869\n",
      "Test performance:\n",
      "                          Loss: 1.0871 \n",
      "                          Metric: 0.4250\n",
      "\u001b[1m196/196\u001b[0m \u001b[32m━━━━━━━━━━━━━━━━━━━━\u001b[0m\u001b[37m\u001b[0m \u001b[1m0s\u001b[0m 2ms/step\n",
      "Re-shuffling weights between folds\n",
      "Fold: 3 Validation performance:\n",
      "\n",
      "                      Loss: 1.0872, \n",
      "                      Metric: 0.4244\n",
      "fold: 4\n",
      "Epoch 1/20\n",
      "50/50 - 2s - 36ms/step - cat_ACC: 0.4216 - loss: 1.0912 - val_cat_ACC: 0.4320 - val_loss: 1.0844\n",
      "Epoch 2/20\n",
      "50/50 - 1s - 29ms/step - cat_ACC: 0.4222 - loss: 1.0888 - val_cat_ACC: 0.4320 - val_loss: 1.0841\n",
      "Epoch 3/20\n",
      "50/50 - 1s - 29ms/step - cat_ACC: 0.4256 - loss: 1.0851 - val_cat_ACC: 0.4320 - val_loss: 1.0843\n",
      "Test performance:\n",
      "                          Loss: 1.0870 \n",
      "                          Metric: 0.4250\n",
      "\u001b[1m196/196\u001b[0m \u001b[32m━━━━━━━━━━━━━━━━━━━━\u001b[0m\u001b[37m\u001b[0m \u001b[1m0s\u001b[0m 2ms/step\n",
      "Fold: 4 Validation performance:\n",
      "\n",
      "                      Loss: 1.0844, \n",
      "                      Metric: 0.4320\n",
      "cv with 5 folds completed. Loss: 1.0910 +/- 0.0088. Metric: 0.4278 +/- 0.0039\n",
      "cv with 5 fold(s) completed. \n",
      "\n",
      "              Validation Performance: \n",
      "              Loss: 1.0910 +/- 0.0088.\n",
      "              Metric: 0.4278 +/- 0.0039\n",
      "\n",
      "\n",
      "              Test Performance: \n",
      "              Loss: 1.0925 +/- 0.0081.\n",
      "              Metric: 0.4250 +/- 0.0000\n",
      "Saving updated log to:  ./data/models\\/lfcnn_log.csv\n"
     ]
    }
   ],
   "source": [
    "model.train(n_epochs=20, eval_step=50, mode='cv')"
   ]
  },
  {
   "cell_type": "code",
   "execution_count": 35,
   "id": "920215b3-5e75-45ff-80f2-b2004c47f0a3",
   "metadata": {},
   "outputs": [
    {
     "name": "stdout",
     "output_type": "stream",
     "text": [
      "Test set: Loss = 1.0870 Accuracy = 0.4250\n"
     ]
    }
   ],
   "source": [
    "test_loss, test_acc = model.evaluate(meta.data['test_paths'])\n",
    "print(\"Test set: Loss = {:.4f} Accuracy = {:.4f}\".format(test_loss, test_acc))"
   ]
  },
  {
   "cell_type": "code",
   "execution_count": null,
   "id": "f7560374-655b-4a06-83bf-aa2eebc77234",
   "metadata": {},
   "outputs": [],
   "source": []
  },
  {
   "cell_type": "code",
   "execution_count": null,
   "id": "53b7188f-85c9-4985-9182-d4293b24cd87",
   "metadata": {},
   "outputs": [],
   "source": []
  }
 ],
 "metadata": {
  "kernelspec": {
   "display_name": "aifsr_env",
   "language": "python",
   "name": "aifsr_env"
  },
  "language_info": {
   "codemirror_mode": {
    "name": "ipython",
    "version": 3
   },
   "file_extension": ".py",
   "mimetype": "text/x-python",
   "name": "python",
   "nbconvert_exporter": "python",
   "pygments_lexer": "ipython3",
   "version": "3.12.1"
  }
 },
 "nbformat": 4,
 "nbformat_minor": 5
}
