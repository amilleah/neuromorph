{
 "cells": [
  {
   "cell_type": "code",
   "execution_count": 15,
   "id": "fe5d531b-699a-428e-956b-35d48434cd2a",
   "metadata": {},
   "outputs": [],
   "source": [
    "import mne\n",
    "import numpy as np\n",
    "import pandas as pd\n",
    "from sklearn import preprocessing \n",
    "import numpy as np\n",
    "import tensorflow as tf\n",
    "from tensorflow.keras.applications import ResNet50\n",
    "from tensorflow.keras.models import Model\n",
    "from sklearn.model_selection import train_test_split\n",
    "\n",
    "import os\n",
    "\n",
    "mne.set_log_level('WARNING')\n",
    "\n",
    "event_id_all = {'0Suff w/ Lat.': 1,\n",
    "                '0Suff w/o Lat.': 2,\n",
    "                '0Suff NW': 4,\n",
    "\n",
    "                '1Suff w/ Lat.': 11,\n",
    "                '1Suff w/o Lat.': 12,\n",
    "                '1Suff PseudoStemNW': 14,\n",
    "                '1Suff RealStemNW': 15,\n",
    "\n",
    "                '2Suff w/ Lat.': 21,\n",
    "                '2Suff w/o Lat.': 22,\n",
    "                '2Suff Composite': 23,\n",
    "                '2Suff PseudoStemNW': 24,\n",
    "                '2Suff RealStemNW': 25\n",
    "                }\n",
    "\n",
    "def get_condition(id):\n",
    "    for event in event_id_all:\n",
    "        if event_id_all[event] == id:\n",
    "            return event\n",
    "\n",
    "import mne\n",
    "from glob import glob\n",
    "from tqdm import tqdm\n",
    "\n",
    "epoch_files = glob('/scratch/alr664/multiple_affix/meg/*/*epo.fif')"
   ]
  },
  {
   "cell_type": "code",
   "execution_count": 16,
   "id": "ad5f0fd4-c2ab-4976-be3e-217d1a3a869c",
   "metadata": {},
   "outputs": [
    {
     "name": "stdout",
     "output_type": "stream",
     "text": [
      "/scratch/rss9311/neurips2024/neurips-analyses\n"
     ]
    }
   ],
   "source": [
    "!pwd"
   ]
  },
  {
   "cell_type": "code",
   "execution_count": 17,
   "id": "937ff152-e901-4c4f-9f1a-cdc8da1530d9",
   "metadata": {},
   "outputs": [
    {
     "name": "stdout",
     "output_type": "stream",
     "text": [
      "/scratch/alr664/multiple_affix/meg/A0394/A0394_rejection-epo.fif\n",
      "/scratch/alr664/multiple_affix/meg/A0421/A0421_rejection-epo.fif\n",
      "/scratch/alr664/multiple_affix/meg/A0446/A0446_rejection-epo.fif\n",
      "/scratch/alr664/multiple_affix/meg/A0451/A0451_rejection-epo.fif\n",
      "/scratch/alr664/multiple_affix/meg/A0468/A0468_rejection-epo.fif\n",
      "/scratch/alr664/multiple_affix/meg/A0484/A0484_rejection-epo.fif\n",
      "/scratch/alr664/multiple_affix/meg/A0495/A0495_rejection-epo.fif\n",
      "/scratch/alr664/multiple_affix/meg/A0502/A0502_rejection-epo.fif\n",
      "/scratch/alr664/multiple_affix/meg/A0503/A0503_rejection-epo.fif\n",
      "/scratch/alr664/multiple_affix/meg/A0508/A0508_rejection-epo.fif\n",
      "/scratch/alr664/multiple_affix/meg/A0509/A0509_rejection-epo.fif\n",
      "/scratch/alr664/multiple_affix/meg/A0512/A0512_rejection-epo.fif\n",
      "/scratch/alr664/multiple_affix/meg/A0513/A0513_rejection-epo.fif\n",
      "/scratch/alr664/multiple_affix/meg/A0514/A0514_rejection-epo.fif\n",
      "/scratch/alr664/multiple_affix/meg/A0516/A0516_rejection-epo.fif\n",
      "/scratch/alr664/multiple_affix/meg/A0517/A0517_rejection-epo.fif\n",
      "/scratch/alr664/multiple_affix/meg/A0518/A0518_rejection-epo.fif\n",
      "/scratch/alr664/multiple_affix/meg/A0519/A0519_rejection-epo.fif\n",
      "/scratch/alr664/multiple_affix/meg/A0520/A0520_rejection-epo.fif\n",
      "/scratch/alr664/multiple_affix/meg/A0521/A0521_rejection-epo.fif\n",
      "/scratch/alr664/multiple_affix/meg/A0522/A0522_rejection-epo.fif\n",
      "/scratch/alr664/multiple_affix/meg/A0523/A0523_rejection-epo.fif\n",
      "/scratch/alr664/multiple_affix/meg/A0524/A0524_rejection-epo.fif\n",
      "/scratch/alr664/multiple_affix/meg/A0525/A0525_rejection-epo.fif\n"
     ]
    }
   ],
   "source": [
    "root = '/scratch/alr664/multiple_affix'\n",
    "meg = root + '/meg'\n",
    "logs = root + '/logs'\n",
    "\n",
    "full_dataset = [\"A0394\", \"A0421\", \"A0446\", \"A0451\", \"A0468\", \"A0484\", \"A0495\", \"A0502\", \"A0503\", \"A0508\", \n",
    "                \"A0509\", \"A0512\", \"A0513\", \"A0514\", \"A0516\", \"A0517\", \"A0518\", \"A0519\", \"A0520\", \"A0521\", \n",
    "                \"A0522\", \"A0523\", \"A0524\", \"A0525\"]\n",
    "\n",
    "subjects = [subj for subj in os.listdir(meg) if not subj.startswith('.')]\n",
    "subjects\n",
    "len(subjects)\n",
    "\n",
    "epoch_files = []\n",
    "X = []\n",
    "y = []\n",
    "\n",
    "for subject in full_dataset:\n",
    "    subj_epoch_path = meg + '/' + subject + '/' + subject + '_rejection-epo.fif'\n",
    "    print(subj_epoch_path)\n",
    "    epoch_files.append(subj_epoch_path)\n",
    "\n",
    "#print(epoch_files)"
   ]
  },
  {
   "cell_type": "code",
   "execution_count": 18,
   "id": "37b6d1f1-b124-4a01-8f6e-ad342211117f",
   "metadata": {},
   "outputs": [
    {
     "name": "stderr",
     "output_type": "stream",
     "text": [
      "  0%|          | 0/24 [00:00<?, ?it/s]"
     ]
    },
    {
     "name": "stdout",
     "output_type": "stream",
     "text": [
      "/scratch/alr664/multiple_affix/meg/A0394/A0394_rejection-epo.fif\n"
     ]
    },
    {
     "name": "stderr",
     "output_type": "stream",
     "text": [
      "/state/partition1/job-47276654/ipykernel_1451034/4096894870.py:15: RuntimeWarning: tmax is not in time interval. tmax is set to <class 'mne.epochs.EpochsFIF'>.tmax (0.592 s)\n",
      "  epochs = epochs.crop(tmin=0. , tmax= 0.6)\n",
      "/state/partition1/job-47276654/ipykernel_1451034/4096894870.py:22: FutureWarning: The current default of copy=False will change to copy=True in 1.7. Set the value of copy explicitly to avoid this warning\n",
      "  meg_full_data.append(epochs.get_data())\n",
      "  4%|▍         | 1/24 [00:35<13:40, 35.68s/it]"
     ]
    },
    {
     "name": "stdout",
     "output_type": "stream",
     "text": [
      "/scratch/alr664/multiple_affix/meg/A0421/A0421_rejection-epo.fif\n"
     ]
    },
    {
     "name": "stderr",
     "output_type": "stream",
     "text": [
      "/state/partition1/job-47276654/ipykernel_1451034/4096894870.py:15: RuntimeWarning: tmax is not in time interval. tmax is set to <class 'mne.epochs.EpochsFIF'>.tmax (0.592 s)\n",
      "  epochs = epochs.crop(tmin=0. , tmax= 0.6)\n",
      "/state/partition1/job-47276654/ipykernel_1451034/4096894870.py:22: FutureWarning: The current default of copy=False will change to copy=True in 1.7. Set the value of copy explicitly to avoid this warning\n",
      "  meg_full_data.append(epochs.get_data())\n",
      "  8%|▊         | 2/24 [01:11<13:06, 35.75s/it]"
     ]
    },
    {
     "name": "stdout",
     "output_type": "stream",
     "text": [
      "/scratch/alr664/multiple_affix/meg/A0446/A0446_rejection-epo.fif\n"
     ]
    },
    {
     "name": "stderr",
     "output_type": "stream",
     "text": [
      "/state/partition1/job-47276654/ipykernel_1451034/4096894870.py:15: RuntimeWarning: tmax is not in time interval. tmax is set to <class 'mne.epochs.EpochsFIF'>.tmax (0.592 s)\n",
      "  epochs = epochs.crop(tmin=0. , tmax= 0.6)\n",
      "/state/partition1/job-47276654/ipykernel_1451034/4096894870.py:22: FutureWarning: The current default of copy=False will change to copy=True in 1.7. Set the value of copy explicitly to avoid this warning\n",
      "  meg_full_data.append(epochs.get_data())\n",
      " 12%|█▎        | 3/24 [01:47<12:31, 35.78s/it]"
     ]
    },
    {
     "name": "stdout",
     "output_type": "stream",
     "text": [
      "/scratch/alr664/multiple_affix/meg/A0451/A0451_rejection-epo.fif\n"
     ]
    },
    {
     "name": "stderr",
     "output_type": "stream",
     "text": [
      "/state/partition1/job-47276654/ipykernel_1451034/4096894870.py:15: RuntimeWarning: tmax is not in time interval. tmax is set to <class 'mne.epochs.EpochsFIF'>.tmax (0.592 s)\n",
      "  epochs = epochs.crop(tmin=0. , tmax= 0.6)\n",
      "/state/partition1/job-47276654/ipykernel_1451034/4096894870.py:22: FutureWarning: The current default of copy=False will change to copy=True in 1.7. Set the value of copy explicitly to avoid this warning\n",
      "  meg_full_data.append(epochs.get_data())\n",
      " 17%|█▋        | 4/24 [02:23<11:56, 35.81s/it]"
     ]
    },
    {
     "name": "stdout",
     "output_type": "stream",
     "text": [
      "/scratch/alr664/multiple_affix/meg/A0468/A0468_rejection-epo.fif\n"
     ]
    },
    {
     "name": "stderr",
     "output_type": "stream",
     "text": [
      "/state/partition1/job-47276654/ipykernel_1451034/4096894870.py:15: RuntimeWarning: tmax is not in time interval. tmax is set to <class 'mne.epochs.EpochsFIF'>.tmax (0.592 s)\n",
      "  epochs = epochs.crop(tmin=0. , tmax= 0.6)\n",
      "/state/partition1/job-47276654/ipykernel_1451034/4096894870.py:22: FutureWarning: The current default of copy=False will change to copy=True in 1.7. Set the value of copy explicitly to avoid this warning\n",
      "  meg_full_data.append(epochs.get_data())\n",
      " 21%|██        | 5/24 [02:59<11:21, 35.86s/it]"
     ]
    },
    {
     "name": "stdout",
     "output_type": "stream",
     "text": [
      "/scratch/alr664/multiple_affix/meg/A0484/A0484_rejection-epo.fif\n"
     ]
    },
    {
     "name": "stderr",
     "output_type": "stream",
     "text": [
      "/state/partition1/job-47276654/ipykernel_1451034/4096894870.py:15: RuntimeWarning: tmax is not in time interval. tmax is set to <class 'mne.epochs.EpochsFIF'>.tmax (0.592 s)\n",
      "  epochs = epochs.crop(tmin=0. , tmax= 0.6)\n",
      "/state/partition1/job-47276654/ipykernel_1451034/4096894870.py:22: FutureWarning: The current default of copy=False will change to copy=True in 1.7. Set the value of copy explicitly to avoid this warning\n",
      "  meg_full_data.append(epochs.get_data())\n",
      " 25%|██▌       | 6/24 [03:35<10:45, 35.88s/it]"
     ]
    },
    {
     "name": "stdout",
     "output_type": "stream",
     "text": [
      "/scratch/alr664/multiple_affix/meg/A0495/A0495_rejection-epo.fif\n"
     ]
    },
    {
     "name": "stderr",
     "output_type": "stream",
     "text": [
      "/state/partition1/job-47276654/ipykernel_1451034/4096894870.py:15: RuntimeWarning: tmax is not in time interval. tmax is set to <class 'mne.epochs.EpochsFIF'>.tmax (0.592 s)\n",
      "  epochs = epochs.crop(tmin=0. , tmax= 0.6)\n",
      "/state/partition1/job-47276654/ipykernel_1451034/4096894870.py:22: FutureWarning: The current default of copy=False will change to copy=True in 1.7. Set the value of copy explicitly to avoid this warning\n",
      "  meg_full_data.append(epochs.get_data())\n",
      " 29%|██▉       | 7/24 [04:10<10:09, 35.85s/it]"
     ]
    },
    {
     "name": "stdout",
     "output_type": "stream",
     "text": [
      "/scratch/alr664/multiple_affix/meg/A0502/A0502_rejection-epo.fif\n"
     ]
    },
    {
     "name": "stderr",
     "output_type": "stream",
     "text": [
      "/state/partition1/job-47276654/ipykernel_1451034/4096894870.py:15: RuntimeWarning: tmax is not in time interval. tmax is set to <class 'mne.epochs.EpochsFIF'>.tmax (0.592 s)\n",
      "  epochs = epochs.crop(tmin=0. , tmax= 0.6)\n",
      "/state/partition1/job-47276654/ipykernel_1451034/4096894870.py:22: FutureWarning: The current default of copy=False will change to copy=True in 1.7. Set the value of copy explicitly to avoid this warning\n",
      "  meg_full_data.append(epochs.get_data())\n",
      " 33%|███▎      | 8/24 [04:46<09:32, 35.78s/it]"
     ]
    },
    {
     "name": "stdout",
     "output_type": "stream",
     "text": [
      "/scratch/alr664/multiple_affix/meg/A0503/A0503_rejection-epo.fif\n"
     ]
    },
    {
     "name": "stderr",
     "output_type": "stream",
     "text": [
      "/state/partition1/job-47276654/ipykernel_1451034/4096894870.py:15: RuntimeWarning: tmax is not in time interval. tmax is set to <class 'mne.epochs.EpochsFIF'>.tmax (0.592 s)\n",
      "  epochs = epochs.crop(tmin=0. , tmax= 0.6)\n",
      "/state/partition1/job-47276654/ipykernel_1451034/4096894870.py:22: FutureWarning: The current default of copy=False will change to copy=True in 1.7. Set the value of copy explicitly to avoid this warning\n",
      "  meg_full_data.append(epochs.get_data())\n",
      " 38%|███▊      | 9/24 [05:21<08:55, 35.67s/it]"
     ]
    },
    {
     "name": "stdout",
     "output_type": "stream",
     "text": [
      "/scratch/alr664/multiple_affix/meg/A0508/A0508_rejection-epo.fif\n"
     ]
    },
    {
     "name": "stderr",
     "output_type": "stream",
     "text": [
      "/state/partition1/job-47276654/ipykernel_1451034/4096894870.py:15: RuntimeWarning: tmax is not in time interval. tmax is set to <class 'mne.epochs.EpochsFIF'>.tmax (0.592 s)\n",
      "  epochs = epochs.crop(tmin=0. , tmax= 0.6)\n",
      "/state/partition1/job-47276654/ipykernel_1451034/4096894870.py:22: FutureWarning: The current default of copy=False will change to copy=True in 1.7. Set the value of copy explicitly to avoid this warning\n",
      "  meg_full_data.append(epochs.get_data())\n",
      " 42%|████▏     | 10/24 [05:57<08:19, 35.70s/it]"
     ]
    },
    {
     "name": "stdout",
     "output_type": "stream",
     "text": [
      "/scratch/alr664/multiple_affix/meg/A0509/A0509_rejection-epo.fif\n"
     ]
    },
    {
     "name": "stderr",
     "output_type": "stream",
     "text": [
      "/state/partition1/job-47276654/ipykernel_1451034/4096894870.py:15: RuntimeWarning: tmax is not in time interval. tmax is set to <class 'mne.epochs.EpochsFIF'>.tmax (0.592 s)\n",
      "  epochs = epochs.crop(tmin=0. , tmax= 0.6)\n",
      "/state/partition1/job-47276654/ipykernel_1451034/4096894870.py:22: FutureWarning: The current default of copy=False will change to copy=True in 1.7. Set the value of copy explicitly to avoid this warning\n",
      "  meg_full_data.append(epochs.get_data())\n",
      " 46%|████▌     | 11/24 [06:33<07:44, 35.70s/it]"
     ]
    },
    {
     "name": "stdout",
     "output_type": "stream",
     "text": [
      "/scratch/alr664/multiple_affix/meg/A0512/A0512_rejection-epo.fif\n"
     ]
    },
    {
     "name": "stderr",
     "output_type": "stream",
     "text": [
      "/state/partition1/job-47276654/ipykernel_1451034/4096894870.py:15: RuntimeWarning: tmax is not in time interval. tmax is set to <class 'mne.epochs.EpochsFIF'>.tmax (0.592 s)\n",
      "  epochs = epochs.crop(tmin=0. , tmax= 0.6)\n",
      "/state/partition1/job-47276654/ipykernel_1451034/4096894870.py:22: FutureWarning: The current default of copy=False will change to copy=True in 1.7. Set the value of copy explicitly to avoid this warning\n",
      "  meg_full_data.append(epochs.get_data())\n",
      " 50%|█████     | 12/24 [07:09<07:09, 35.78s/it]"
     ]
    },
    {
     "name": "stdout",
     "output_type": "stream",
     "text": [
      "/scratch/alr664/multiple_affix/meg/A0513/A0513_rejection-epo.fif\n"
     ]
    },
    {
     "name": "stderr",
     "output_type": "stream",
     "text": [
      "/state/partition1/job-47276654/ipykernel_1451034/4096894870.py:15: RuntimeWarning: tmax is not in time interval. tmax is set to <class 'mne.epochs.EpochsFIF'>.tmax (0.592 s)\n",
      "  epochs = epochs.crop(tmin=0. , tmax= 0.6)\n",
      "/state/partition1/job-47276654/ipykernel_1451034/4096894870.py:22: FutureWarning: The current default of copy=False will change to copy=True in 1.7. Set the value of copy explicitly to avoid this warning\n",
      "  meg_full_data.append(epochs.get_data())\n",
      " 54%|█████▍    | 13/24 [07:45<06:33, 35.76s/it]"
     ]
    },
    {
     "name": "stdout",
     "output_type": "stream",
     "text": [
      "/scratch/alr664/multiple_affix/meg/A0514/A0514_rejection-epo.fif\n"
     ]
    },
    {
     "name": "stderr",
     "output_type": "stream",
     "text": [
      "/state/partition1/job-47276654/ipykernel_1451034/4096894870.py:15: RuntimeWarning: tmax is not in time interval. tmax is set to <class 'mne.epochs.EpochsFIF'>.tmax (0.592 s)\n",
      "  epochs = epochs.crop(tmin=0. , tmax= 0.6)\n",
      "/state/partition1/job-47276654/ipykernel_1451034/4096894870.py:22: FutureWarning: The current default of copy=False will change to copy=True in 1.7. Set the value of copy explicitly to avoid this warning\n",
      "  meg_full_data.append(epochs.get_data())\n",
      " 58%|█████▊    | 14/24 [08:20<05:57, 35.77s/it]"
     ]
    },
    {
     "name": "stdout",
     "output_type": "stream",
     "text": [
      "/scratch/alr664/multiple_affix/meg/A0516/A0516_rejection-epo.fif\n"
     ]
    },
    {
     "name": "stderr",
     "output_type": "stream",
     "text": [
      "/state/partition1/job-47276654/ipykernel_1451034/4096894870.py:15: RuntimeWarning: tmax is not in time interval. tmax is set to <class 'mne.epochs.EpochsFIF'>.tmax (0.592 s)\n",
      "  epochs = epochs.crop(tmin=0. , tmax= 0.6)\n",
      "/state/partition1/job-47276654/ipykernel_1451034/4096894870.py:22: FutureWarning: The current default of copy=False will change to copy=True in 1.7. Set the value of copy explicitly to avoid this warning\n",
      "  meg_full_data.append(epochs.get_data())\n",
      " 62%|██████▎   | 15/24 [08:56<05:22, 35.79s/it]"
     ]
    },
    {
     "name": "stdout",
     "output_type": "stream",
     "text": [
      "/scratch/alr664/multiple_affix/meg/A0517/A0517_rejection-epo.fif\n"
     ]
    },
    {
     "name": "stderr",
     "output_type": "stream",
     "text": [
      "/state/partition1/job-47276654/ipykernel_1451034/4096894870.py:15: RuntimeWarning: tmax is not in time interval. tmax is set to <class 'mne.epochs.EpochsFIF'>.tmax (0.592 s)\n",
      "  epochs = epochs.crop(tmin=0. , tmax= 0.6)\n",
      "/state/partition1/job-47276654/ipykernel_1451034/4096894870.py:22: FutureWarning: The current default of copy=False will change to copy=True in 1.7. Set the value of copy explicitly to avoid this warning\n",
      "  meg_full_data.append(epochs.get_data())\n",
      " 67%|██████▋   | 16/24 [09:32<04:46, 35.79s/it]"
     ]
    },
    {
     "name": "stdout",
     "output_type": "stream",
     "text": [
      "/scratch/alr664/multiple_affix/meg/A0518/A0518_rejection-epo.fif\n"
     ]
    },
    {
     "name": "stderr",
     "output_type": "stream",
     "text": [
      "/state/partition1/job-47276654/ipykernel_1451034/4096894870.py:15: RuntimeWarning: tmax is not in time interval. tmax is set to <class 'mne.epochs.EpochsFIF'>.tmax (0.592 s)\n",
      "  epochs = epochs.crop(tmin=0. , tmax= 0.6)\n",
      "/state/partition1/job-47276654/ipykernel_1451034/4096894870.py:22: FutureWarning: The current default of copy=False will change to copy=True in 1.7. Set the value of copy explicitly to avoid this warning\n",
      "  meg_full_data.append(epochs.get_data())\n",
      " 71%|███████   | 17/24 [10:08<04:10, 35.82s/it]"
     ]
    },
    {
     "name": "stdout",
     "output_type": "stream",
     "text": [
      "/scratch/alr664/multiple_affix/meg/A0519/A0519_rejection-epo.fif\n"
     ]
    },
    {
     "name": "stderr",
     "output_type": "stream",
     "text": [
      "/state/partition1/job-47276654/ipykernel_1451034/4096894870.py:15: RuntimeWarning: tmax is not in time interval. tmax is set to <class 'mne.epochs.EpochsFIF'>.tmax (0.592 s)\n",
      "  epochs = epochs.crop(tmin=0. , tmax= 0.6)\n",
      "/state/partition1/job-47276654/ipykernel_1451034/4096894870.py:22: FutureWarning: The current default of copy=False will change to copy=True in 1.7. Set the value of copy explicitly to avoid this warning\n",
      "  meg_full_data.append(epochs.get_data())\n",
      " 75%|███████▌  | 18/24 [10:44<03:34, 35.79s/it]"
     ]
    },
    {
     "name": "stdout",
     "output_type": "stream",
     "text": [
      "/scratch/alr664/multiple_affix/meg/A0520/A0520_rejection-epo.fif\n"
     ]
    },
    {
     "name": "stderr",
     "output_type": "stream",
     "text": [
      "/state/partition1/job-47276654/ipykernel_1451034/4096894870.py:15: RuntimeWarning: tmax is not in time interval. tmax is set to <class 'mne.epochs.EpochsFIF'>.tmax (0.592 s)\n",
      "  epochs = epochs.crop(tmin=0. , tmax= 0.6)\n",
      "/state/partition1/job-47276654/ipykernel_1451034/4096894870.py:22: FutureWarning: The current default of copy=False will change to copy=True in 1.7. Set the value of copy explicitly to avoid this warning\n",
      "  meg_full_data.append(epochs.get_data())\n",
      " 79%|███████▉  | 19/24 [11:19<02:59, 35.80s/it]"
     ]
    },
    {
     "name": "stdout",
     "output_type": "stream",
     "text": [
      "/scratch/alr664/multiple_affix/meg/A0521/A0521_rejection-epo.fif\n"
     ]
    },
    {
     "name": "stderr",
     "output_type": "stream",
     "text": [
      "/state/partition1/job-47276654/ipykernel_1451034/4096894870.py:15: RuntimeWarning: tmax is not in time interval. tmax is set to <class 'mne.epochs.EpochsFIF'>.tmax (0.592 s)\n",
      "  epochs = epochs.crop(tmin=0. , tmax= 0.6)\n",
      "/state/partition1/job-47276654/ipykernel_1451034/4096894870.py:22: FutureWarning: The current default of copy=False will change to copy=True in 1.7. Set the value of copy explicitly to avoid this warning\n",
      "  meg_full_data.append(epochs.get_data())\n",
      " 83%|████████▎ | 20/24 [11:55<02:23, 35.82s/it]"
     ]
    },
    {
     "name": "stdout",
     "output_type": "stream",
     "text": [
      "/scratch/alr664/multiple_affix/meg/A0522/A0522_rejection-epo.fif\n"
     ]
    },
    {
     "name": "stderr",
     "output_type": "stream",
     "text": [
      "/state/partition1/job-47276654/ipykernel_1451034/4096894870.py:15: RuntimeWarning: tmax is not in time interval. tmax is set to <class 'mne.epochs.EpochsFIF'>.tmax (0.592 s)\n",
      "  epochs = epochs.crop(tmin=0. , tmax= 0.6)\n",
      "/state/partition1/job-47276654/ipykernel_1451034/4096894870.py:22: FutureWarning: The current default of copy=False will change to copy=True in 1.7. Set the value of copy explicitly to avoid this warning\n",
      "  meg_full_data.append(epochs.get_data())\n",
      " 88%|████████▊ | 21/24 [12:31<01:47, 35.81s/it]"
     ]
    },
    {
     "name": "stdout",
     "output_type": "stream",
     "text": [
      "/scratch/alr664/multiple_affix/meg/A0523/A0523_rejection-epo.fif\n"
     ]
    },
    {
     "name": "stderr",
     "output_type": "stream",
     "text": [
      "/state/partition1/job-47276654/ipykernel_1451034/4096894870.py:15: RuntimeWarning: tmax is not in time interval. tmax is set to <class 'mne.epochs.EpochsFIF'>.tmax (0.592 s)\n",
      "  epochs = epochs.crop(tmin=0. , tmax= 0.6)\n",
      "/state/partition1/job-47276654/ipykernel_1451034/4096894870.py:22: FutureWarning: The current default of copy=False will change to copy=True in 1.7. Set the value of copy explicitly to avoid this warning\n",
      "  meg_full_data.append(epochs.get_data())\n",
      " 92%|█████████▏| 22/24 [13:07<01:11, 35.85s/it]"
     ]
    },
    {
     "name": "stdout",
     "output_type": "stream",
     "text": [
      "/scratch/alr664/multiple_affix/meg/A0524/A0524_rejection-epo.fif\n"
     ]
    },
    {
     "name": "stderr",
     "output_type": "stream",
     "text": [
      "/state/partition1/job-47276654/ipykernel_1451034/4096894870.py:15: RuntimeWarning: tmax is not in time interval. tmax is set to <class 'mne.epochs.EpochsFIF'>.tmax (0.592 s)\n",
      "  epochs = epochs.crop(tmin=0. , tmax= 0.6)\n",
      "/state/partition1/job-47276654/ipykernel_1451034/4096894870.py:22: FutureWarning: The current default of copy=False will change to copy=True in 1.7. Set the value of copy explicitly to avoid this warning\n",
      "  meg_full_data.append(epochs.get_data())\n",
      " 96%|█████████▌| 23/24 [13:43<00:35, 35.77s/it]"
     ]
    },
    {
     "name": "stdout",
     "output_type": "stream",
     "text": [
      "/scratch/alr664/multiple_affix/meg/A0525/A0525_rejection-epo.fif\n"
     ]
    },
    {
     "name": "stderr",
     "output_type": "stream",
     "text": [
      "/state/partition1/job-47276654/ipykernel_1451034/4096894870.py:15: RuntimeWarning: tmax is not in time interval. tmax is set to <class 'mne.epochs.EpochsFIF'>.tmax (0.592 s)\n",
      "  epochs = epochs.crop(tmin=0. , tmax= 0.6)\n",
      "/state/partition1/job-47276654/ipykernel_1451034/4096894870.py:22: FutureWarning: The current default of copy=False will change to copy=True in 1.7. Set the value of copy explicitly to avoid this warning\n",
      "  meg_full_data.append(epochs.get_data())\n",
      "100%|██████████| 24/24 [14:18<00:00, 35.78s/it]\n"
     ]
    },
    {
     "name": "stdout",
     "output_type": "stream",
     "text": [
      "meg full data shape:  (45264, 207, 75) (24, 1886)\n"
     ]
    }
   ],
   "source": [
    "## 3-class classification code\n",
    "\n",
    "import mne\n",
    "from glob import glob\n",
    "from tqdm import tqdm\n",
    "\n",
    "X = []\n",
    "y = []\n",
    "meg_full_data = [] \n",
    "labels_full_data = []\n",
    "for epoch_file in tqdm(epoch_files):\n",
    "    print(epoch_file)\n",
    "    epochs = mne.read_epochs(epoch_file)\n",
    "    epochs = epochs.resample(125)\n",
    "    epochs = epochs.crop(tmin=0. , tmax= 0.6)\n",
    "    #print(epochs.times)\n",
    "    # combine for 3-class classification\n",
    "    epochs = mne.epochs.combine_event_ids(epochs, ['0Suff NW', '0Suff w/o Lat.', '0Suff w/ Lat'],  {'0Suff': 100},  True)\n",
    "    epochs = mne.epochs.combine_event_ids(epochs, ['1Suff PseudoStemNW', '1Suff RealStemNW', '1Suff w/ Lat.', '1Suff w/o Lat.'],  {'1Suff': 101},  True)\n",
    "    epochs = mne.epochs.combine_event_ids(epochs, ['2Suff RealStemNW', '2Suff PseudoStemNW', '2Suff w/ Lat.', '2Suff w/o Lat.', '2Suff Composite'],  {'2Suff': 102},  True)  \n",
    "    \n",
    "    meg_full_data.append(epochs.get_data())\n",
    "    labels_full_data.append(epochs.events[:, 2])\n",
    "    \n",
    "    del epochs\n",
    "    \n",
    "meg_full_data = np.vstack(meg_full_data)\n",
    "labels_full_data = np.vstack(labels_full_data)\n",
    "np.save('./meg_full_data.npy', meg_full_data)\n",
    "np.save('./labels.npy', labels_full_data.reshape(-1))\n",
    "print(\"meg full data shape: \", meg_full_data.shape, labels_full_data.shape)"
   ]
  },
  {
   "cell_type": "code",
   "execution_count": 19,
   "id": "f3b7cbba-d5b6-4f25-8a9a-aed24c2464c1",
   "metadata": {},
   "outputs": [
    {
     "name": "stdout",
     "output_type": "stream",
     "text": [
      "(45264, 207, 75) (45264,)\n"
     ]
    }
   ],
   "source": [
    "meg_full_data = np.load('./meg_full_data.npy')\n",
    "labels_full_data = np.load('./labels.npy')\n",
    "\n",
    "print(meg_full_data.shape, labels_full_data.shape)"
   ]
  },
  {
   "cell_type": "code",
   "execution_count": 20,
   "id": "ef60e2ca-8805-4e14-ae3e-f57d8ede876d",
   "metadata": {},
   "outputs": [
    {
     "name": "stdout",
     "output_type": "stream",
     "text": [
      "(207, 75)\n"
     ]
    }
   ],
   "source": [
    "## 3-class classification code\n",
    "#y_cat = np.array([int(yi[0]) for yi in y])\n",
    "#print(y_cat.shape)\n",
    "\n",
    "np.unique(labels_full_data)\n",
    "print(meg_full_data.shape[1:])\n",
    "\n",
    "#labels_full_data = np.where(labels_full_data == 12, 0, labels)\n",
    "#labels_full_data = np.where(labels_full_data == 14, 3, labels) \n",
    "#labels_full_data = np.where(labels_full_data == 15, 5, labels)\n",
    "#labels_full_data = np.where(labels_full_data == 21, 6, labels)\n",
    "#labels_full_data = np.where(labels_full_data == 22, 7, labels)\n",
    "#labels_full_data = np.where(labels_full_data == 23, 8, labels)\n",
    "#labels_full_data = np.where(labels_full_data == 24, 9, labels)\n",
    "#labels_full_data = np.where(labels_full_data == 25, 10, labels)"
   ]
  },
  {
   "cell_type": "code",
   "execution_count": 21,
   "id": "25d79739-d8d4-493d-92fd-551464d7d0ce",
   "metadata": {},
   "outputs": [
    {
     "data": {
      "text/plain": [
       "array([0, 1, 2], dtype=int32)"
      ]
     },
     "execution_count": 21,
     "metadata": {},
     "output_type": "execute_result"
    }
   ],
   "source": [
    "labels_full_data = np.where(labels_full_data == 100, 0, labels_full_data)\n",
    "labels_full_data = np.where(labels_full_data == 101, 1, labels_full_data)\n",
    "labels_full_data = np.where(labels_full_data == 102, 2, labels_full_data)\n",
    "np.unique(labels_full_data)"
   ]
  },
  {
   "cell_type": "code",
   "execution_count": 22,
   "id": "30763664-a548-4051-b6e6-98875e9c5a9b",
   "metadata": {},
   "outputs": [
    {
     "data": {
      "text/plain": [
       "array([0, 1, 2], dtype=int32)"
      ]
     },
     "execution_count": 22,
     "metadata": {},
     "output_type": "execute_result"
    }
   ],
   "source": [
    "np.unique(labels_full_data)"
   ]
  },
  {
   "cell_type": "code",
   "execution_count": 50,
   "id": "ba93ba32-29de-4a40-a127-c3a08d698a73",
   "metadata": {},
   "outputs": [],
   "source": [
    "## Classification using GRU\n",
    "\n",
    "from tensorflow.keras.models import Model\n",
    "from tensorflow.keras.layers import Input, LSTM, Dense, GRU, Dropout\n",
    "from tensorflow.keras.optimizers import Adam\n",
    "import numpy as np\n",
    "from sklearn.model_selection import train_test_split\n",
    "from tensorflow.keras.utils import to_categorical\n",
    "\n",
    "# Define the model architecture with increased complexity\n",
    "input_layer = Input(shape=meg_full_data.shape[1:])\n",
    "\n",
    "# Increase the number of units and add more layers\n",
    "x = GRU(128, return_sequences=True)(input_layer)\n",
    "x = Dropout(0.2)(x)  # Add dropout for regularization\n",
    "x = GRU(128, return_sequences=True)(x)\n",
    "x = Dropout(0.2)(x)  # Add dropout for regularization\n",
    "x = GRU(128)(x)  # Last GRU layer does not return sequences\n",
    "x = Dropout(0.2)(x)  # Add dropout for regularization\n",
    " \n",
    "# Increase the complexity of the model further by adding Dense layers before the output\n",
    "x = Dense(64, activation='relu')(x)\n",
    "x = Dropout(0.2)(x)  # Add dropout for regularization\n",
    "x = Dense(64, activation='relu')(x)\n",
    "x = Dropout(0.2)(x)  # Add dropout for regularization\n",
    " \n",
    "#output_layer = Dense(1)(x)\n",
    "\n",
    "output_layer = Dense(len(np.unique(labels_full_data)), activation='softmax')(x)\n",
    " \n",
    "model = Model(inputs=input_layer, outputs=output_layer)\n",
    " \n",
    "# Compile the model\n",
    "model.compile(optimizer=Adam(learning_rate=0.001), loss=\"sparse_categorical_crossentropy\", metrics=['accuracy'])"
   ]
  },
  {
   "cell_type": "code",
   "execution_count": 51,
   "id": "1db71d35-216d-47a7-b70c-4441dbe292d6",
   "metadata": {},
   "outputs": [],
   "source": [
    "from sklearn.model_selection import train_test_split\n",
    "\n",
    "X_train, X_test, y_train, y_test = train_test_split(meg_full_data, labels_full_data, test_size=0.2)"
   ]
  },
  {
   "cell_type": "code",
   "execution_count": 52,
   "id": "81ea3ce7-0e32-43ea-a6ac-157b1106e0aa",
   "metadata": {},
   "outputs": [
    {
     "name": "stdout",
     "output_type": "stream",
     "text": [
      "Epoch 1/30\n",
      "\u001b[1m566/566\u001b[0m \u001b[32m━━━━━━━━━━━━━━━━━━━━\u001b[0m\u001b[37m\u001b[0m \u001b[1m18s\u001b[0m 27ms/step - accuracy: 0.4275 - loss: 1.0815\n",
      "Epoch 2/30\n",
      "\u001b[1m566/566\u001b[0m \u001b[32m━━━━━━━━━━━━━━━━━━━━\u001b[0m\u001b[37m\u001b[0m \u001b[1m15s\u001b[0m 27ms/step - accuracy: 0.4260 - loss: 1.0806\n",
      "Epoch 3/30\n",
      "\u001b[1m566/566\u001b[0m \u001b[32m━━━━━━━━━━━━━━━━━━━━\u001b[0m\u001b[37m\u001b[0m \u001b[1m15s\u001b[0m 27ms/step - accuracy: 0.4247 - loss: 1.0805\n",
      "Epoch 4/30\n",
      "\u001b[1m566/566\u001b[0m \u001b[32m━━━━━━━━━━━━━━━━━━━━\u001b[0m\u001b[37m\u001b[0m \u001b[1m15s\u001b[0m 27ms/step - accuracy: 0.4240 - loss: 1.0808\n",
      "Epoch 5/30\n",
      "\u001b[1m566/566\u001b[0m \u001b[32m━━━━━━━━━━━━━━━━━━━━\u001b[0m\u001b[37m\u001b[0m \u001b[1m15s\u001b[0m 27ms/step - accuracy: 0.4242 - loss: 1.0803\n",
      "Epoch 6/30\n",
      "\u001b[1m566/566\u001b[0m \u001b[32m━━━━━━━━━━━━━━━━━━━━\u001b[0m\u001b[37m\u001b[0m \u001b[1m15s\u001b[0m 27ms/step - accuracy: 0.4268 - loss: 1.0789\n",
      "Epoch 7/30\n",
      "\u001b[1m566/566\u001b[0m \u001b[32m━━━━━━━━━━━━━━━━━━━━\u001b[0m\u001b[37m\u001b[0m \u001b[1m15s\u001b[0m 27ms/step - accuracy: 0.4271 - loss: 1.0794\n",
      "Epoch 8/30\n",
      "\u001b[1m566/566\u001b[0m \u001b[32m━━━━━━━━━━━━━━━━━━━━\u001b[0m\u001b[37m\u001b[0m \u001b[1m15s\u001b[0m 27ms/step - accuracy: 0.4259 - loss: 1.0795\n",
      "Epoch 9/30\n",
      "\u001b[1m566/566\u001b[0m \u001b[32m━━━━━━━━━━━━━━━━━━━━\u001b[0m\u001b[37m\u001b[0m \u001b[1m15s\u001b[0m 27ms/step - accuracy: 0.4231 - loss: 1.0809\n",
      "Epoch 10/30\n",
      "\u001b[1m566/566\u001b[0m \u001b[32m━━━━━━━━━━━━━━━━━━━━\u001b[0m\u001b[37m\u001b[0m \u001b[1m15s\u001b[0m 27ms/step - accuracy: 0.4266 - loss: 1.0793\n",
      "Epoch 11/30\n",
      "\u001b[1m566/566\u001b[0m \u001b[32m━━━━━━━━━━━━━━━━━━━━\u001b[0m\u001b[37m\u001b[0m \u001b[1m15s\u001b[0m 27ms/step - accuracy: 0.4237 - loss: 1.0803\n",
      "Epoch 12/30\n",
      "\u001b[1m566/566\u001b[0m \u001b[32m━━━━━━━━━━━━━━━━━━━━\u001b[0m\u001b[37m\u001b[0m \u001b[1m15s\u001b[0m 27ms/step - accuracy: 0.4310 - loss: 1.0776\n",
      "Epoch 13/30\n",
      "\u001b[1m566/566\u001b[0m \u001b[32m━━━━━━━━━━━━━━━━━━━━\u001b[0m\u001b[37m\u001b[0m \u001b[1m15s\u001b[0m 27ms/step - accuracy: 0.4248 - loss: 1.0806\n",
      "Epoch 14/30\n",
      "\u001b[1m566/566\u001b[0m \u001b[32m━━━━━━━━━━━━━━━━━━━━\u001b[0m\u001b[37m\u001b[0m \u001b[1m15s\u001b[0m 27ms/step - accuracy: 0.4234 - loss: 1.0807\n",
      "Epoch 15/30\n",
      "\u001b[1m566/566\u001b[0m \u001b[32m━━━━━━━━━━━━━━━━━━━━\u001b[0m\u001b[37m\u001b[0m \u001b[1m15s\u001b[0m 27ms/step - accuracy: 0.4279 - loss: 1.0788\n",
      "Epoch 16/30\n",
      "\u001b[1m566/566\u001b[0m \u001b[32m━━━━━━━━━━━━━━━━━━━━\u001b[0m\u001b[37m\u001b[0m \u001b[1m15s\u001b[0m 27ms/step - accuracy: 0.4213 - loss: 1.0813\n",
      "Epoch 17/30\n",
      "\u001b[1m566/566\u001b[0m \u001b[32m━━━━━━━━━━━━━━━━━━━━\u001b[0m\u001b[37m\u001b[0m \u001b[1m15s\u001b[0m 27ms/step - accuracy: 0.4251 - loss: 1.0799\n",
      "Epoch 18/30\n",
      "\u001b[1m566/566\u001b[0m \u001b[32m━━━━━━━━━━━━━━━━━━━━\u001b[0m\u001b[37m\u001b[0m \u001b[1m15s\u001b[0m 27ms/step - accuracy: 0.4248 - loss: 1.0800\n",
      "Epoch 19/30\n",
      "\u001b[1m566/566\u001b[0m \u001b[32m━━━━━━━━━━━━━━━━━━━━\u001b[0m\u001b[37m\u001b[0m \u001b[1m15s\u001b[0m 27ms/step - accuracy: 0.4245 - loss: 1.0804\n",
      "Epoch 20/30\n",
      "\u001b[1m566/566\u001b[0m \u001b[32m━━━━━━━━━━━━━━━━━━━━\u001b[0m\u001b[37m\u001b[0m \u001b[1m15s\u001b[0m 27ms/step - accuracy: 0.4269 - loss: 1.0789\n",
      "Epoch 21/30\n",
      "\u001b[1m566/566\u001b[0m \u001b[32m━━━━━━━━━━━━━━━━━━━━\u001b[0m\u001b[37m\u001b[0m \u001b[1m15s\u001b[0m 27ms/step - accuracy: 0.4278 - loss: 1.0786\n",
      "Epoch 22/30\n",
      "\u001b[1m566/566\u001b[0m \u001b[32m━━━━━━━━━━━━━━━━━━━━\u001b[0m\u001b[37m\u001b[0m \u001b[1m15s\u001b[0m 27ms/step - accuracy: 0.4212 - loss: 1.0813\n",
      "Epoch 23/30\n",
      "\u001b[1m566/566\u001b[0m \u001b[32m━━━━━━━━━━━━━━━━━━━━\u001b[0m\u001b[37m\u001b[0m \u001b[1m15s\u001b[0m 27ms/step - accuracy: 0.4260 - loss: 1.0794\n",
      "Epoch 24/30\n",
      "\u001b[1m566/566\u001b[0m \u001b[32m━━━━━━━━━━━━━━━━━━━━\u001b[0m\u001b[37m\u001b[0m \u001b[1m15s\u001b[0m 27ms/step - accuracy: 0.4279 - loss: 1.0788\n",
      "Epoch 25/30\n",
      "\u001b[1m566/566\u001b[0m \u001b[32m━━━━━━━━━━━━━━━━━━━━\u001b[0m\u001b[37m\u001b[0m \u001b[1m15s\u001b[0m 27ms/step - accuracy: 0.4274 - loss: 1.0793\n",
      "Epoch 26/30\n",
      "\u001b[1m566/566\u001b[0m \u001b[32m━━━━━━━━━━━━━━━━━━━━\u001b[0m\u001b[37m\u001b[0m \u001b[1m15s\u001b[0m 27ms/step - accuracy: 0.4266 - loss: 1.0791\n",
      "Epoch 27/30\n",
      "\u001b[1m566/566\u001b[0m \u001b[32m━━━━━━━━━━━━━━━━━━━━\u001b[0m\u001b[37m\u001b[0m \u001b[1m15s\u001b[0m 27ms/step - accuracy: 0.4263 - loss: 1.0793\n",
      "Epoch 28/30\n",
      "\u001b[1m566/566\u001b[0m \u001b[32m━━━━━━━━━━━━━━━━━━━━\u001b[0m\u001b[37m\u001b[0m \u001b[1m15s\u001b[0m 27ms/step - accuracy: 0.4258 - loss: 1.0796\n",
      "Epoch 29/30\n",
      "\u001b[1m566/566\u001b[0m \u001b[32m━━━━━━━━━━━━━━━━━━━━\u001b[0m\u001b[37m\u001b[0m \u001b[1m15s\u001b[0m 27ms/step - accuracy: 0.4278 - loss: 1.0785\n",
      "Epoch 30/30\n",
      "\u001b[1m566/566\u001b[0m \u001b[32m━━━━━━━━━━━━━━━━━━━━\u001b[0m\u001b[37m\u001b[0m \u001b[1m15s\u001b[0m 27ms/step - accuracy: 0.4261 - loss: 1.0795\n"
     ]
    },
    {
     "data": {
      "text/plain": [
       "<keras.src.callbacks.history.History at 0x14965373f860>"
      ]
     },
     "execution_count": 52,
     "metadata": {},
     "output_type": "execute_result"
    }
   ],
   "source": [
    "# Train the model\n",
    "model.fit(X_train, y_train, batch_size=64, epochs=30, verbose=True)"
   ]
  },
  {
   "cell_type": "code",
   "execution_count": 56,
   "id": "a5fc6958-2036-4db5-a38f-4f26e958603c",
   "metadata": {},
   "outputs": [
    {
     "name": "stdout",
     "output_type": "stream",
     "text": [
      "\u001b[1m283/283\u001b[0m \u001b[32m━━━━━━━━━━━━━━━━━━━━\u001b[0m\u001b[37m\u001b[0m \u001b[1m3s\u001b[0m 10ms/step - accuracy: 0.4360 - loss: 1.0743\n",
      "Test Accuracy: 0.4265\n"
     ]
    }
   ],
   "source": [
    "# Evaluate the model on the test set\n",
    "#X_test, y_test = meg_full_data[43378:], labels_full_data[43378:]\n",
    "loss, accuracy = model.evaluate(X_test, y_test, verbose=1)\n",
    "print(f'Test Accuracy: {accuracy:.4f}')"
   ]
  },
  {
   "cell_type": "code",
   "execution_count": 57,
   "id": "7ed54331-0882-48b5-938d-927af4dd85e0",
   "metadata": {},
   "outputs": [
    {
     "name": "stdout",
     "output_type": "stream",
     "text": [
      "\u001b[1m283/283\u001b[0m \u001b[32m━━━━━━━━━━━━━━━━━━━━\u001b[0m\u001b[37m\u001b[0m \u001b[1m2s\u001b[0m 9ms/step\n"
     ]
    }
   ],
   "source": [
    "y_pred = model.predict(X_test)"
   ]
  },
  {
   "cell_type": "code",
   "execution_count": 58,
   "id": "6213ba4d-dc36-47ef-8ec7-b9b533983a63",
   "metadata": {},
   "outputs": [
    {
     "name": "stdout",
     "output_type": "stream",
     "text": [
      "[[0.27404144 0.3007309  0.4252276 ]\n",
      " [0.27404144 0.3007309  0.4252276 ]\n",
      " [0.27404144 0.3007309  0.4252276 ]\n",
      " ...\n",
      " [0.27404144 0.3007309  0.4252276 ]\n",
      " [0.27404144 0.3007309  0.4252276 ]\n",
      " [0.27404144 0.3007309  0.4252276 ]]\n"
     ]
    }
   ],
   "source": [
    "print(y_pred)"
   ]
  },
  {
   "cell_type": "code",
   "execution_count": null,
   "id": "1ab7cce7-5696-47b3-a5ee-5c9198dca1e3",
   "metadata": {},
   "outputs": [],
   "source": []
  }
 ],
 "metadata": {
  "kernelspec": {
   "display_name": "aifsr_env",
   "language": "python",
   "name": "aifsr_env"
  },
  "language_info": {
   "codemirror_mode": {
    "name": "ipython",
    "version": 3
   },
   "file_extension": ".py",
   "mimetype": "text/x-python",
   "name": "python",
   "nbconvert_exporter": "python",
   "pygments_lexer": "ipython3",
   "version": "3.12.1"
  }
 },
 "nbformat": 4,
 "nbformat_minor": 5
}
